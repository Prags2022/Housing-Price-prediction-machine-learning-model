{
 "cells": [
  {
   "cell_type": "markdown",
   "id": "3329031c",
   "metadata": {},
   "source": [
    "# Objective\n",
    " You are the best data scientist in Greenland and they've hired you to solve this problem. Now you are responsible for developing a model that will predict the chances of survival of a patient after 1 year of treatment (Survived_1_year).\n",
    "\n",
    "Evaluation Criteria Submissions are evaluated using the F1 Score. How do we do it?\n",
    "\n",
    "Once you generate and submit the target variable predictions on evaluation dataset, your submissions will be compared with the true values of the target variable.\n",
    "\n",
    "The True or Actual values of the target variable are hidden on the DPhi Practice platform so that we can evaluate your model's performance on evaluation data. Finally, an F1 score for your model will be generated and displayed\n",
    "\n",
    "About the dataset The dataset contains the patient records collected from a hospital in Greenland. The \"Survived_1_year\" column is a target variable which has binary entries (0 or 1).\n",
    "\n",
    "Survived_1_year == 0, implies that the patient did not survive after 1 year of treatment\n",
    "\n",
    "Survived_1_year == 1, implies that the patient survived after 1 year of treatment."
   ]
  },
  {
   "cell_type": "markdown",
   "id": "edfdf77d",
   "metadata": {},
   "source": [
    "# Data Description:\n",
    "ID_Patient_Care_Situation: Care situation of a patient during treatment\n",
    "\n",
    "Diagnosed_Condition: The diagnosed condition of the patient\n",
    "\n",
    "ID_Patient: Patient identifier number\n",
    "\n",
    "Treatment_with_drugs: Class of drugs used during treatment\n",
    "\n",
    "Survived_1_year: If the patient survived after one year (0 means did not survive; 1 means survived)\n",
    "\n",
    "Patient_Age: Age of the patient\n",
    "\n",
    "Patient_Body_Mass_Index: A calculated value based on the patient’s weight, height, etc.\n",
    "\n",
    "Patient_Smoker: If the patient was a smoker or not\n",
    "\n",
    "Patient_Rural_Urban: If the patient stayed in Rural or Urban part of the country\n",
    "\n",
    "Previous_Condition: Condition of the patient before the start of the treatment ( This variable is splitted into 8 columns - A, B, C, D, E, F, Z and Number_of_prev_cond. A, B, C, D, E, F and Z are the previous conditions of the patient. Suppose for one patient, if the entry in column A is 1, it means that the previous condition of the patient was A. If the patient didn't have that condition, it is 0 and same for other conditions. If a patient has previous condition as A and C , columns A and C will have entries as 1 and 1 respectively while the other column B, D, E, F, Z will have entries 0, 0, 0, 0, 0 respectively. The column Number_of_prev_cond will have entry as 2 i.e. 1 + 0 + 1 + 0 + 0 + 0 + 0 + 0 = 2 in this case. )"
   ]
  },
  {
   "cell_type": "code",
   "execution_count": 290,
   "id": "bc97831d",
   "metadata": {},
   "outputs": [],
   "source": [
    "#importing all libraries\n",
    "import warnings\n",
    "import pandas as pd\n",
    "import numpy as np\n",
    "import matplotlib.pyplot as plt\n",
    "import seaborn as sns\n",
    "from sklearn.tree import DecisionTreeClassifier\n",
    "from sklearn.model_selection import train_test_split \n",
    "from sklearn import tree\n"
   ]
  },
  {
   "cell_type": "code",
   "execution_count": 291,
   "id": "536d6807",
   "metadata": {},
   "outputs": [],
   "source": [
    "import warnings"
   ]
  },
  {
   "cell_type": "code",
   "execution_count": 292,
   "id": "4ec5ef5d",
   "metadata": {},
   "outputs": [],
   "source": [
    "#load the traing dataset as pharma_data\n",
    "pharma_data = pd.read_csv('https://raw.githubusercontent.com/dphi-official/Datasets/master/pharma_data/Training_set_begs.csv')"
   ]
  },
  {
   "cell_type": "code",
   "execution_count": 293,
   "id": "5895a4a7",
   "metadata": {},
   "outputs": [
    {
     "data": {
      "text/html": [
       "<div>\n",
       "<style scoped>\n",
       "    .dataframe tbody tr th:only-of-type {\n",
       "        vertical-align: middle;\n",
       "    }\n",
       "\n",
       "    .dataframe tbody tr th {\n",
       "        vertical-align: top;\n",
       "    }\n",
       "\n",
       "    .dataframe thead th {\n",
       "        text-align: right;\n",
       "    }\n",
       "</style>\n",
       "<table border=\"1\" class=\"dataframe\">\n",
       "  <thead>\n",
       "    <tr style=\"text-align: right;\">\n",
       "      <th></th>\n",
       "      <th>ID_Patient_Care_Situation</th>\n",
       "      <th>Diagnosed_Condition</th>\n",
       "      <th>Patient_ID</th>\n",
       "      <th>Treated_with_drugs</th>\n",
       "      <th>Patient_Age</th>\n",
       "      <th>Patient_Body_Mass_Index</th>\n",
       "      <th>Patient_Smoker</th>\n",
       "      <th>Patient_Rural_Urban</th>\n",
       "      <th>Patient_mental_condition</th>\n",
       "      <th>A</th>\n",
       "      <th>B</th>\n",
       "      <th>C</th>\n",
       "      <th>D</th>\n",
       "      <th>E</th>\n",
       "      <th>F</th>\n",
       "      <th>Z</th>\n",
       "      <th>Number_of_prev_cond</th>\n",
       "      <th>Survived_1_year</th>\n",
       "    </tr>\n",
       "  </thead>\n",
       "  <tbody>\n",
       "    <tr>\n",
       "      <th>0</th>\n",
       "      <td>22374</td>\n",
       "      <td>8</td>\n",
       "      <td>3333</td>\n",
       "      <td>DX6</td>\n",
       "      <td>56</td>\n",
       "      <td>18.479385</td>\n",
       "      <td>YES</td>\n",
       "      <td>URBAN</td>\n",
       "      <td>Stable</td>\n",
       "      <td>1.0</td>\n",
       "      <td>0.0</td>\n",
       "      <td>0.0</td>\n",
       "      <td>0.0</td>\n",
       "      <td>1.0</td>\n",
       "      <td>0.0</td>\n",
       "      <td>0.0</td>\n",
       "      <td>2.0</td>\n",
       "      <td>0</td>\n",
       "    </tr>\n",
       "    <tr>\n",
       "      <th>1</th>\n",
       "      <td>18164</td>\n",
       "      <td>5</td>\n",
       "      <td>5740</td>\n",
       "      <td>DX2</td>\n",
       "      <td>36</td>\n",
       "      <td>22.945566</td>\n",
       "      <td>YES</td>\n",
       "      <td>RURAL</td>\n",
       "      <td>Stable</td>\n",
       "      <td>1.0</td>\n",
       "      <td>0.0</td>\n",
       "      <td>0.0</td>\n",
       "      <td>0.0</td>\n",
       "      <td>0.0</td>\n",
       "      <td>0.0</td>\n",
       "      <td>0.0</td>\n",
       "      <td>1.0</td>\n",
       "      <td>1</td>\n",
       "    </tr>\n",
       "    <tr>\n",
       "      <th>2</th>\n",
       "      <td>6283</td>\n",
       "      <td>23</td>\n",
       "      <td>10446</td>\n",
       "      <td>DX6</td>\n",
       "      <td>48</td>\n",
       "      <td>27.510027</td>\n",
       "      <td>YES</td>\n",
       "      <td>RURAL</td>\n",
       "      <td>Stable</td>\n",
       "      <td>1.0</td>\n",
       "      <td>0.0</td>\n",
       "      <td>0.0</td>\n",
       "      <td>0.0</td>\n",
       "      <td>0.0</td>\n",
       "      <td>0.0</td>\n",
       "      <td>0.0</td>\n",
       "      <td>1.0</td>\n",
       "      <td>0</td>\n",
       "    </tr>\n",
       "    <tr>\n",
       "      <th>3</th>\n",
       "      <td>5339</td>\n",
       "      <td>51</td>\n",
       "      <td>12011</td>\n",
       "      <td>DX1</td>\n",
       "      <td>5</td>\n",
       "      <td>19.130976</td>\n",
       "      <td>NO</td>\n",
       "      <td>URBAN</td>\n",
       "      <td>Stable</td>\n",
       "      <td>1.0</td>\n",
       "      <td>0.0</td>\n",
       "      <td>0.0</td>\n",
       "      <td>0.0</td>\n",
       "      <td>0.0</td>\n",
       "      <td>0.0</td>\n",
       "      <td>0.0</td>\n",
       "      <td>1.0</td>\n",
       "      <td>1</td>\n",
       "    </tr>\n",
       "    <tr>\n",
       "      <th>4</th>\n",
       "      <td>33012</td>\n",
       "      <td>0</td>\n",
       "      <td>12513</td>\n",
       "      <td>NaN</td>\n",
       "      <td>128</td>\n",
       "      <td>1.348400</td>\n",
       "      <td>Cannot say</td>\n",
       "      <td>RURAL</td>\n",
       "      <td>Stable</td>\n",
       "      <td>0.0</td>\n",
       "      <td>0.0</td>\n",
       "      <td>0.0</td>\n",
       "      <td>0.0</td>\n",
       "      <td>0.0</td>\n",
       "      <td>0.0</td>\n",
       "      <td>1.0</td>\n",
       "      <td>1.0</td>\n",
       "      <td>1</td>\n",
       "    </tr>\n",
       "  </tbody>\n",
       "</table>\n",
       "</div>"
      ],
      "text/plain": [
       "   ID_Patient_Care_Situation  Diagnosed_Condition  Patient_ID  \\\n",
       "0                      22374                    8        3333   \n",
       "1                      18164                    5        5740   \n",
       "2                       6283                   23       10446   \n",
       "3                       5339                   51       12011   \n",
       "4                      33012                    0       12513   \n",
       "\n",
       "  Treated_with_drugs  Patient_Age  Patient_Body_Mass_Index Patient_Smoker  \\\n",
       "0                DX6           56                18.479385            YES   \n",
       "1               DX2            36                22.945566            YES   \n",
       "2                DX6           48                27.510027            YES   \n",
       "3               DX1             5                19.130976             NO   \n",
       "4                NaN          128                 1.348400     Cannot say   \n",
       "\n",
       "  Patient_Rural_Urban Patient_mental_condition    A    B    C    D    E    F  \\\n",
       "0               URBAN                   Stable  1.0  0.0  0.0  0.0  1.0  0.0   \n",
       "1               RURAL                   Stable  1.0  0.0  0.0  0.0  0.0  0.0   \n",
       "2               RURAL                   Stable  1.0  0.0  0.0  0.0  0.0  0.0   \n",
       "3               URBAN                   Stable  1.0  0.0  0.0  0.0  0.0  0.0   \n",
       "4               RURAL                   Stable  0.0  0.0  0.0  0.0  0.0  0.0   \n",
       "\n",
       "     Z  Number_of_prev_cond  Survived_1_year  \n",
       "0  0.0                  2.0                0  \n",
       "1  0.0                  1.0                1  \n",
       "2  0.0                  1.0                0  \n",
       "3  0.0                  1.0                1  \n",
       "4  1.0                  1.0                1  "
      ]
     },
     "execution_count": 293,
     "metadata": {},
     "output_type": "execute_result"
    }
   ],
   "source": [
    "#To show the first five \n",
    "pharma_data.head()"
   ]
  },
  {
   "cell_type": "code",
   "execution_count": 294,
   "id": "b1b8a683",
   "metadata": {},
   "outputs": [
    {
     "data": {
      "text/plain": [
       "Index(['ID_Patient_Care_Situation', 'Diagnosed_Condition', 'Patient_ID',\n",
       "       'Treated_with_drugs', 'Patient_Age', 'Patient_Body_Mass_Index',\n",
       "       'Patient_Smoker', 'Patient_Rural_Urban', 'Patient_mental_condition',\n",
       "       'A', 'B', 'C', 'D', 'E', 'F', 'Z', 'Number_of_prev_cond',\n",
       "       'Survived_1_year'],\n",
       "      dtype='object')"
      ]
     },
     "execution_count": 294,
     "metadata": {},
     "output_type": "execute_result"
    }
   ],
   "source": [
    "#To show the number of columns\n",
    "pharma_data.columns"
   ]
  },
  {
   "cell_type": "code",
   "execution_count": 295,
   "id": "e910e87e",
   "metadata": {},
   "outputs": [
    {
     "name": "stdout",
     "output_type": "stream",
     "text": [
      "<class 'pandas.core.frame.DataFrame'>\n",
      "RangeIndex: 23097 entries, 0 to 23096\n",
      "Data columns (total 18 columns):\n",
      " #   Column                     Non-Null Count  Dtype  \n",
      "---  ------                     --------------  -----  \n",
      " 0   ID_Patient_Care_Situation  23097 non-null  int64  \n",
      " 1   Diagnosed_Condition        23097 non-null  int64  \n",
      " 2   Patient_ID                 23097 non-null  int64  \n",
      " 3   Treated_with_drugs         23084 non-null  object \n",
      " 4   Patient_Age                23097 non-null  int64  \n",
      " 5   Patient_Body_Mass_Index    23097 non-null  float64\n",
      " 6   Patient_Smoker             23097 non-null  object \n",
      " 7   Patient_Rural_Urban        23097 non-null  object \n",
      " 8   Patient_mental_condition   23097 non-null  object \n",
      " 9   A                          21862 non-null  float64\n",
      " 10  B                          21862 non-null  float64\n",
      " 11  C                          21862 non-null  float64\n",
      " 12  D                          21862 non-null  float64\n",
      " 13  E                          21862 non-null  float64\n",
      " 14  F                          21862 non-null  float64\n",
      " 15  Z                          21862 non-null  float64\n",
      " 16  Number_of_prev_cond        21862 non-null  float64\n",
      " 17  Survived_1_year            23097 non-null  int64  \n",
      "dtypes: float64(9), int64(5), object(4)\n",
      "memory usage: 3.2+ MB\n"
     ]
    }
   ],
   "source": [
    "#columns details\n",
    "pharma_data.info()"
   ]
  },
  {
   "cell_type": "code",
   "execution_count": 296,
   "id": "a2039059",
   "metadata": {},
   "outputs": [],
   "source": [
    "#replace the positive infinity and negative infinity if there exists any in the dataset\n",
    "pharma_data.replace([np.inf, -np.inf], np.nan, inplace=True)"
   ]
  },
  {
   "cell_type": "code",
   "execution_count": 297,
   "id": "eddc315f",
   "metadata": {},
   "outputs": [
    {
     "data": {
      "text/plain": [
       "Treated_with_drugs          object\n",
       "Patient_Smoker              object\n",
       "Patient_Rural_Urban         object\n",
       "Patient_mental_condition    object\n",
       "dtype: object"
      ]
     },
     "execution_count": 297,
     "metadata": {},
     "output_type": "execute_result"
    }
   ],
   "source": [
    "#details of columns having object datatype\n",
    "pharma_data.select_dtypes(include=['object']).dtypes\n"
   ]
  },
  {
   "cell_type": "code",
   "execution_count": 298,
   "id": "91d01d9f",
   "metadata": {},
   "outputs": [
    {
     "data": {
      "text/plain": [
       "array(['YES', 'NO', 'Cannot say'], dtype=object)"
      ]
     },
     "execution_count": 298,
     "metadata": {},
     "output_type": "execute_result"
    }
   ],
   "source": [
    "pharma_data.Patient_Smoker.unique()"
   ]
  },
  {
   "cell_type": "code",
   "execution_count": 299,
   "id": "c84e13d8",
   "metadata": {},
   "outputs": [],
   "source": [
    "# In Patient_Smoker column 'cannot' say is not useful.So we need to ommit the row\n",
    "pharma_data= pharma_data[pharma_data['Patient_Smoker']!= 'Cannot say']"
   ]
  },
  {
   "cell_type": "code",
   "execution_count": 300,
   "id": "ccfc6a96",
   "metadata": {},
   "outputs": [
    {
     "data": {
      "text/plain": [
       "array(['Stable'], dtype=object)"
      ]
     },
     "execution_count": 300,
     "metadata": {},
     "output_type": "execute_result"
    }
   ],
   "source": [
    "pharma_data.Patient_mental_condition.unique()"
   ]
  },
  {
   "cell_type": "code",
   "execution_count": 301,
   "id": "df9f0ea9",
   "metadata": {},
   "outputs": [
    {
     "data": {
      "text/plain": [
       "ID_Patient_Care_Situation      int64\n",
       "Diagnosed_Condition            int64\n",
       "Patient_ID                     int64\n",
       "Patient_Age                    int64\n",
       "Patient_Body_Mass_Index      float64\n",
       "A                            float64\n",
       "B                            float64\n",
       "C                            float64\n",
       "D                            float64\n",
       "E                            float64\n",
       "F                            float64\n",
       "Z                            float64\n",
       "Number_of_prev_cond          float64\n",
       "Survived_1_year                int64\n",
       "dtype: object"
      ]
     },
     "execution_count": 301,
     "metadata": {},
     "output_type": "execute_result"
    }
   ],
   "source": [
    " #details of columns having numerical datatype\n",
    "pharma_data.select_dtypes(include=['number']).dtypes"
   ]
  },
  {
   "cell_type": "code",
   "execution_count": 302,
   "id": "ccabf9ae",
   "metadata": {},
   "outputs": [
    {
     "data": {
      "text/plain": [
       "ID_Patient_Care_Situation       0\n",
       "Diagnosed_Condition             0\n",
       "Patient_ID                      0\n",
       "Treated_with_drugs              0\n",
       "Patient_Age                     0\n",
       "Patient_Body_Mass_Index         0\n",
       "Patient_Smoker                  0\n",
       "Patient_Rural_Urban             0\n",
       "Patient_mental_condition        0\n",
       "A                            1235\n",
       "B                            1235\n",
       "C                            1235\n",
       "D                            1235\n",
       "E                            1235\n",
       "F                            1235\n",
       "Z                            1235\n",
       "Number_of_prev_cond          1235\n",
       "Survived_1_year                 0\n",
       "dtype: int64"
      ]
     },
     "execution_count": 302,
     "metadata": {},
     "output_type": "execute_result"
    }
   ],
   "source": [
    "#details of missing values for each columns in training dataset\n",
    "pharma_data.isnull().sum()"
   ]
  },
  {
   "cell_type": "code",
   "execution_count": 303,
   "id": "a332eeaa",
   "metadata": {},
   "outputs": [],
   "source": [
    "#fill the missing value\n",
    "pharma_data['Number_of_prev_cond']=pharma_data['Number_of_prev_cond'].fillna(method='ffill')\n",
    "pharma_data['A']=pharma_data['A'].fillna(method='ffill')\n",
    "pharma_data['B']=pharma_data['B'].fillna(method='ffill')\n",
    "pharma_data['C']=pharma_data['C'].fillna(method='ffill')\n",
    "pharma_data['D']=pharma_data['D'].fillna(method='ffill')\n",
    "pharma_data['E']=pharma_data['E'].fillna(method='ffill')\n",
    "pharma_data['F']=pharma_data['F'].fillna(method='ffill')\n",
    "#pharma_data['Z']=pharma_data['Z'].fillna(method='ffill')\n",
    "pharma_data['Treated_with_drugs']=pharma_data['Treated_with_drugs'].fillna(method='ffill')"
   ]
  },
  {
   "cell_type": "code",
   "execution_count": 304,
   "id": "45eb7c47",
   "metadata": {},
   "outputs": [
    {
     "data": {
      "image/png": "[encoded data removed]",
      "text/plain": [
       "<Figure size 864x720 with 2 Axes>"
      ]
     },
     "metadata": {
      "needs_background": "light"
     },
     "output_type": "display_data"
    }
   ],
   "source": [
    "#Using Pearson Correlation\n",
    "plt.figure(figsize=(12,10))\n",
    "cor = pharma_data.corr()\n",
    "sns.heatmap(cor, annot=True, cmap=plt.cm.Reds)\n",
    "plt.show()"
   ]
  },
  {
   "cell_type": "code",
   "execution_count": 305,
   "id": "a8349978",
   "metadata": {},
   "outputs": [],
   "source": [
    "# Ommit the columns which are not useful in prediction \n",
    "pharma_data.drop(['ID_Patient_Care_Situation','Patient_ID','Patient_mental_condition','Z'],axis=1,inplace=True)"
   ]
  },
  {
   "cell_type": "code",
   "execution_count": 306,
   "id": "25085451",
   "metadata": {},
   "outputs": [
    {
     "data": {
      "image/png": "[encoded data removed]",
      "text/plain": [
       "<Figure size 1080x1440 with 3 Axes>"
      ]
     },
     "metadata": {
      "needs_background": "light"
     },
     "output_type": "display_data"
    }
   ],
   "source": [
    "#plot the categorical columns\n",
    "categorical = pharma_data[['Patient_Smoker','Patient_Rural_Urban','Treated_with_drugs']]\n",
    "plt.figure(figsize=(15,20))\n",
    "for i, col in enumerate(categorical):\n",
    "    ax = plt.subplot(3,3,i+1)\n",
    "    plt.xticks(rotation=90)\n",
    "    sns.countplot(data=pharma_data,x=col,ax=ax)"
   ]
  },
  {
   "cell_type": "code",
   "execution_count": 307,
   "id": "b1744857",
   "metadata": {},
   "outputs": [
    {
     "data": {
      "image/png": "[encoded data removed]",
      "text/plain": [
       "<Figure size 576x576 with 2 Axes>"
      ]
     },
     "metadata": {
      "needs_background": "light"
     },
     "output_type": "display_data"
    }
   ],
   "source": [
    "# tplot the numerical columns\n",
    "numerical = pharma_data[['Survived_1_year','Number_of_prev_cond']]\n",
    "plt.figure(figsize=(8,8))\n",
    "for i, col in enumerate(numerical):\n",
    "    ax = plt.subplot(2,2,i+1)\n",
    "    plt.xticks(rotation=90)\n",
    "    sns.countplot(data=pharma_data,x=col,ax=ax)"
   ]
  },
  {
   "cell_type": "code",
   "execution_count": 308,
   "id": "fd430042",
   "metadata": {},
   "outputs": [],
   "source": [
    "#convert all object datatpe columns into numerical .\n",
    "df_drug = pd.get_dummies(pharma_data['Treated_with_drugs'])\n",
    "df_smoker = pd.get_dummies(pharma_data['Patient_Smoker'])\n",
    "df_rural_urban = pd.get_dummies(pharma_data['Patient_Rural_Urban'])"
   ]
  },
  {
   "cell_type": "code",
   "execution_count": 309,
   "id": "b7477e78",
   "metadata": {},
   "outputs": [],
   "source": [
    "#concat all dummy columns with training dataset\n",
    "df_pharma = pd.concat([pharma_data, df_drug, df_smoker,df_rural_urban],axis=1)"
   ]
  },
  {
   "cell_type": "code",
   "execution_count": 310,
   "id": "7e6e6bf8",
   "metadata": {},
   "outputs": [],
   "source": [
    "#drop the object datatype columns\n",
    "df_pharma.drop(['Patient_Rural_Urban','Patient_Smoker','Treated_with_drugs'],axis=1,inplace=True)"
   ]
  },
  {
   "cell_type": "code",
   "execution_count": 311,
   "id": "29d5e4ae",
   "metadata": {},
   "outputs": [
    {
     "data": {
      "text/plain": [
       "Index(['Diagnosed_Condition', 'Patient_Age', 'Patient_Body_Mass_Index', 'A',\n",
       "       'B', 'C', 'D', 'E', 'F', 'Number_of_prev_cond', 'Survived_1_year',\n",
       "       'DX1 ', 'DX1 DX2 ', 'DX1 DX2 DX3 ', 'DX1 DX2 DX3 DX4 ',\n",
       "       'DX1 DX2 DX3 DX4 DX5 ', 'DX1 DX2 DX3 DX5 ', 'DX1 DX2 DX4 ',\n",
       "       'DX1 DX2 DX4 DX5 ', 'DX1 DX2 DX5 ', 'DX1 DX3 ', 'DX1 DX3 DX4 ',\n",
       "       'DX1 DX3 DX4 DX5 ', 'DX1 DX3 DX5 ', 'DX1 DX4 ', 'DX1 DX4 DX5 ',\n",
       "       'DX1 DX5 ', 'DX2 ', 'DX2 DX3 ', 'DX2 DX3 DX4 ', 'DX2 DX3 DX4 DX5 ',\n",
       "       'DX2 DX3 DX5 ', 'DX2 DX4 ', 'DX2 DX4 DX5 ', 'DX2 DX5 ', 'DX3 ',\n",
       "       'DX3 DX4 ', 'DX3 DX4 DX5 ', 'DX3 DX5 ', 'DX4 ', 'DX4 DX5 ', 'DX5 ',\n",
       "       'DX6', 'NO', 'YES', 'RURAL', 'URBAN'],\n",
       "      dtype='object')"
      ]
     },
     "execution_count": 311,
     "metadata": {},
     "output_type": "execute_result"
    }
   ],
   "source": [
    "df_pharma.columns#check if all numerical columns or not"
   ]
  },
  {
   "cell_type": "code",
   "execution_count": 312,
   "id": "748851dc",
   "metadata": {},
   "outputs": [],
   "source": [
    "x=df_pharma.drop('Survived_1_year',axis=1)#Feature matrix\n",
    "y=df_pharma.Survived_1_year #target"
   ]
  },
  {
   "cell_type": "code",
   "execution_count": 313,
   "id": "2ae3f51e",
   "metadata": {},
   "outputs": [
    {
     "data": {
      "text/html": [
       "<div>\n",
       "<style scoped>\n",
       "    .dataframe tbody tr th:only-of-type {\n",
       "        vertical-align: middle;\n",
       "    }\n",
       "\n",
       "    .dataframe tbody tr th {\n",
       "        vertical-align: top;\n",
       "    }\n",
       "\n",
       "    .dataframe thead th {\n",
       "        text-align: right;\n",
       "    }\n",
       "</style>\n",
       "<table border=\"1\" class=\"dataframe\">\n",
       "  <thead>\n",
       "    <tr style=\"text-align: right;\">\n",
       "      <th></th>\n",
       "      <th>Diagnosed_Condition</th>\n",
       "      <th>Patient_Age</th>\n",
       "      <th>Patient_Body_Mass_Index</th>\n",
       "      <th>A</th>\n",
       "      <th>B</th>\n",
       "      <th>C</th>\n",
       "      <th>D</th>\n",
       "      <th>E</th>\n",
       "      <th>F</th>\n",
       "      <th>Number_of_prev_cond</th>\n",
       "      <th>...</th>\n",
       "      <th>DX3 DX4 DX5</th>\n",
       "      <th>DX3 DX5</th>\n",
       "      <th>DX4</th>\n",
       "      <th>DX4 DX5</th>\n",
       "      <th>DX5</th>\n",
       "      <th>DX6</th>\n",
       "      <th>NO</th>\n",
       "      <th>YES</th>\n",
       "      <th>RURAL</th>\n",
       "      <th>URBAN</th>\n",
       "    </tr>\n",
       "  </thead>\n",
       "  <tbody>\n",
       "    <tr>\n",
       "      <th>0</th>\n",
       "      <td>8</td>\n",
       "      <td>56</td>\n",
       "      <td>18.479385</td>\n",
       "      <td>1.0</td>\n",
       "      <td>0.0</td>\n",
       "      <td>0.0</td>\n",
       "      <td>0.0</td>\n",
       "      <td>1.0</td>\n",
       "      <td>0.0</td>\n",
       "      <td>2.0</td>\n",
       "      <td>...</td>\n",
       "      <td>0</td>\n",
       "      <td>0</td>\n",
       "      <td>0</td>\n",
       "      <td>0</td>\n",
       "      <td>0</td>\n",
       "      <td>1</td>\n",
       "      <td>0</td>\n",
       "      <td>1</td>\n",
       "      <td>0</td>\n",
       "      <td>1</td>\n",
       "    </tr>\n",
       "    <tr>\n",
       "      <th>1</th>\n",
       "      <td>5</td>\n",
       "      <td>36</td>\n",
       "      <td>22.945566</td>\n",
       "      <td>1.0</td>\n",
       "      <td>0.0</td>\n",
       "      <td>0.0</td>\n",
       "      <td>0.0</td>\n",
       "      <td>0.0</td>\n",
       "      <td>0.0</td>\n",
       "      <td>1.0</td>\n",
       "      <td>...</td>\n",
       "      <td>0</td>\n",
       "      <td>0</td>\n",
       "      <td>0</td>\n",
       "      <td>0</td>\n",
       "      <td>0</td>\n",
       "      <td>0</td>\n",
       "      <td>0</td>\n",
       "      <td>1</td>\n",
       "      <td>1</td>\n",
       "      <td>0</td>\n",
       "    </tr>\n",
       "    <tr>\n",
       "      <th>2</th>\n",
       "      <td>23</td>\n",
       "      <td>48</td>\n",
       "      <td>27.510027</td>\n",
       "      <td>1.0</td>\n",
       "      <td>0.0</td>\n",
       "      <td>0.0</td>\n",
       "      <td>0.0</td>\n",
       "      <td>0.0</td>\n",
       "      <td>0.0</td>\n",
       "      <td>1.0</td>\n",
       "      <td>...</td>\n",
       "      <td>0</td>\n",
       "      <td>0</td>\n",
       "      <td>0</td>\n",
       "      <td>0</td>\n",
       "      <td>0</td>\n",
       "      <td>1</td>\n",
       "      <td>0</td>\n",
       "      <td>1</td>\n",
       "      <td>1</td>\n",
       "      <td>0</td>\n",
       "    </tr>\n",
       "    <tr>\n",
       "      <th>3</th>\n",
       "      <td>51</td>\n",
       "      <td>5</td>\n",
       "      <td>19.130976</td>\n",
       "      <td>1.0</td>\n",
       "      <td>0.0</td>\n",
       "      <td>0.0</td>\n",
       "      <td>0.0</td>\n",
       "      <td>0.0</td>\n",
       "      <td>0.0</td>\n",
       "      <td>1.0</td>\n",
       "      <td>...</td>\n",
       "      <td>0</td>\n",
       "      <td>0</td>\n",
       "      <td>0</td>\n",
       "      <td>0</td>\n",
       "      <td>0</td>\n",
       "      <td>0</td>\n",
       "      <td>1</td>\n",
       "      <td>0</td>\n",
       "      <td>0</td>\n",
       "      <td>1</td>\n",
       "    </tr>\n",
       "    <tr>\n",
       "      <th>5</th>\n",
       "      <td>45</td>\n",
       "      <td>47</td>\n",
       "      <td>26.155120</td>\n",
       "      <td>1.0</td>\n",
       "      <td>0.0</td>\n",
       "      <td>0.0</td>\n",
       "      <td>0.0</td>\n",
       "      <td>0.0</td>\n",
       "      <td>0.0</td>\n",
       "      <td>1.0</td>\n",
       "      <td>...</td>\n",
       "      <td>0</td>\n",
       "      <td>0</td>\n",
       "      <td>0</td>\n",
       "      <td>0</td>\n",
       "      <td>0</td>\n",
       "      <td>1</td>\n",
       "      <td>0</td>\n",
       "      <td>1</td>\n",
       "      <td>0</td>\n",
       "      <td>1</td>\n",
       "    </tr>\n",
       "  </tbody>\n",
       "</table>\n",
       "<p>5 rows × 46 columns</p>\n",
       "</div>"
      ],
      "text/plain": [
       "   Diagnosed_Condition  Patient_Age  Patient_Body_Mass_Index    A    B    C  \\\n",
       "0                    8           56                18.479385  1.0  0.0  0.0   \n",
       "1                    5           36                22.945566  1.0  0.0  0.0   \n",
       "2                   23           48                27.510027  1.0  0.0  0.0   \n",
       "3                   51            5                19.130976  1.0  0.0  0.0   \n",
       "5                   45           47                26.155120  1.0  0.0  0.0   \n",
       "\n",
       "     D    E    F  Number_of_prev_cond  ...  DX3 DX4 DX5   DX3 DX5   DX4   \\\n",
       "0  0.0  1.0  0.0                  2.0  ...             0         0     0   \n",
       "1  0.0  0.0  0.0                  1.0  ...             0         0     0   \n",
       "2  0.0  0.0  0.0                  1.0  ...             0         0     0   \n",
       "3  0.0  0.0  0.0                  1.0  ...             0         0     0   \n",
       "5  0.0  0.0  0.0                  1.0  ...             0         0     0   \n",
       "\n",
       "   DX4 DX5   DX5   DX6  NO  YES  RURAL  URBAN  \n",
       "0         0     0    1   0    1      0      1  \n",
       "1         0     0    0   0    1      1      0  \n",
       "2         0     0    1   0    1      1      0  \n",
       "3         0     0    0   1    0      0      1  \n",
       "5         0     0    1   0    1      0      1  \n",
       "\n",
       "[5 rows x 46 columns]"
      ]
     },
     "execution_count": 313,
     "metadata": {},
     "output_type": "execute_result"
    }
   ],
   "source": [
    "x.head()"
   ]
  },
  {
   "cell_type": "code",
   "execution_count": 314,
   "id": "0dfdd722",
   "metadata": {},
   "outputs": [
    {
     "data": {
      "text/plain": [
       "0    0\n",
       "1    1\n",
       "2    0\n",
       "3    1\n",
       "5    0\n",
       "Name: Survived_1_year, dtype: int64"
      ]
     },
     "execution_count": 314,
     "metadata": {},
     "output_type": "execute_result"
    }
   ],
   "source": [
    "y.head()"
   ]
  },
  {
   "cell_type": "code",
   "execution_count": 315,
   "id": "d5a01a2b",
   "metadata": {},
   "outputs": [
    {
     "data": {
      "text/plain": [
       "((17313, 46), (5771, 46), (17313,), (5771,))"
      ]
     },
     "execution_count": 315,
     "metadata": {},
     "output_type": "execute_result"
    }
   ],
   "source": [
    "#split the training dataset into training and validation dataset\n",
    "from sklearn.model_selection import train_test_split\n",
    "x_train,x_valid,y_train,y_valid=train_test_split(x,y,random_state=42,test_size=0.25)# training and validation spliting to avoid overfiiting\n",
    "x_train.shape,x_valid.shape,y_train.shape,y_valid.shape"
   ]
  },
  {
   "cell_type": "code",
   "execution_count": 316,
   "id": "8584ec38",
   "metadata": {},
   "outputs": [
    {
     "data": {
      "text/plain": [
       "DecisionTreeClassifier(criterion='entropy', max_depth=3, random_state=42)"
      ]
     },
     "execution_count": 316,
     "metadata": {},
     "output_type": "execute_result"
    }
   ],
   "source": [
    "#Fitting Decision Tree classifier to the training set  \n",
    "from sklearn.tree import DecisionTreeClassifier  \n",
    "model= DecisionTreeClassifier(criterion='entropy',random_state=42,max_depth=3)  \n",
    "model.fit(x_train,y_train)  "
   ]
  },
  {
   "cell_type": "code",
   "execution_count": 317,
   "id": "ce27b9f6",
   "metadata": {},
   "outputs": [
    {
     "data": {
      "text/plain": [
       "<Figure size 21000x33000 with 0 Axes>"
      ]
     },
     "execution_count": 317,
     "metadata": {},
     "output_type": "execute_result"
    },
    {
     "data": {
      "image/png": "[encoded data removed]",
      "text/plain": [
       "<Figure size 432x288 with 1 Axes>"
      ]
     },
     "metadata": {
      "needs_background": "light"
     },
     "output_type": "display_data"
    },
    {
     "data": {
      "text/plain": [
       "<Figure size 21000x33000 with 0 Axes>"
      ]
     },
     "metadata": {},
     "output_type": "display_data"
    }
   ],
   "source": [
    "#plot the tree\n",
    "tree.plot_tree(model)\n",
    "plt.figure(figsize=(35,55),dpi=600)"
   ]
  },
  {
   "cell_type": "code",
   "execution_count": 318,
   "id": "7829ddb1",
   "metadata": {},
   "outputs": [
    {
     "data": {
      "text/plain": [
       "(5771,)"
      ]
     },
     "execution_count": 318,
     "metadata": {},
     "output_type": "execute_result"
    }
   ],
   "source": [
    "y_predict= model.predict(x_valid)\n",
    "y_predict.shape"
   ]
  },
  {
   "cell_type": "code",
   "execution_count": 319,
   "id": "f17d52ec",
   "metadata": {},
   "outputs": [
    {
     "name": "stdout",
     "output_type": "stream",
     "text": [
      "[[1110 1004]\n",
      " [ 448 3209]]\n"
     ]
    }
   ],
   "source": [
    "#confusion matrix\n",
    "from sklearn.metrics import confusion_matrix\n",
    "cf_matrix=confusion_matrix(y_valid, y_predict)\n",
    "print(cf_matrix)"
   ]
  },
  {
   "cell_type": "code",
   "execution_count": 320,
   "id": "1819381f",
   "metadata": {},
   "outputs": [
    {
     "data": {
      "text/plain": [
       "<AxesSubplot:>"
      ]
     },
     "execution_count": 320,
     "metadata": {},
     "output_type": "execute_result"
    },
    {
     "data": {
      "image/png": "[encoded data removed]",
      "text/plain": [
       "<Figure size 432x288 with 2 Axes>"
      ]
     },
     "metadata": {
      "needs_background": "light"
     },
     "output_type": "display_data"
    }
   ],
   "source": [
    "group_names = ['True Neg','False Pos','False Neg','True Pos']\n",
    "group_counts = ['{0:0.0f}'.format(value) for value in\n",
    "                cf_matrix.flatten()]\n",
    "group_percentages = ['{0:.2%}'.format(value) for value in\n",
    "                     cf_matrix.flatten()/np.sum(cf_matrix)]\n",
    "labels = [f'{v1}\\n{v2}\\n{v3}' for v1, v2, v3 in\n",
    "          zip(group_names,group_counts,group_percentages)]\n",
    "labels = np.asarray(labels).reshape(2,2)\n",
    "sns.heatmap(cf_matrix, annot=labels, fmt='', cmap='Blues')"
   ]
  },
  {
   "cell_type": "code",
   "execution_count": 321,
   "id": "df890df0",
   "metadata": {},
   "outputs": [
    {
     "data": {
      "text/plain": [
       "0.7483971582048172"
      ]
     },
     "execution_count": 321,
     "metadata": {},
     "output_type": "execute_result"
    }
   ],
   "source": [
    "#accuracy prediction\n",
    "from sklearn.metrics import accuracy_score\n",
    "accuracy_score(y_valid, y_predict)"
   ]
  },
  {
   "cell_type": "code",
   "execution_count": 322,
   "id": "5045d4b8",
   "metadata": {},
   "outputs": [],
   "source": [
    "from sklearn.metrics import accuracy_score,f1_score"
   ]
  },
  {
   "cell_type": "code",
   "execution_count": 323,
   "id": "8cf76aa0",
   "metadata": {},
   "outputs": [
    {
     "data": {
      "text/plain": [
       "0.8155019059720457"
      ]
     },
     "execution_count": 323,
     "metadata": {},
     "output_type": "execute_result"
    }
   ],
   "source": [
    "#f1 score\n",
    "rf_fscore = f1_score(y_valid ,y_predict)\n",
    "rf_fscore"
   ]
  },
  {
   "cell_type": "code",
   "execution_count": 324,
   "id": "8063a188",
   "metadata": {},
   "outputs": [
    {
     "data": {
      "text/html": [
       "<div>\n",
       "<style scoped>\n",
       "    .dataframe tbody tr th:only-of-type {\n",
       "        vertical-align: middle;\n",
       "    }\n",
       "\n",
       "    .dataframe tbody tr th {\n",
       "        vertical-align: top;\n",
       "    }\n",
       "\n",
       "    .dataframe thead th {\n",
       "        text-align: right;\n",
       "    }\n",
       "</style>\n",
       "<table border=\"1\" class=\"dataframe\">\n",
       "  <thead>\n",
       "    <tr style=\"text-align: right;\">\n",
       "      <th></th>\n",
       "      <th>ID_Patient_Care_Situation</th>\n",
       "      <th>Diagnosed_Condition</th>\n",
       "      <th>Patient_ID</th>\n",
       "      <th>Treated_with_drugs</th>\n",
       "      <th>Patient_Age</th>\n",
       "      <th>Patient_Body_Mass_Index</th>\n",
       "      <th>Patient_Smoker</th>\n",
       "      <th>Patient_Rural_Urban</th>\n",
       "      <th>Patient_mental_condition</th>\n",
       "      <th>A</th>\n",
       "      <th>B</th>\n",
       "      <th>C</th>\n",
       "      <th>D</th>\n",
       "      <th>E</th>\n",
       "      <th>F</th>\n",
       "      <th>Z</th>\n",
       "      <th>Number_of_prev_cond</th>\n",
       "    </tr>\n",
       "  </thead>\n",
       "  <tbody>\n",
       "    <tr>\n",
       "      <th>0</th>\n",
       "      <td>19150</td>\n",
       "      <td>40</td>\n",
       "      <td>3709</td>\n",
       "      <td>DX3</td>\n",
       "      <td>16</td>\n",
       "      <td>29.443894</td>\n",
       "      <td>NO</td>\n",
       "      <td>RURAL</td>\n",
       "      <td>Stable</td>\n",
       "      <td>1.0</td>\n",
       "      <td>0.0</td>\n",
       "      <td>0.0</td>\n",
       "      <td>0.0</td>\n",
       "      <td>1.0</td>\n",
       "      <td>0.0</td>\n",
       "      <td>0.0</td>\n",
       "      <td>2.0</td>\n",
       "    </tr>\n",
       "    <tr>\n",
       "      <th>1</th>\n",
       "      <td>23216</td>\n",
       "      <td>52</td>\n",
       "      <td>986</td>\n",
       "      <td>DX6</td>\n",
       "      <td>24</td>\n",
       "      <td>26.836321</td>\n",
       "      <td>NO</td>\n",
       "      <td>URBAN</td>\n",
       "      <td>Stable</td>\n",
       "      <td>1.0</td>\n",
       "      <td>1.0</td>\n",
       "      <td>0.0</td>\n",
       "      <td>0.0</td>\n",
       "      <td>0.0</td>\n",
       "      <td>0.0</td>\n",
       "      <td>0.0</td>\n",
       "      <td>2.0</td>\n",
       "    </tr>\n",
       "    <tr>\n",
       "      <th>2</th>\n",
       "      <td>11890</td>\n",
       "      <td>50</td>\n",
       "      <td>11821</td>\n",
       "      <td>DX4 DX5</td>\n",
       "      <td>63</td>\n",
       "      <td>25.523280</td>\n",
       "      <td>NO</td>\n",
       "      <td>RURAL</td>\n",
       "      <td>Stable</td>\n",
       "      <td>1.0</td>\n",
       "      <td>0.0</td>\n",
       "      <td>0.0</td>\n",
       "      <td>0.0</td>\n",
       "      <td>1.0</td>\n",
       "      <td>0.0</td>\n",
       "      <td>0.0</td>\n",
       "      <td>2.0</td>\n",
       "    </tr>\n",
       "    <tr>\n",
       "      <th>3</th>\n",
       "      <td>7149</td>\n",
       "      <td>32</td>\n",
       "      <td>3292</td>\n",
       "      <td>DX6</td>\n",
       "      <td>42</td>\n",
       "      <td>27.171155</td>\n",
       "      <td>NO</td>\n",
       "      <td>URBAN</td>\n",
       "      <td>Stable</td>\n",
       "      <td>1.0</td>\n",
       "      <td>0.0</td>\n",
       "      <td>1.0</td>\n",
       "      <td>0.0</td>\n",
       "      <td>1.0</td>\n",
       "      <td>0.0</td>\n",
       "      <td>0.0</td>\n",
       "      <td>3.0</td>\n",
       "    </tr>\n",
       "    <tr>\n",
       "      <th>4</th>\n",
       "      <td>22845</td>\n",
       "      <td>20</td>\n",
       "      <td>9959</td>\n",
       "      <td>DX3</td>\n",
       "      <td>50</td>\n",
       "      <td>25.556192</td>\n",
       "      <td>NO</td>\n",
       "      <td>RURAL</td>\n",
       "      <td>Stable</td>\n",
       "      <td>1.0</td>\n",
       "      <td>0.0</td>\n",
       "      <td>0.0</td>\n",
       "      <td>0.0</td>\n",
       "      <td>0.0</td>\n",
       "      <td>0.0</td>\n",
       "      <td>0.0</td>\n",
       "      <td>1.0</td>\n",
       "    </tr>\n",
       "  </tbody>\n",
       "</table>\n",
       "</div>"
      ],
      "text/plain": [
       "   ID_Patient_Care_Situation  Diagnosed_Condition  Patient_ID  \\\n",
       "0                      19150                   40        3709   \n",
       "1                      23216                   52         986   \n",
       "2                      11890                   50       11821   \n",
       "3                       7149                   32        3292   \n",
       "4                      22845                   20        9959   \n",
       "\n",
       "  Treated_with_drugs  Patient_Age  Patient_Body_Mass_Index Patient_Smoker  \\\n",
       "0               DX3            16                29.443894             NO   \n",
       "1                DX6           24                26.836321             NO   \n",
       "2           DX4 DX5            63                25.523280             NO   \n",
       "3                DX6           42                27.171155             NO   \n",
       "4               DX3            50                25.556192             NO   \n",
       "\n",
       "  Patient_Rural_Urban Patient_mental_condition    A    B    C    D    E    F  \\\n",
       "0               RURAL                   Stable  1.0  0.0  0.0  0.0  1.0  0.0   \n",
       "1               URBAN                   Stable  1.0  1.0  0.0  0.0  0.0  0.0   \n",
       "2               RURAL                   Stable  1.0  0.0  0.0  0.0  1.0  0.0   \n",
       "3               URBAN                   Stable  1.0  0.0  1.0  0.0  1.0  0.0   \n",
       "4               RURAL                   Stable  1.0  0.0  0.0  0.0  0.0  0.0   \n",
       "\n",
       "     Z  Number_of_prev_cond  \n",
       "0  0.0                  2.0  \n",
       "1  0.0                  2.0  \n",
       "2  0.0                  2.0  \n",
       "3  0.0                  3.0  \n",
       "4  0.0                  1.0  "
      ]
     },
     "execution_count": 324,
     "metadata": {},
     "output_type": "execute_result"
    }
   ],
   "source": [
    "#read the test daraset\n",
    "test_data = pd.read_csv('https://raw.githubusercontent.com/dphi-official/Datasets/master/pharma_data/Testing_set_begs.csv')\n",
    "test_data.head()"
   ]
  },
  {
   "cell_type": "code",
   "execution_count": 325,
   "id": "c0928225",
   "metadata": {},
   "outputs": [
    {
     "data": {
      "text/plain": [
       "Index(['ID_Patient_Care_Situation', 'Diagnosed_Condition', 'Patient_ID',\n",
       "       'Treated_with_drugs', 'Patient_Age', 'Patient_Body_Mass_Index',\n",
       "       'Patient_Smoker', 'Patient_Rural_Urban', 'Patient_mental_condition',\n",
       "       'A', 'B', 'C', 'D', 'E', 'F', 'Z', 'Number_of_prev_cond'],\n",
       "      dtype='object')"
      ]
     },
     "execution_count": 325,
     "metadata": {},
     "output_type": "execute_result"
    }
   ],
   "source": [
    "##columns details\n",
    "test_data.columns"
   ]
  },
  {
   "cell_type": "code",
   "execution_count": 326,
   "id": "f2f26dfc",
   "metadata": {},
   "outputs": [
    {
     "data": {
      "text/plain": [
       "Diagnosed_Condition          int64\n",
       "Patient_Age                  int64\n",
       "Patient_Body_Mass_Index    float64\n",
       "A                          float64\n",
       "B                          float64\n",
       "C                          float64\n",
       "D                          float64\n",
       "E                          float64\n",
       "F                          float64\n",
       "Number_of_prev_cond        float64\n",
       "Survived_1_year              int64\n",
       "dtype: object"
      ]
     },
     "execution_count": 326,
     "metadata": {},
     "output_type": "execute_result"
    }
   ],
   "source": [
    "##details of columns having numerical datatype\n",
    "pharma_data.select_dtypes(include=['number']).dtypes"
   ]
  },
  {
   "cell_type": "code",
   "execution_count": 327,
   "id": "4d8b7532",
   "metadata": {},
   "outputs": [
    {
     "data": {
      "text/plain": [
       "Treated_with_drugs          object\n",
       "Patient_Smoker              object\n",
       "Patient_Rural_Urban         object\n",
       "Patient_mental_condition    object\n",
       "dtype: object"
      ]
     },
     "execution_count": 327,
     "metadata": {},
     "output_type": "execute_result"
    }
   ],
   "source": [
    "##details of columns having object datatype\n",
    "test_data.select_dtypes(include=['object']).dtypes"
   ]
  },
  {
   "cell_type": "code",
   "execution_count": 328,
   "id": "5ee0718d",
   "metadata": {},
   "outputs": [
    {
     "data": {
      "text/plain": [
       "array(['NO', 'YES'], dtype=object)"
      ]
     },
     "execution_count": 328,
     "metadata": {},
     "output_type": "execute_result"
    }
   ],
   "source": [
    "test_data['Patient_Smoker'].unique()"
   ]
  },
  {
   "cell_type": "code",
   "execution_count": 329,
   "id": "e739688d",
   "metadata": {},
   "outputs": [
    {
     "data": {
      "text/plain": [
       "array(['RURAL', 'URBAN'], dtype=object)"
      ]
     },
     "execution_count": 329,
     "metadata": {},
     "output_type": "execute_result"
    }
   ],
   "source": [
    "test_data['Patient_Rural_Urban'].unique()"
   ]
  },
  {
   "cell_type": "code",
   "execution_count": 330,
   "id": "ad56ac4e",
   "metadata": {},
   "outputs": [
    {
     "data": {
      "text/plain": [
       "array(['DX3 ', 'DX6', 'DX4 DX5 ', 'DX1 DX2 ', 'DX1 DX2 DX4 ', 'DX2 ',\n",
       "       'DX5 ', 'DX3 DX4 DX5 ', 'DX1 DX3 ', 'DX1 ', 'DX2 DX5 ', 'DX1 DX4 ',\n",
       "       'DX2 DX3 ', 'DX4 ', 'DX1 DX4 DX5 ', 'DX3 DX4 ', 'DX3 DX5 ',\n",
       "       'DX2 DX4 ', 'DX1 DX5 ', 'DX1 DX3 DX4 ', 'DX2 DX3 DX4 ',\n",
       "       'DX1 DX2 DX3 ', 'DX1 DX3 DX4 DX5 ', 'DX1 DX3 DX5 ',\n",
       "       'DX1 DX2 DX3 DX5 ', 'DX2 DX3 DX5 ', 'DX2 DX3 DX4 DX5 ',\n",
       "       'DX1 DX2 DX5 ', 'DX1 DX2 DX4 DX5 ', 'DX2 DX4 DX5 ',\n",
       "       'DX1 DX2 DX3 DX4 DX5 ', 'DX1 DX2 DX3 DX4 '], dtype=object)"
      ]
     },
     "execution_count": 330,
     "metadata": {},
     "output_type": "execute_result"
    }
   ],
   "source": [
    "test_data['Treated_with_drugs'].unique() "
   ]
  },
  {
   "cell_type": "code",
   "execution_count": 331,
   "id": "233fc511",
   "metadata": {},
   "outputs": [
    {
     "data": {
      "text/plain": [
       "ID_Patient_Care_Situation    0\n",
       "Diagnosed_Condition          0\n",
       "Patient_ID                   0\n",
       "Treated_with_drugs           0\n",
       "Patient_Age                  0\n",
       "Patient_Body_Mass_Index      0\n",
       "Patient_Smoker               0\n",
       "Patient_Rural_Urban          0\n",
       "Patient_mental_condition     0\n",
       "A                            0\n",
       "B                            0\n",
       "C                            0\n",
       "D                            0\n",
       "E                            0\n",
       "F                            0\n",
       "Z                            0\n",
       "Number_of_prev_cond          0\n",
       "dtype: int64"
      ]
     },
     "execution_count": 331,
     "metadata": {},
     "output_type": "execute_result"
    }
   ],
   "source": [
    "#calculate missimg values\n",
    "test_data.isnull().sum()"
   ]
  },
  {
   "cell_type": "code",
   "execution_count": 332,
   "id": "86f581fb",
   "metadata": {},
   "outputs": [
    {
     "data": {
      "image/png": "[encoded data removed]",
      "text/plain": [
       "<Figure size 864x720 with 2 Axes>"
      ]
     },
     "metadata": {
      "needs_background": "light"
     },
     "output_type": "display_data"
    }
   ],
   "source": [
    "#heatmap diagram\n",
    "plt.figure(figsize=(12,10))\n",
    "cor = test_data.corr()\n",
    "sns.heatmap(cor, annot=True, cmap=plt.cm.Reds)\n",
    "plt.show()"
   ]
  },
  {
   "cell_type": "code",
   "execution_count": 333,
   "id": "500e493a",
   "metadata": {},
   "outputs": [],
   "source": [
    "#drop columns which are least effective for prediction\n",
    "test_data.drop(['ID_Patient_Care_Situation','Patient_ID','Patient_mental_condition','Z'],axis=1,inplace=True)"
   ]
  },
  {
   "cell_type": "code",
   "execution_count": 334,
   "id": "7eaeaa75",
   "metadata": {},
   "outputs": [],
   "source": [
    "#convert object columns into numerical\n",
    "test_drug = pd.get_dummies(test_data['Treated_with_drugs'])\n",
    "test_smoker = pd.get_dummies(test_data['Patient_Smoker'])\n",
    "test_rural_urban = pd.get_dummies(test_data['Patient_Rural_Urban'])"
   ]
  },
  {
   "cell_type": "code",
   "execution_count": 335,
   "id": "983bccb2",
   "metadata": {},
   "outputs": [
    {
     "data": {
      "text/html": [
       "<div>\n",
       "<style scoped>\n",
       "    .dataframe tbody tr th:only-of-type {\n",
       "        vertical-align: middle;\n",
       "    }\n",
       "\n",
       "    .dataframe tbody tr th {\n",
       "        vertical-align: top;\n",
       "    }\n",
       "\n",
       "    .dataframe thead th {\n",
       "        text-align: right;\n",
       "    }\n",
       "</style>\n",
       "<table border=\"1\" class=\"dataframe\">\n",
       "  <thead>\n",
       "    <tr style=\"text-align: right;\">\n",
       "      <th></th>\n",
       "      <th>Diagnosed_Condition</th>\n",
       "      <th>Treated_with_drugs</th>\n",
       "      <th>Patient_Age</th>\n",
       "      <th>Patient_Body_Mass_Index</th>\n",
       "      <th>Patient_Smoker</th>\n",
       "      <th>Patient_Rural_Urban</th>\n",
       "      <th>A</th>\n",
       "      <th>B</th>\n",
       "      <th>C</th>\n",
       "      <th>D</th>\n",
       "      <th>...</th>\n",
       "      <th>DX3 DX4 DX5</th>\n",
       "      <th>DX3 DX5</th>\n",
       "      <th>DX4</th>\n",
       "      <th>DX4 DX5</th>\n",
       "      <th>DX5</th>\n",
       "      <th>DX6</th>\n",
       "      <th>NO</th>\n",
       "      <th>YES</th>\n",
       "      <th>RURAL</th>\n",
       "      <th>URBAN</th>\n",
       "    </tr>\n",
       "  </thead>\n",
       "  <tbody>\n",
       "    <tr>\n",
       "      <th>0</th>\n",
       "      <td>40</td>\n",
       "      <td>DX3</td>\n",
       "      <td>16</td>\n",
       "      <td>29.443894</td>\n",
       "      <td>NO</td>\n",
       "      <td>RURAL</td>\n",
       "      <td>1.0</td>\n",
       "      <td>0.0</td>\n",
       "      <td>0.0</td>\n",
       "      <td>0.0</td>\n",
       "      <td>...</td>\n",
       "      <td>0</td>\n",
       "      <td>0</td>\n",
       "      <td>0</td>\n",
       "      <td>0</td>\n",
       "      <td>0</td>\n",
       "      <td>0</td>\n",
       "      <td>1</td>\n",
       "      <td>0</td>\n",
       "      <td>1</td>\n",
       "      <td>0</td>\n",
       "    </tr>\n",
       "    <tr>\n",
       "      <th>1</th>\n",
       "      <td>52</td>\n",
       "      <td>DX6</td>\n",
       "      <td>24</td>\n",
       "      <td>26.836321</td>\n",
       "      <td>NO</td>\n",
       "      <td>URBAN</td>\n",
       "      <td>1.0</td>\n",
       "      <td>1.0</td>\n",
       "      <td>0.0</td>\n",
       "      <td>0.0</td>\n",
       "      <td>...</td>\n",
       "      <td>0</td>\n",
       "      <td>0</td>\n",
       "      <td>0</td>\n",
       "      <td>0</td>\n",
       "      <td>0</td>\n",
       "      <td>1</td>\n",
       "      <td>1</td>\n",
       "      <td>0</td>\n",
       "      <td>0</td>\n",
       "      <td>1</td>\n",
       "    </tr>\n",
       "    <tr>\n",
       "      <th>2</th>\n",
       "      <td>50</td>\n",
       "      <td>DX4 DX5</td>\n",
       "      <td>63</td>\n",
       "      <td>25.523280</td>\n",
       "      <td>NO</td>\n",
       "      <td>RURAL</td>\n",
       "      <td>1.0</td>\n",
       "      <td>0.0</td>\n",
       "      <td>0.0</td>\n",
       "      <td>0.0</td>\n",
       "      <td>...</td>\n",
       "      <td>0</td>\n",
       "      <td>0</td>\n",
       "      <td>0</td>\n",
       "      <td>1</td>\n",
       "      <td>0</td>\n",
       "      <td>0</td>\n",
       "      <td>1</td>\n",
       "      <td>0</td>\n",
       "      <td>1</td>\n",
       "      <td>0</td>\n",
       "    </tr>\n",
       "    <tr>\n",
       "      <th>3</th>\n",
       "      <td>32</td>\n",
       "      <td>DX6</td>\n",
       "      <td>42</td>\n",
       "      <td>27.171155</td>\n",
       "      <td>NO</td>\n",
       "      <td>URBAN</td>\n",
       "      <td>1.0</td>\n",
       "      <td>0.0</td>\n",
       "      <td>1.0</td>\n",
       "      <td>0.0</td>\n",
       "      <td>...</td>\n",
       "      <td>0</td>\n",
       "      <td>0</td>\n",
       "      <td>0</td>\n",
       "      <td>0</td>\n",
       "      <td>0</td>\n",
       "      <td>1</td>\n",
       "      <td>1</td>\n",
       "      <td>0</td>\n",
       "      <td>0</td>\n",
       "      <td>1</td>\n",
       "    </tr>\n",
       "    <tr>\n",
       "      <th>4</th>\n",
       "      <td>20</td>\n",
       "      <td>DX3</td>\n",
       "      <td>50</td>\n",
       "      <td>25.556192</td>\n",
       "      <td>NO</td>\n",
       "      <td>RURAL</td>\n",
       "      <td>1.0</td>\n",
       "      <td>0.0</td>\n",
       "      <td>0.0</td>\n",
       "      <td>0.0</td>\n",
       "      <td>...</td>\n",
       "      <td>0</td>\n",
       "      <td>0</td>\n",
       "      <td>0</td>\n",
       "      <td>0</td>\n",
       "      <td>0</td>\n",
       "      <td>0</td>\n",
       "      <td>1</td>\n",
       "      <td>0</td>\n",
       "      <td>1</td>\n",
       "      <td>0</td>\n",
       "    </tr>\n",
       "    <tr>\n",
       "      <th>...</th>\n",
       "      <td>...</td>\n",
       "      <td>...</td>\n",
       "      <td>...</td>\n",
       "      <td>...</td>\n",
       "      <td>...</td>\n",
       "      <td>...</td>\n",
       "      <td>...</td>\n",
       "      <td>...</td>\n",
       "      <td>...</td>\n",
       "      <td>...</td>\n",
       "      <td>...</td>\n",
       "      <td>...</td>\n",
       "      <td>...</td>\n",
       "      <td>...</td>\n",
       "      <td>...</td>\n",
       "      <td>...</td>\n",
       "      <td>...</td>\n",
       "      <td>...</td>\n",
       "      <td>...</td>\n",
       "      <td>...</td>\n",
       "      <td>...</td>\n",
       "    </tr>\n",
       "    <tr>\n",
       "      <th>9298</th>\n",
       "      <td>11</td>\n",
       "      <td>DX6</td>\n",
       "      <td>28</td>\n",
       "      <td>29.106314</td>\n",
       "      <td>NO</td>\n",
       "      <td>RURAL</td>\n",
       "      <td>1.0</td>\n",
       "      <td>1.0</td>\n",
       "      <td>1.0</td>\n",
       "      <td>0.0</td>\n",
       "      <td>...</td>\n",
       "      <td>0</td>\n",
       "      <td>0</td>\n",
       "      <td>0</td>\n",
       "      <td>0</td>\n",
       "      <td>0</td>\n",
       "      <td>1</td>\n",
       "      <td>1</td>\n",
       "      <td>0</td>\n",
       "      <td>1</td>\n",
       "      <td>0</td>\n",
       "    </tr>\n",
       "    <tr>\n",
       "      <th>9299</th>\n",
       "      <td>7</td>\n",
       "      <td>DX1</td>\n",
       "      <td>4</td>\n",
       "      <td>20.616673</td>\n",
       "      <td>NO</td>\n",
       "      <td>URBAN</td>\n",
       "      <td>1.0</td>\n",
       "      <td>1.0</td>\n",
       "      <td>0.0</td>\n",
       "      <td>0.0</td>\n",
       "      <td>...</td>\n",
       "      <td>0</td>\n",
       "      <td>0</td>\n",
       "      <td>0</td>\n",
       "      <td>0</td>\n",
       "      <td>0</td>\n",
       "      <td>0</td>\n",
       "      <td>1</td>\n",
       "      <td>0</td>\n",
       "      <td>0</td>\n",
       "      <td>1</td>\n",
       "    </tr>\n",
       "    <tr>\n",
       "      <th>9300</th>\n",
       "      <td>16</td>\n",
       "      <td>DX1 DX3 DX4 DX5</td>\n",
       "      <td>20</td>\n",
       "      <td>24.727357</td>\n",
       "      <td>YES</td>\n",
       "      <td>URBAN</td>\n",
       "      <td>1.0</td>\n",
       "      <td>0.0</td>\n",
       "      <td>0.0</td>\n",
       "      <td>0.0</td>\n",
       "      <td>...</td>\n",
       "      <td>0</td>\n",
       "      <td>0</td>\n",
       "      <td>0</td>\n",
       "      <td>0</td>\n",
       "      <td>0</td>\n",
       "      <td>0</td>\n",
       "      <td>0</td>\n",
       "      <td>1</td>\n",
       "      <td>0</td>\n",
       "      <td>1</td>\n",
       "    </tr>\n",
       "    <tr>\n",
       "      <th>9301</th>\n",
       "      <td>50</td>\n",
       "      <td>DX4</td>\n",
       "      <td>33</td>\n",
       "      <td>17.517426</td>\n",
       "      <td>NO</td>\n",
       "      <td>URBAN</td>\n",
       "      <td>1.0</td>\n",
       "      <td>1.0</td>\n",
       "      <td>1.0</td>\n",
       "      <td>1.0</td>\n",
       "      <td>...</td>\n",
       "      <td>0</td>\n",
       "      <td>0</td>\n",
       "      <td>1</td>\n",
       "      <td>0</td>\n",
       "      <td>0</td>\n",
       "      <td>0</td>\n",
       "      <td>1</td>\n",
       "      <td>0</td>\n",
       "      <td>0</td>\n",
       "      <td>1</td>\n",
       "    </tr>\n",
       "    <tr>\n",
       "      <th>9302</th>\n",
       "      <td>51</td>\n",
       "      <td>DX6</td>\n",
       "      <td>52</td>\n",
       "      <td>17.781011</td>\n",
       "      <td>YES</td>\n",
       "      <td>RURAL</td>\n",
       "      <td>1.0</td>\n",
       "      <td>0.0</td>\n",
       "      <td>0.0</td>\n",
       "      <td>0.0</td>\n",
       "      <td>...</td>\n",
       "      <td>0</td>\n",
       "      <td>0</td>\n",
       "      <td>0</td>\n",
       "      <td>0</td>\n",
       "      <td>0</td>\n",
       "      <td>1</td>\n",
       "      <td>0</td>\n",
       "      <td>1</td>\n",
       "      <td>1</td>\n",
       "      <td>0</td>\n",
       "    </tr>\n",
       "  </tbody>\n",
       "</table>\n",
       "<p>9303 rows × 49 columns</p>\n",
       "</div>"
      ],
      "text/plain": [
       "      Diagnosed_Condition Treated_with_drugs  Patient_Age  \\\n",
       "0                      40               DX3            16   \n",
       "1                      52                DX6           24   \n",
       "2                      50           DX4 DX5            63   \n",
       "3                      32                DX6           42   \n",
       "4                      20               DX3            50   \n",
       "...                   ...                ...          ...   \n",
       "9298                   11                DX6           28   \n",
       "9299                    7               DX1             4   \n",
       "9300                   16   DX1 DX3 DX4 DX5            20   \n",
       "9301                   50               DX4            33   \n",
       "9302                   51                DX6           52   \n",
       "\n",
       "      Patient_Body_Mass_Index Patient_Smoker Patient_Rural_Urban    A    B  \\\n",
       "0                   29.443894             NO               RURAL  1.0  0.0   \n",
       "1                   26.836321             NO               URBAN  1.0  1.0   \n",
       "2                   25.523280             NO               RURAL  1.0  0.0   \n",
       "3                   27.171155             NO               URBAN  1.0  0.0   \n",
       "4                   25.556192             NO               RURAL  1.0  0.0   \n",
       "...                       ...            ...                 ...  ...  ...   \n",
       "9298                29.106314             NO               RURAL  1.0  1.0   \n",
       "9299                20.616673             NO               URBAN  1.0  1.0   \n",
       "9300                24.727357            YES               URBAN  1.0  0.0   \n",
       "9301                17.517426             NO               URBAN  1.0  1.0   \n",
       "9302                17.781011            YES               RURAL  1.0  0.0   \n",
       "\n",
       "        C    D  ...  DX3 DX4 DX5   DX3 DX5   DX4   DX4 DX5   DX5   DX6  NO  \\\n",
       "0     0.0  0.0  ...             0         0     0         0     0    0   1   \n",
       "1     0.0  0.0  ...             0         0     0         0     0    1   1   \n",
       "2     0.0  0.0  ...             0         0     0         1     0    0   1   \n",
       "3     1.0  0.0  ...             0         0     0         0     0    1   1   \n",
       "4     0.0  0.0  ...             0         0     0         0     0    0   1   \n",
       "...   ...  ...  ...           ...       ...   ...       ...   ...  ...  ..   \n",
       "9298  1.0  0.0  ...             0         0     0         0     0    1   1   \n",
       "9299  0.0  0.0  ...             0         0     0         0     0    0   1   \n",
       "9300  0.0  0.0  ...             0         0     0         0     0    0   0   \n",
       "9301  1.0  1.0  ...             0         0     1         0     0    0   1   \n",
       "9302  0.0  0.0  ...             0         0     0         0     0    1   0   \n",
       "\n",
       "      YES  RURAL  URBAN  \n",
       "0       0      1      0  \n",
       "1       0      0      1  \n",
       "2       0      1      0  \n",
       "3       0      0      1  \n",
       "4       0      1      0  \n",
       "...   ...    ...    ...  \n",
       "9298    0      1      0  \n",
       "9299    0      0      1  \n",
       "9300    1      0      1  \n",
       "9301    0      0      1  \n",
       "9302    1      1      0  \n",
       "\n",
       "[9303 rows x 49 columns]"
      ]
     },
     "execution_count": 335,
     "metadata": {},
     "output_type": "execute_result"
    }
   ],
   "source": [
    "#concat with origin test data with numerical columns\n",
    "df_test = pd.concat([test_data, test_drug, test_smoker,test_rural_urban],axis=1)\n",
    "df_test"
   ]
  },
  {
   "cell_type": "code",
   "execution_count": 336,
   "id": "31ffb2b7",
   "metadata": {},
   "outputs": [
    {
     "data": {
      "text/html": [
       "<div>\n",
       "<style scoped>\n",
       "    .dataframe tbody tr th:only-of-type {\n",
       "        vertical-align: middle;\n",
       "    }\n",
       "\n",
       "    .dataframe tbody tr th {\n",
       "        vertical-align: top;\n",
       "    }\n",
       "\n",
       "    .dataframe thead th {\n",
       "        text-align: right;\n",
       "    }\n",
       "</style>\n",
       "<table border=\"1\" class=\"dataframe\">\n",
       "  <thead>\n",
       "    <tr style=\"text-align: right;\">\n",
       "      <th></th>\n",
       "      <th>Diagnosed_Condition</th>\n",
       "      <th>Patient_Age</th>\n",
       "      <th>Patient_Body_Mass_Index</th>\n",
       "      <th>A</th>\n",
       "      <th>B</th>\n",
       "      <th>C</th>\n",
       "      <th>D</th>\n",
       "      <th>E</th>\n",
       "      <th>F</th>\n",
       "      <th>Number_of_prev_cond</th>\n",
       "      <th>...</th>\n",
       "      <th>DX3 DX4 DX5</th>\n",
       "      <th>DX3 DX5</th>\n",
       "      <th>DX4</th>\n",
       "      <th>DX4 DX5</th>\n",
       "      <th>DX5</th>\n",
       "      <th>DX6</th>\n",
       "      <th>NO</th>\n",
       "      <th>YES</th>\n",
       "      <th>RURAL</th>\n",
       "      <th>URBAN</th>\n",
       "    </tr>\n",
       "  </thead>\n",
       "  <tbody>\n",
       "    <tr>\n",
       "      <th>0</th>\n",
       "      <td>40</td>\n",
       "      <td>16</td>\n",
       "      <td>29.443894</td>\n",
       "      <td>1.0</td>\n",
       "      <td>0.0</td>\n",
       "      <td>0.0</td>\n",
       "      <td>0.0</td>\n",
       "      <td>1.0</td>\n",
       "      <td>0.0</td>\n",
       "      <td>2.0</td>\n",
       "      <td>...</td>\n",
       "      <td>0</td>\n",
       "      <td>0</td>\n",
       "      <td>0</td>\n",
       "      <td>0</td>\n",
       "      <td>0</td>\n",
       "      <td>0</td>\n",
       "      <td>1</td>\n",
       "      <td>0</td>\n",
       "      <td>1</td>\n",
       "      <td>0</td>\n",
       "    </tr>\n",
       "    <tr>\n",
       "      <th>1</th>\n",
       "      <td>52</td>\n",
       "      <td>24</td>\n",
       "      <td>26.836321</td>\n",
       "      <td>1.0</td>\n",
       "      <td>1.0</td>\n",
       "      <td>0.0</td>\n",
       "      <td>0.0</td>\n",
       "      <td>0.0</td>\n",
       "      <td>0.0</td>\n",
       "      <td>2.0</td>\n",
       "      <td>...</td>\n",
       "      <td>0</td>\n",
       "      <td>0</td>\n",
       "      <td>0</td>\n",
       "      <td>0</td>\n",
       "      <td>0</td>\n",
       "      <td>1</td>\n",
       "      <td>1</td>\n",
       "      <td>0</td>\n",
       "      <td>0</td>\n",
       "      <td>1</td>\n",
       "    </tr>\n",
       "    <tr>\n",
       "      <th>2</th>\n",
       "      <td>50</td>\n",
       "      <td>63</td>\n",
       "      <td>25.523280</td>\n",
       "      <td>1.0</td>\n",
       "      <td>0.0</td>\n",
       "      <td>0.0</td>\n",
       "      <td>0.0</td>\n",
       "      <td>1.0</td>\n",
       "      <td>0.0</td>\n",
       "      <td>2.0</td>\n",
       "      <td>...</td>\n",
       "      <td>0</td>\n",
       "      <td>0</td>\n",
       "      <td>0</td>\n",
       "      <td>1</td>\n",
       "      <td>0</td>\n",
       "      <td>0</td>\n",
       "      <td>1</td>\n",
       "      <td>0</td>\n",
       "      <td>1</td>\n",
       "      <td>0</td>\n",
       "    </tr>\n",
       "    <tr>\n",
       "      <th>3</th>\n",
       "      <td>32</td>\n",
       "      <td>42</td>\n",
       "      <td>27.171155</td>\n",
       "      <td>1.0</td>\n",
       "      <td>0.0</td>\n",
       "      <td>1.0</td>\n",
       "      <td>0.0</td>\n",
       "      <td>1.0</td>\n",
       "      <td>0.0</td>\n",
       "      <td>3.0</td>\n",
       "      <td>...</td>\n",
       "      <td>0</td>\n",
       "      <td>0</td>\n",
       "      <td>0</td>\n",
       "      <td>0</td>\n",
       "      <td>0</td>\n",
       "      <td>1</td>\n",
       "      <td>1</td>\n",
       "      <td>0</td>\n",
       "      <td>0</td>\n",
       "      <td>1</td>\n",
       "    </tr>\n",
       "    <tr>\n",
       "      <th>4</th>\n",
       "      <td>20</td>\n",
       "      <td>50</td>\n",
       "      <td>25.556192</td>\n",
       "      <td>1.0</td>\n",
       "      <td>0.0</td>\n",
       "      <td>0.0</td>\n",
       "      <td>0.0</td>\n",
       "      <td>0.0</td>\n",
       "      <td>0.0</td>\n",
       "      <td>1.0</td>\n",
       "      <td>...</td>\n",
       "      <td>0</td>\n",
       "      <td>0</td>\n",
       "      <td>0</td>\n",
       "      <td>0</td>\n",
       "      <td>0</td>\n",
       "      <td>0</td>\n",
       "      <td>1</td>\n",
       "      <td>0</td>\n",
       "      <td>1</td>\n",
       "      <td>0</td>\n",
       "    </tr>\n",
       "  </tbody>\n",
       "</table>\n",
       "<p>5 rows × 46 columns</p>\n",
       "</div>"
      ],
      "text/plain": [
       "   Diagnosed_Condition  Patient_Age  Patient_Body_Mass_Index    A    B    C  \\\n",
       "0                   40           16                29.443894  1.0  0.0  0.0   \n",
       "1                   52           24                26.836321  1.0  1.0  0.0   \n",
       "2                   50           63                25.523280  1.0  0.0  0.0   \n",
       "3                   32           42                27.171155  1.0  0.0  1.0   \n",
       "4                   20           50                25.556192  1.0  0.0  0.0   \n",
       "\n",
       "     D    E    F  Number_of_prev_cond  ...  DX3 DX4 DX5   DX3 DX5   DX4   \\\n",
       "0  0.0  1.0  0.0                  2.0  ...             0         0     0   \n",
       "1  0.0  0.0  0.0                  2.0  ...             0         0     0   \n",
       "2  0.0  1.0  0.0                  2.0  ...             0         0     0   \n",
       "3  0.0  1.0  0.0                  3.0  ...             0         0     0   \n",
       "4  0.0  0.0  0.0                  1.0  ...             0         0     0   \n",
       "\n",
       "   DX4 DX5   DX5   DX6  NO  YES  RURAL  URBAN  \n",
       "0         0     0    0   1    0      1      0  \n",
       "1         0     0    1   1    0      0      1  \n",
       "2         1     0    0   1    0      1      0  \n",
       "3         0     0    1   1    0      0      1  \n",
       "4         0     0    0   1    0      1      0  \n",
       "\n",
       "[5 rows x 46 columns]"
      ]
     },
     "execution_count": 336,
     "metadata": {},
     "output_type": "execute_result"
    }
   ],
   "source": [
    "#After  numerical convertion and concatination we need to omit the object dtype columns\n",
    "df_test.drop(['Treated_with_drugs','Patient_Smoker','Patient_Rural_Urban'],axis=1,inplace=True)\n",
    "df_test.head()"
   ]
  },
  {
   "cell_type": "code",
   "execution_count": 337,
   "id": "5a155950",
   "metadata": {},
   "outputs": [
    {
     "name": "stdout",
     "output_type": "stream",
     "text": [
      "<class 'pandas.core.frame.DataFrame'>\n",
      "RangeIndex: 9303 entries, 0 to 9302\n",
      "Data columns (total 46 columns):\n",
      " #   Column                   Non-Null Count  Dtype  \n",
      "---  ------                   --------------  -----  \n",
      " 0   Diagnosed_Condition      9303 non-null   int64  \n",
      " 1   Patient_Age              9303 non-null   int64  \n",
      " 2   Patient_Body_Mass_Index  9303 non-null   float64\n",
      " 3   A                        9303 non-null   float64\n",
      " 4   B                        9303 non-null   float64\n",
      " 5   C                        9303 non-null   float64\n",
      " 6   D                        9303 non-null   float64\n",
      " 7   E                        9303 non-null   float64\n",
      " 8   F                        9303 non-null   float64\n",
      " 9   Number_of_prev_cond      9303 non-null   float64\n",
      " 10  DX1                      9303 non-null   uint8  \n",
      " 11  DX1 DX2                  9303 non-null   uint8  \n",
      " 12  DX1 DX2 DX3              9303 non-null   uint8  \n",
      " 13  DX1 DX2 DX3 DX4          9303 non-null   uint8  \n",
      " 14  DX1 DX2 DX3 DX4 DX5      9303 non-null   uint8  \n",
      " 15  DX1 DX2 DX3 DX5          9303 non-null   uint8  \n",
      " 16  DX1 DX2 DX4              9303 non-null   uint8  \n",
      " 17  DX1 DX2 DX4 DX5          9303 non-null   uint8  \n",
      " 18  DX1 DX2 DX5              9303 non-null   uint8  \n",
      " 19  DX1 DX3                  9303 non-null   uint8  \n",
      " 20  DX1 DX3 DX4              9303 non-null   uint8  \n",
      " 21  DX1 DX3 DX4 DX5          9303 non-null   uint8  \n",
      " 22  DX1 DX3 DX5              9303 non-null   uint8  \n",
      " 23  DX1 DX4                  9303 non-null   uint8  \n",
      " 24  DX1 DX4 DX5              9303 non-null   uint8  \n",
      " 25  DX1 DX5                  9303 non-null   uint8  \n",
      " 26  DX2                      9303 non-null   uint8  \n",
      " 27  DX2 DX3                  9303 non-null   uint8  \n",
      " 28  DX2 DX3 DX4              9303 non-null   uint8  \n",
      " 29  DX2 DX3 DX4 DX5          9303 non-null   uint8  \n",
      " 30  DX2 DX3 DX5              9303 non-null   uint8  \n",
      " 31  DX2 DX4                  9303 non-null   uint8  \n",
      " 32  DX2 DX4 DX5              9303 non-null   uint8  \n",
      " 33  DX2 DX5                  9303 non-null   uint8  \n",
      " 34  DX3                      9303 non-null   uint8  \n",
      " 35  DX3 DX4                  9303 non-null   uint8  \n",
      " 36  DX3 DX4 DX5              9303 non-null   uint8  \n",
      " 37  DX3 DX5                  9303 non-null   uint8  \n",
      " 38  DX4                      9303 non-null   uint8  \n",
      " 39  DX4 DX5                  9303 non-null   uint8  \n",
      " 40  DX5                      9303 non-null   uint8  \n",
      " 41  DX6                      9303 non-null   uint8  \n",
      " 42  NO                       9303 non-null   uint8  \n",
      " 43  YES                      9303 non-null   uint8  \n",
      " 44  RURAL                    9303 non-null   uint8  \n",
      " 45  URBAN                    9303 non-null   uint8  \n",
      "dtypes: float64(8), int64(2), uint8(36)\n",
      "memory usage: 1.0 MB\n"
     ]
    }
   ],
   "source": [
    "#column info\n",
    "df_test.info()"
   ]
  },
  {
   "cell_type": "code",
   "execution_count": 338,
   "id": "2a9386b9",
   "metadata": {},
   "outputs": [],
   "source": [
    "#predict using previously prepared model with test dataset\n",
    "prediction = model.predict(df_test)"
   ]
  },
  {
   "cell_type": "code",
   "execution_count": 339,
   "id": "a5bbd03c",
   "metadata": {},
   "outputs": [],
   "source": [
    "#convert data to csv file\n",
    "prediction_data = pd.DataFrame(prediction)\n",
    "prediction_data.to_csv(\"prediction.csv\",header=[\"prediction\"],index=False, )"
   ]
  }
 ],
 "metadata": {
  "kernelspec": {
   "display_name": "Python 3",
   "language": "python",
   "name": "python3"
  },
  "language_info": {
   "codemirror_mode": {
    "name": "ipython",
    "version": 3
   },
   "file_extension": ".py",
   "mimetype": "text/x-python",
   "name": "python",
   "nbconvert_exporter": "python",
   "pygments_lexer": "ipython3",
   "version": "3.8.8"
  }
 },
 "nbformat": 4,
 "nbformat_minor": 5
}
