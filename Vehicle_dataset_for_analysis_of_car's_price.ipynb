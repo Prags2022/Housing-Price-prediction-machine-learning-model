{
  "cells": [
    {
      "cell_type": "markdown",
      "source": [
        "A regression problem is a common type of supervised learning problem in Machine Learning. The end goal is to predict quantitative values – for example, continuous values such as the price of a car."
      ],
      "metadata": {
        "id": "pc_Jxd98zGC_"
      }
    },
    {
      "cell_type": "code",
      "source": [],
      "metadata": {
        "id": "VdhraLgczc56"
      },
      "execution_count": null,
      "outputs": []
    },
    {
      "cell_type": "markdown",
      "metadata": {
        "id": "DpDrk73IDzL3"
      },
      "source": [
        "A useful dataset for price prediction, this vehicle dataset includes information about cars and motorcycles listed on CarDekho.com. The data is in a CSV file which includes the following columns: model, year, selling price, showroom price, kilometers driven, fuel type, seller type, transmission, and number of previous owners."
      ]
    },
    {
      "cell_type": "code",
      "execution_count": null,
      "metadata": {
        "id": "ev6P6FU09Jk3"
      },
      "outputs": [],
      "source": [
        "import numpy as np\n",
        "import pandas as pd\n",
        "import matplotlib.pyplot as plt\n",
        "import seaborn as sns\n",
        "from sklearn.model_selection import train_test_split\n",
        "from sklearn.linear_model import LinearRegression\n",
        "from sklearn.metrics import r2_score\n",
        "from sklearn.metrics import mean_squared_error\n",
        "from sklearn import metrics\n",
        "from sklearn.linear_model import Ridge\n",
        "from sklearn.linear_model import Lasso"
      ]
    },
    {
      "cell_type": "code",
      "source": [],
      "metadata": {
        "id": "zMZWdjjPzFXB"
      },
      "execution_count": null,
      "outputs": []
    },
    {
      "cell_type": "code",
      "execution_count": null,
      "metadata": {
        "colab": {
          "base_uri": "https://localhost:8080/",
          "height": 74
        },
        "id": "a-CGxgArDx6w",
        "outputId": "a95af458-19e0-4533-8990-bc130ac6f520"
      },
      "outputs": [
        {
          "output_type": "display_data",
          "data": {
            "text/plain": [
              "<IPython.core.display.HTML object>"
            ],
            "text/html": [
              "\n",
              "     <input type=\"file\" id=\"files-4c2c9cdd-db37-42de-836d-229ca5bedb40\" name=\"files[]\" multiple disabled\n",
              "        style=\"border:none\" />\n",
              "     <output id=\"result-4c2c9cdd-db37-42de-836d-229ca5bedb40\">\n",
              "      Upload widget is only available when the cell has been executed in the\n",
              "      current browser session. Please rerun this cell to enable.\n",
              "      </output>\n",
              "      <script>// Copyright 2017 Google LLC\n",
              "//\n",
              "// Licensed under the Apache License, Version 2.0 (the \"License\");\n",
              "// you may not use this file except in compliance with the License.\n",
              "// You may obtain a copy of the License at\n",
              "//\n",
              "//      http://www.apache.org/licenses/LICENSE-2.0\n",
              "//\n",
              "// Unless required by applicable law or agreed to in writing, software\n",
              "// distributed under the License is distributed on an \"AS IS\" BASIS,\n",
              "// WITHOUT WARRANTIES OR CONDITIONS OF ANY KIND, either express or implied.\n",
              "// See the License for the specific language governing permissions and\n",
              "// limitations under the License.\n",
              "\n",
              "/**\n",
              " * @fileoverview Helpers for google.colab Python module.\n",
              " */\n",
              "(function(scope) {\n",
              "function span(text, styleAttributes = {}) {\n",
              "  const element = document.createElement('span');\n",
              "  element.textContent = text;\n",
              "  for (const key of Object.keys(styleAttributes)) {\n",
              "    element.style[key] = styleAttributes[key];\n",
              "  }\n",
              "  return element;\n",
              "}\n",
              "\n",
              "// Max number of bytes which will be uploaded at a time.\n",
              "const MAX_PAYLOAD_SIZE = 100 * 1024;\n",
              "\n",
              "function _uploadFiles(inputId, outputId) {\n",
              "  const steps = uploadFilesStep(inputId, outputId);\n",
              "  const outputElement = document.getElementById(outputId);\n",
              "  // Cache steps on the outputElement to make it available for the next call\n",
              "  // to uploadFilesContinue from Python.\n",
              "  outputElement.steps = steps;\n",
              "\n",
              "  return _uploadFilesContinue(outputId);\n",
              "}\n",
              "\n",
              "// This is roughly an async generator (not supported in the browser yet),\n",
              "// where there are multiple asynchronous steps and the Python side is going\n",
              "// to poll for completion of each step.\n",
              "// This uses a Promise to block the python side on completion of each step,\n",
              "// then passes the result of the previous step as the input to the next step.\n",
              "function _uploadFilesContinue(outputId) {\n",
              "  const outputElement = document.getElementById(outputId);\n",
              "  const steps = outputElement.steps;\n",
              "\n",
              "  const next = steps.next(outputElement.lastPromiseValue);\n",
              "  return Promise.resolve(next.value.promise).then((value) => {\n",
              "    // Cache the last promise value to make it available to the next\n",
              "    // step of the generator.\n",
              "    outputElement.lastPromiseValue = value;\n",
              "    return next.value.response;\n",
              "  });\n",
              "}\n",
              "\n",
              "/**\n",
              " * Generator function which is called between each async step of the upload\n",
              " * process.\n",
              " * @param {string} inputId Element ID of the input file picker element.\n",
              " * @param {string} outputId Element ID of the output display.\n",
              " * @return {!Iterable<!Object>} Iterable of next steps.\n",
              " */\n",
              "function* uploadFilesStep(inputId, outputId) {\n",
              "  const inputElement = document.getElementById(inputId);\n",
              "  inputElement.disabled = false;\n",
              "\n",
              "  const outputElement = document.getElementById(outputId);\n",
              "  outputElement.innerHTML = '';\n",
              "\n",
              "  const pickedPromise = new Promise((resolve) => {\n",
              "    inputElement.addEventListener('change', (e) => {\n",
              "      resolve(e.target.files);\n",
              "    });\n",
              "  });\n",
              "\n",
              "  const cancel = document.createElement('button');\n",
              "  inputElement.parentElement.appendChild(cancel);\n",
              "  cancel.textContent = 'Cancel upload';\n",
              "  const cancelPromise = new Promise((resolve) => {\n",
              "    cancel.onclick = () => {\n",
              "      resolve(null);\n",
              "    };\n",
              "  });\n",
              "\n",
              "  // Wait for the user to pick the files.\n",
              "  const files = yield {\n",
              "    promise: Promise.race([pickedPromise, cancelPromise]),\n",
              "    response: {\n",
              "      action: 'starting',\n",
              "    }\n",
              "  };\n",
              "\n",
              "  cancel.remove();\n",
              "\n",
              "  // Disable the input element since further picks are not allowed.\n",
              "  inputElement.disabled = true;\n",
              "\n",
              "  if (!files) {\n",
              "    return {\n",
              "      response: {\n",
              "        action: 'complete',\n",
              "      }\n",
              "    };\n",
              "  }\n",
              "\n",
              "  for (const file of files) {\n",
              "    const li = document.createElement('li');\n",
              "    li.append(span(file.name, {fontWeight: 'bold'}));\n",
              "    li.append(span(\n",
              "        `(${file.type || 'n/a'}) - ${file.size} bytes, ` +\n",
              "        `last modified: ${\n",
              "            file.lastModifiedDate ? file.lastModifiedDate.toLocaleDateString() :\n",
              "                                    'n/a'} - `));\n",
              "    const percent = span('0% done');\n",
              "    li.appendChild(percent);\n",
              "\n",
              "    outputElement.appendChild(li);\n",
              "\n",
              "    const fileDataPromise = new Promise((resolve) => {\n",
              "      const reader = new FileReader();\n",
              "      reader.onload = (e) => {\n",
              "        resolve(e.target.result);\n",
              "      };\n",
              "      reader.readAsArrayBuffer(file);\n",
              "    });\n",
              "    // Wait for the data to be ready.\n",
              "    let fileData = yield {\n",
              "      promise: fileDataPromise,\n",
              "      response: {\n",
              "        action: 'continue',\n",
              "      }\n",
              "    };\n",
              "\n",
              "    // Use a chunked sending to avoid message size limits. See b/62115660.\n",
              "    let position = 0;\n",
              "    do {\n",
              "      const length = Math.min(fileData.byteLength - position, MAX_PAYLOAD_SIZE);\n",
              "      const chunk = new Uint8Array(fileData, position, length);\n",
              "      position += length;\n",
              "\n",
              "      const base64 = btoa(String.fromCharCode.apply(null, chunk));\n",
              "      yield {\n",
              "        response: {\n",
              "          action: 'append',\n",
              "          file: file.name,\n",
              "          data: base64,\n",
              "        },\n",
              "      };\n",
              "\n",
              "      let percentDone = fileData.byteLength === 0 ?\n",
              "          100 :\n",
              "          Math.round((position / fileData.byteLength) * 100);\n",
              "      percent.textContent = `${percentDone}% done`;\n",
              "\n",
              "    } while (position < fileData.byteLength);\n",
              "  }\n",
              "\n",
              "  // All done.\n",
              "  yield {\n",
              "    response: {\n",
              "      action: 'complete',\n",
              "    }\n",
              "  };\n",
              "}\n",
              "\n",
              "scope.google = scope.google || {};\n",
              "scope.google.colab = scope.google.colab || {};\n",
              "scope.google.colab._files = {\n",
              "  _uploadFiles,\n",
              "  _uploadFilesContinue,\n",
              "};\n",
              "})(self);\n",
              "</script> "
            ]
          },
          "metadata": {}
        },
        {
          "output_type": "stream",
          "name": "stdout",
          "text": [
            "Saving car_data.csv to car_data.csv\n"
          ]
        }
      ],
      "source": [
        "from google.colab import files\n",
        "uploaded = files.upload()"
      ]
    },
    {
      "cell_type": "code",
      "source": [],
      "metadata": {
        "id": "VYpMvYVT9eQG"
      },
      "execution_count": null,
      "outputs": []
    },
    {
      "cell_type": "code",
      "execution_count": null,
      "metadata": {
        "id": "BLTYnrp1JVnC",
        "colab": {
          "base_uri": "https://localhost:8080/"
        },
        "outputId": "56b283b0-8d6f-4146-848b-712a7647c9fe"
      },
      "outputs": [
        {
          "output_type": "execute_result",
          "data": {
            "text/plain": [
              "(301, 9)"
            ]
          },
          "metadata": {},
          "execution_count": 8
        }
      ],
      "source": [
        "car_data=pd.read_csv('car_data.csv')\n",
        "car_data.shape"
      ]
    },
    {
      "cell_type": "code",
      "execution_count": null,
      "metadata": {
        "id": "Y1sQl74UJt7B",
        "colab": {
          "base_uri": "https://localhost:8080/",
          "height": 206
        },
        "outputId": "8d0829e2-98d7-4433-87a2-30666b2b4f94"
      },
      "outputs": [
        {
          "output_type": "execute_result",
          "data": {
            "text/plain": [
              "  Car_Name  Year  Selling_Price  Present_Price  Kms_Driven Fuel_Type  \\\n",
              "0     ritz  2014           3.35           5.59       27000    Petrol   \n",
              "1      sx4  2013           4.75           9.54       43000    Diesel   \n",
              "2     ciaz  2017           7.25           9.85        6900    Petrol   \n",
              "3  wagon r  2011           2.85           4.15        5200    Petrol   \n",
              "4    swift  2014           4.60           6.87       42450    Diesel   \n",
              "\n",
              "  Seller_Type Transmission  Owner  \n",
              "0      Dealer       Manual      0  \n",
              "1      Dealer       Manual      0  \n",
              "2      Dealer       Manual      0  \n",
              "3      Dealer       Manual      0  \n",
              "4      Dealer       Manual      0  "
            ],
            "text/html": [
              "\n",
              "  <div id=\"df-283071e4-6e14-4022-8677-c157a4adc43e\">\n",
              "    <div class=\"colab-df-container\">\n",
              "      <div>\n",
              "<style scoped>\n",
              "    .dataframe tbody tr th:only-of-type {\n",
              "        vertical-align: middle;\n",
              "    }\n",
              "\n",
              "    .dataframe tbody tr th {\n",
              "        vertical-align: top;\n",
              "    }\n",
              "\n",
              "    .dataframe thead th {\n",
              "        text-align: right;\n",
              "    }\n",
              "</style>\n",
              "<table border=\"1\" class=\"dataframe\">\n",
              "  <thead>\n",
              "    <tr style=\"text-align: right;\">\n",
              "      <th></th>\n",
              "      <th>Car_Name</th>\n",
              "      <th>Year</th>\n",
              "      <th>Selling_Price</th>\n",
              "      <th>Present_Price</th>\n",
              "      <th>Kms_Driven</th>\n",
              "      <th>Fuel_Type</th>\n",
              "      <th>Seller_Type</th>\n",
              "      <th>Transmission</th>\n",
              "      <th>Owner</th>\n",
              "    </tr>\n",
              "  </thead>\n",
              "  <tbody>\n",
              "    <tr>\n",
              "      <th>0</th>\n",
              "      <td>ritz</td>\n",
              "      <td>2014</td>\n",
              "      <td>3.35</td>\n",
              "      <td>5.59</td>\n",
              "      <td>27000</td>\n",
              "      <td>Petrol</td>\n",
              "      <td>Dealer</td>\n",
              "      <td>Manual</td>\n",
              "      <td>0</td>\n",
              "    </tr>\n",
              "    <tr>\n",
              "      <th>1</th>\n",
              "      <td>sx4</td>\n",
              "      <td>2013</td>\n",
              "      <td>4.75</td>\n",
              "      <td>9.54</td>\n",
              "      <td>43000</td>\n",
              "      <td>Diesel</td>\n",
              "      <td>Dealer</td>\n",
              "      <td>Manual</td>\n",
              "      <td>0</td>\n",
              "    </tr>\n",
              "    <tr>\n",
              "      <th>2</th>\n",
              "      <td>ciaz</td>\n",
              "      <td>2017</td>\n",
              "      <td>7.25</td>\n",
              "      <td>9.85</td>\n",
              "      <td>6900</td>\n",
              "      <td>Petrol</td>\n",
              "      <td>Dealer</td>\n",
              "      <td>Manual</td>\n",
              "      <td>0</td>\n",
              "    </tr>\n",
              "    <tr>\n",
              "      <th>3</th>\n",
              "      <td>wagon r</td>\n",
              "      <td>2011</td>\n",
              "      <td>2.85</td>\n",
              "      <td>4.15</td>\n",
              "      <td>5200</td>\n",
              "      <td>Petrol</td>\n",
              "      <td>Dealer</td>\n",
              "      <td>Manual</td>\n",
              "      <td>0</td>\n",
              "    </tr>\n",
              "    <tr>\n",
              "      <th>4</th>\n",
              "      <td>swift</td>\n",
              "      <td>2014</td>\n",
              "      <td>4.60</td>\n",
              "      <td>6.87</td>\n",
              "      <td>42450</td>\n",
              "      <td>Diesel</td>\n",
              "      <td>Dealer</td>\n",
              "      <td>Manual</td>\n",
              "      <td>0</td>\n",
              "    </tr>\n",
              "  </tbody>\n",
              "</table>\n",
              "</div>\n",
              "      <button class=\"colab-df-convert\" onclick=\"convertToInteractive('df-283071e4-6e14-4022-8677-c157a4adc43e')\"\n",
              "              title=\"Convert this dataframe to an interactive table.\"\n",
              "              style=\"display:none;\">\n",
              "        \n",
              "  <svg xmlns=\"http://www.w3.org/2000/svg\" height=\"24px\"viewBox=\"0 0 24 24\"\n",
              "       width=\"24px\">\n",
              "    <path d=\"M0 0h24v24H0V0z\" fill=\"none\"/>\n",
              "    <path d=\"M18.56 5.44l.94 2.06.94-2.06 2.06-.94-2.06-.94-.94-2.06-.94 2.06-2.06.94zm-11 1L8.5 8.5l.94-2.06 2.06-.94-2.06-.94L8.5 2.5l-.94 2.06-2.06.94zm10 10l.94 2.06.94-2.06 2.06-.94-2.06-.94-.94-2.06-.94 2.06-2.06.94z\"/><path d=\"M17.41 7.96l-1.37-1.37c-.4-.4-.92-.59-1.43-.59-.52 0-1.04.2-1.43.59L10.3 9.45l-7.72 7.72c-.78.78-.78 2.05 0 2.83L4 21.41c.39.39.9.59 1.41.59.51 0 1.02-.2 1.41-.59l7.78-7.78 2.81-2.81c.8-.78.8-2.07 0-2.86zM5.41 20L4 18.59l7.72-7.72 1.47 1.35L5.41 20z\"/>\n",
              "  </svg>\n",
              "      </button>\n",
              "      \n",
              "  <style>\n",
              "    .colab-df-container {\n",
              "      display:flex;\n",
              "      flex-wrap:wrap;\n",
              "      gap: 12px;\n",
              "    }\n",
              "\n",
              "    .colab-df-convert {\n",
              "      background-color: #E8F0FE;\n",
              "      border: none;\n",
              "      border-radius: 50%;\n",
              "      cursor: pointer;\n",
              "      display: none;\n",
              "      fill: #1967D2;\n",
              "      height: 32px;\n",
              "      padding: 0 0 0 0;\n",
              "      width: 32px;\n",
              "    }\n",
              "\n",
              "    .colab-df-convert:hover {\n",
              "      background-color: #E2EBFA;\n",
              "      box-shadow: 0px 1px 2px rgba(60, 64, 67, 0.3), 0px 1px 3px 1px rgba(60, 64, 67, 0.15);\n",
              "      fill: #174EA6;\n",
              "    }\n",
              "\n",
              "    [theme=dark] .colab-df-convert {\n",
              "      background-color: #3B4455;\n",
              "      fill: #D2E3FC;\n",
              "    }\n",
              "\n",
              "    [theme=dark] .colab-df-convert:hover {\n",
              "      background-color: #434B5C;\n",
              "      box-shadow: 0px 1px 3px 1px rgba(0, 0, 0, 0.15);\n",
              "      filter: drop-shadow(0px 1px 2px rgba(0, 0, 0, 0.3));\n",
              "      fill: #FFFFFF;\n",
              "    }\n",
              "  </style>\n",
              "\n",
              "      <script>\n",
              "        const buttonEl =\n",
              "          document.querySelector('#df-283071e4-6e14-4022-8677-c157a4adc43e button.colab-df-convert');\n",
              "        buttonEl.style.display =\n",
              "          google.colab.kernel.accessAllowed ? 'block' : 'none';\n",
              "\n",
              "        async function convertToInteractive(key) {\n",
              "          const element = document.querySelector('#df-283071e4-6e14-4022-8677-c157a4adc43e');\n",
              "          const dataTable =\n",
              "            await google.colab.kernel.invokeFunction('convertToInteractive',\n",
              "                                                     [key], {});\n",
              "          if (!dataTable) return;\n",
              "\n",
              "          const docLinkHtml = 'Like what you see? Visit the ' +\n",
              "            '<a target=\"_blank\" href=https://colab.research.google.com/notebooks/data_table.ipynb>data table notebook</a>'\n",
              "            + ' to learn more about interactive tables.';\n",
              "          element.innerHTML = '';\n",
              "          dataTable['output_type'] = 'display_data';\n",
              "          await google.colab.output.renderOutput(dataTable, element);\n",
              "          const docLink = document.createElement('div');\n",
              "          docLink.innerHTML = docLinkHtml;\n",
              "          element.appendChild(docLink);\n",
              "        }\n",
              "      </script>\n",
              "    </div>\n",
              "  </div>\n",
              "  "
            ]
          },
          "metadata": {},
          "execution_count": 9
        }
      ],
      "source": [
        "car_data.head()"
      ]
    },
    {
      "cell_type": "code",
      "execution_count": null,
      "metadata": {
        "id": "GQi8qhsLPDWv",
        "colab": {
          "base_uri": "https://localhost:8080/"
        },
        "outputId": "ec897992-8242-40ee-88bb-43de1fc915fb"
      },
      "outputs": [
        {
          "output_type": "execute_result",
          "data": {
            "text/plain": [
              "array(['Petrol', 'Diesel', 'CNG'], dtype=object)"
            ]
          },
          "metadata": {},
          "execution_count": 10
        }
      ],
      "source": [
        "car_data['Fuel_Type'].unique()"
      ]
    },
    {
      "cell_type": "code",
      "execution_count": null,
      "metadata": {
        "id": "vB3oLqlkPY2E",
        "colab": {
          "base_uri": "https://localhost:8080/"
        },
        "outputId": "d8173958-2045-40e4-fe4d-b8cbeb8f5771"
      },
      "outputs": [
        {
          "output_type": "execute_result",
          "data": {
            "text/plain": [
              "array(['Dealer', 'Individual'], dtype=object)"
            ]
          },
          "metadata": {},
          "execution_count": 11
        }
      ],
      "source": [
        "car_data['Seller_Type'].unique()"
      ]
    },
    {
      "cell_type": "code",
      "execution_count": null,
      "metadata": {
        "id": "mj8CBj7HPif9",
        "colab": {
          "base_uri": "https://localhost:8080/"
        },
        "outputId": "6d5c03b2-69ad-409b-d02c-470b78784d60"
      },
      "outputs": [
        {
          "output_type": "execute_result",
          "data": {
            "text/plain": [
              "array(['Manual', 'Automatic'], dtype=object)"
            ]
          },
          "metadata": {},
          "execution_count": 12
        }
      ],
      "source": [
        "car_data['Transmission'].unique()"
      ]
    },
    {
      "cell_type": "code",
      "execution_count": null,
      "metadata": {
        "id": "pfMUBJj9QvdY",
        "colab": {
          "base_uri": "https://localhost:8080/"
        },
        "outputId": "205c1b03-ffb9-4094-8752-ecdfd46dc75f"
      },
      "outputs": [
        {
          "output_type": "execute_result",
          "data": {
            "text/plain": [
              "array([0, 1, 3])"
            ]
          },
          "metadata": {},
          "execution_count": 13
        }
      ],
      "source": [
        "car_data['Owner'].unique()"
      ]
    },
    {
      "cell_type": "code",
      "execution_count": null,
      "metadata": {
        "id": "ybbhE9aHJwMH",
        "colab": {
          "base_uri": "https://localhost:8080/"
        },
        "outputId": "ce3b6d6a-13e8-46f9-ed08-beac8aff910a"
      },
      "outputs": [
        {
          "output_type": "stream",
          "name": "stdout",
          "text": [
            "<class 'pandas.core.frame.DataFrame'>\n",
            "RangeIndex: 301 entries, 0 to 300\n",
            "Data columns (total 9 columns):\n",
            " #   Column         Non-Null Count  Dtype  \n",
            "---  ------         --------------  -----  \n",
            " 0   Car_Name       301 non-null    object \n",
            " 1   Year           301 non-null    int64  \n",
            " 2   Selling_Price  301 non-null    float64\n",
            " 3   Present_Price  301 non-null    float64\n",
            " 4   Kms_Driven     301 non-null    int64  \n",
            " 5   Fuel_Type      301 non-null    object \n",
            " 6   Seller_Type    301 non-null    object \n",
            " 7   Transmission   301 non-null    object \n",
            " 8   Owner          301 non-null    int64  \n",
            "dtypes: float64(2), int64(3), object(4)\n",
            "memory usage: 21.3+ KB\n"
          ]
        }
      ],
      "source": [
        "car_data.info()"
      ]
    },
    {
      "cell_type": "code",
      "execution_count": null,
      "metadata": {
        "id": "fui_0fw_KCbI",
        "colab": {
          "base_uri": "https://localhost:8080/",
          "height": 300
        },
        "outputId": "1d6a1d0c-a3b2-4a9c-9481-980fd6789714"
      },
      "outputs": [
        {
          "output_type": "execute_result",
          "data": {
            "text/plain": [
              "              Year  Selling_Price  Present_Price     Kms_Driven       Owner\n",
              "count   301.000000     301.000000     301.000000     301.000000  301.000000\n",
              "mean   2013.627907       4.661296       7.628472   36947.205980    0.043189\n",
              "std       2.891554       5.082812       8.644115   38886.883882    0.247915\n",
              "min    2003.000000       0.100000       0.320000     500.000000    0.000000\n",
              "25%    2012.000000       0.900000       1.200000   15000.000000    0.000000\n",
              "50%    2014.000000       3.600000       6.400000   32000.000000    0.000000\n",
              "75%    2016.000000       6.000000       9.900000   48767.000000    0.000000\n",
              "max    2018.000000      35.000000      92.600000  500000.000000    3.000000"
            ],
            "text/html": [
              "\n",
              "  <div id=\"df-ed07feac-7a05-40fc-89e8-21e2d3259792\">\n",
              "    <div class=\"colab-df-container\">\n",
              "      <div>\n",
              "<style scoped>\n",
              "    .dataframe tbody tr th:only-of-type {\n",
              "        vertical-align: middle;\n",
              "    }\n",
              "\n",
              "    .dataframe tbody tr th {\n",
              "        vertical-align: top;\n",
              "    }\n",
              "\n",
              "    .dataframe thead th {\n",
              "        text-align: right;\n",
              "    }\n",
              "</style>\n",
              "<table border=\"1\" class=\"dataframe\">\n",
              "  <thead>\n",
              "    <tr style=\"text-align: right;\">\n",
              "      <th></th>\n",
              "      <th>Year</th>\n",
              "      <th>Selling_Price</th>\n",
              "      <th>Present_Price</th>\n",
              "      <th>Kms_Driven</th>\n",
              "      <th>Owner</th>\n",
              "    </tr>\n",
              "  </thead>\n",
              "  <tbody>\n",
              "    <tr>\n",
              "      <th>count</th>\n",
              "      <td>301.000000</td>\n",
              "      <td>301.000000</td>\n",
              "      <td>301.000000</td>\n",
              "      <td>301.000000</td>\n",
              "      <td>301.000000</td>\n",
              "    </tr>\n",
              "    <tr>\n",
              "      <th>mean</th>\n",
              "      <td>2013.627907</td>\n",
              "      <td>4.661296</td>\n",
              "      <td>7.628472</td>\n",
              "      <td>36947.205980</td>\n",
              "      <td>0.043189</td>\n",
              "    </tr>\n",
              "    <tr>\n",
              "      <th>std</th>\n",
              "      <td>2.891554</td>\n",
              "      <td>5.082812</td>\n",
              "      <td>8.644115</td>\n",
              "      <td>38886.883882</td>\n",
              "      <td>0.247915</td>\n",
              "    </tr>\n",
              "    <tr>\n",
              "      <th>min</th>\n",
              "      <td>2003.000000</td>\n",
              "      <td>0.100000</td>\n",
              "      <td>0.320000</td>\n",
              "      <td>500.000000</td>\n",
              "      <td>0.000000</td>\n",
              "    </tr>\n",
              "    <tr>\n",
              "      <th>25%</th>\n",
              "      <td>2012.000000</td>\n",
              "      <td>0.900000</td>\n",
              "      <td>1.200000</td>\n",
              "      <td>15000.000000</td>\n",
              "      <td>0.000000</td>\n",
              "    </tr>\n",
              "    <tr>\n",
              "      <th>50%</th>\n",
              "      <td>2014.000000</td>\n",
              "      <td>3.600000</td>\n",
              "      <td>6.400000</td>\n",
              "      <td>32000.000000</td>\n",
              "      <td>0.000000</td>\n",
              "    </tr>\n",
              "    <tr>\n",
              "      <th>75%</th>\n",
              "      <td>2016.000000</td>\n",
              "      <td>6.000000</td>\n",
              "      <td>9.900000</td>\n",
              "      <td>48767.000000</td>\n",
              "      <td>0.000000</td>\n",
              "    </tr>\n",
              "    <tr>\n",
              "      <th>max</th>\n",
              "      <td>2018.000000</td>\n",
              "      <td>35.000000</td>\n",
              "      <td>92.600000</td>\n",
              "      <td>500000.000000</td>\n",
              "      <td>3.000000</td>\n",
              "    </tr>\n",
              "  </tbody>\n",
              "</table>\n",
              "</div>\n",
              "      <button class=\"colab-df-convert\" onclick=\"convertToInteractive('df-ed07feac-7a05-40fc-89e8-21e2d3259792')\"\n",
              "              title=\"Convert this dataframe to an interactive table.\"\n",
              "              style=\"display:none;\">\n",
              "        \n",
              "  <svg xmlns=\"http://www.w3.org/2000/svg\" height=\"24px\"viewBox=\"0 0 24 24\"\n",
              "       width=\"24px\">\n",
              "    <path d=\"M0 0h24v24H0V0z\" fill=\"none\"/>\n",
              "    <path d=\"M18.56 5.44l.94 2.06.94-2.06 2.06-.94-2.06-.94-.94-2.06-.94 2.06-2.06.94zm-11 1L8.5 8.5l.94-2.06 2.06-.94-2.06-.94L8.5 2.5l-.94 2.06-2.06.94zm10 10l.94 2.06.94-2.06 2.06-.94-2.06-.94-.94-2.06-.94 2.06-2.06.94z\"/><path d=\"M17.41 7.96l-1.37-1.37c-.4-.4-.92-.59-1.43-.59-.52 0-1.04.2-1.43.59L10.3 9.45l-7.72 7.72c-.78.78-.78 2.05 0 2.83L4 21.41c.39.39.9.59 1.41.59.51 0 1.02-.2 1.41-.59l7.78-7.78 2.81-2.81c.8-.78.8-2.07 0-2.86zM5.41 20L4 18.59l7.72-7.72 1.47 1.35L5.41 20z\"/>\n",
              "  </svg>\n",
              "      </button>\n",
              "      \n",
              "  <style>\n",
              "    .colab-df-container {\n",
              "      display:flex;\n",
              "      flex-wrap:wrap;\n",
              "      gap: 12px;\n",
              "    }\n",
              "\n",
              "    .colab-df-convert {\n",
              "      background-color: #E8F0FE;\n",
              "      border: none;\n",
              "      border-radius: 50%;\n",
              "      cursor: pointer;\n",
              "      display: none;\n",
              "      fill: #1967D2;\n",
              "      height: 32px;\n",
              "      padding: 0 0 0 0;\n",
              "      width: 32px;\n",
              "    }\n",
              "\n",
              "    .colab-df-convert:hover {\n",
              "      background-color: #E2EBFA;\n",
              "      box-shadow: 0px 1px 2px rgba(60, 64, 67, 0.3), 0px 1px 3px 1px rgba(60, 64, 67, 0.15);\n",
              "      fill: #174EA6;\n",
              "    }\n",
              "\n",
              "    [theme=dark] .colab-df-convert {\n",
              "      background-color: #3B4455;\n",
              "      fill: #D2E3FC;\n",
              "    }\n",
              "\n",
              "    [theme=dark] .colab-df-convert:hover {\n",
              "      background-color: #434B5C;\n",
              "      box-shadow: 0px 1px 3px 1px rgba(0, 0, 0, 0.15);\n",
              "      filter: drop-shadow(0px 1px 2px rgba(0, 0, 0, 0.3));\n",
              "      fill: #FFFFFF;\n",
              "    }\n",
              "  </style>\n",
              "\n",
              "      <script>\n",
              "        const buttonEl =\n",
              "          document.querySelector('#df-ed07feac-7a05-40fc-89e8-21e2d3259792 button.colab-df-convert');\n",
              "        buttonEl.style.display =\n",
              "          google.colab.kernel.accessAllowed ? 'block' : 'none';\n",
              "\n",
              "        async function convertToInteractive(key) {\n",
              "          const element = document.querySelector('#df-ed07feac-7a05-40fc-89e8-21e2d3259792');\n",
              "          const dataTable =\n",
              "            await google.colab.kernel.invokeFunction('convertToInteractive',\n",
              "                                                     [key], {});\n",
              "          if (!dataTable) return;\n",
              "\n",
              "          const docLinkHtml = 'Like what you see? Visit the ' +\n",
              "            '<a target=\"_blank\" href=https://colab.research.google.com/notebooks/data_table.ipynb>data table notebook</a>'\n",
              "            + ' to learn more about interactive tables.';\n",
              "          element.innerHTML = '';\n",
              "          dataTable['output_type'] = 'display_data';\n",
              "          await google.colab.output.renderOutput(dataTable, element);\n",
              "          const docLink = document.createElement('div');\n",
              "          docLink.innerHTML = docLinkHtml;\n",
              "          element.appendChild(docLink);\n",
              "        }\n",
              "      </script>\n",
              "    </div>\n",
              "  </div>\n",
              "  "
            ]
          },
          "metadata": {},
          "execution_count": 15
        }
      ],
      "source": [
        "car_data.describe()"
      ]
    },
    {
      "cell_type": "code",
      "execution_count": null,
      "metadata": {
        "id": "MGCiG1opKJui",
        "colab": {
          "base_uri": "https://localhost:8080/",
          "height": 206
        },
        "outputId": "c0e238f0-4215-4be4-a881-f1d06ee7dead"
      },
      "outputs": [
        {
          "output_type": "execute_result",
          "data": {
            "text/plain": [
              "                   Year  Selling_Price  Present_Price  Kms_Driven     Owner\n",
              "Year           1.000000       0.236141      -0.047584   -0.524342 -0.182104\n",
              "Selling_Price  0.236141       1.000000       0.878983    0.029187 -0.088344\n",
              "Present_Price -0.047584       0.878983       1.000000    0.203647  0.008057\n",
              "Kms_Driven    -0.524342       0.029187       0.203647    1.000000  0.089216\n",
              "Owner         -0.182104      -0.088344       0.008057    0.089216  1.000000"
            ],
            "text/html": [
              "\n",
              "  <div id=\"df-80321a54-1fc9-4ce3-871b-3cb50e588630\">\n",
              "    <div class=\"colab-df-container\">\n",
              "      <div>\n",
              "<style scoped>\n",
              "    .dataframe tbody tr th:only-of-type {\n",
              "        vertical-align: middle;\n",
              "    }\n",
              "\n",
              "    .dataframe tbody tr th {\n",
              "        vertical-align: top;\n",
              "    }\n",
              "\n",
              "    .dataframe thead th {\n",
              "        text-align: right;\n",
              "    }\n",
              "</style>\n",
              "<table border=\"1\" class=\"dataframe\">\n",
              "  <thead>\n",
              "    <tr style=\"text-align: right;\">\n",
              "      <th></th>\n",
              "      <th>Year</th>\n",
              "      <th>Selling_Price</th>\n",
              "      <th>Present_Price</th>\n",
              "      <th>Kms_Driven</th>\n",
              "      <th>Owner</th>\n",
              "    </tr>\n",
              "  </thead>\n",
              "  <tbody>\n",
              "    <tr>\n",
              "      <th>Year</th>\n",
              "      <td>1.000000</td>\n",
              "      <td>0.236141</td>\n",
              "      <td>-0.047584</td>\n",
              "      <td>-0.524342</td>\n",
              "      <td>-0.182104</td>\n",
              "    </tr>\n",
              "    <tr>\n",
              "      <th>Selling_Price</th>\n",
              "      <td>0.236141</td>\n",
              "      <td>1.000000</td>\n",
              "      <td>0.878983</td>\n",
              "      <td>0.029187</td>\n",
              "      <td>-0.088344</td>\n",
              "    </tr>\n",
              "    <tr>\n",
              "      <th>Present_Price</th>\n",
              "      <td>-0.047584</td>\n",
              "      <td>0.878983</td>\n",
              "      <td>1.000000</td>\n",
              "      <td>0.203647</td>\n",
              "      <td>0.008057</td>\n",
              "    </tr>\n",
              "    <tr>\n",
              "      <th>Kms_Driven</th>\n",
              "      <td>-0.524342</td>\n",
              "      <td>0.029187</td>\n",
              "      <td>0.203647</td>\n",
              "      <td>1.000000</td>\n",
              "      <td>0.089216</td>\n",
              "    </tr>\n",
              "    <tr>\n",
              "      <th>Owner</th>\n",
              "      <td>-0.182104</td>\n",
              "      <td>-0.088344</td>\n",
              "      <td>0.008057</td>\n",
              "      <td>0.089216</td>\n",
              "      <td>1.000000</td>\n",
              "    </tr>\n",
              "  </tbody>\n",
              "</table>\n",
              "</div>\n",
              "      <button class=\"colab-df-convert\" onclick=\"convertToInteractive('df-80321a54-1fc9-4ce3-871b-3cb50e588630')\"\n",
              "              title=\"Convert this dataframe to an interactive table.\"\n",
              "              style=\"display:none;\">\n",
              "        \n",
              "  <svg xmlns=\"http://www.w3.org/2000/svg\" height=\"24px\"viewBox=\"0 0 24 24\"\n",
              "       width=\"24px\">\n",
              "    <path d=\"M0 0h24v24H0V0z\" fill=\"none\"/>\n",
              "    <path d=\"M18.56 5.44l.94 2.06.94-2.06 2.06-.94-2.06-.94-.94-2.06-.94 2.06-2.06.94zm-11 1L8.5 8.5l.94-2.06 2.06-.94-2.06-.94L8.5 2.5l-.94 2.06-2.06.94zm10 10l.94 2.06.94-2.06 2.06-.94-2.06-.94-.94-2.06-.94 2.06-2.06.94z\"/><path d=\"M17.41 7.96l-1.37-1.37c-.4-.4-.92-.59-1.43-.59-.52 0-1.04.2-1.43.59L10.3 9.45l-7.72 7.72c-.78.78-.78 2.05 0 2.83L4 21.41c.39.39.9.59 1.41.59.51 0 1.02-.2 1.41-.59l7.78-7.78 2.81-2.81c.8-.78.8-2.07 0-2.86zM5.41 20L4 18.59l7.72-7.72 1.47 1.35L5.41 20z\"/>\n",
              "  </svg>\n",
              "      </button>\n",
              "      \n",
              "  <style>\n",
              "    .colab-df-container {\n",
              "      display:flex;\n",
              "      flex-wrap:wrap;\n",
              "      gap: 12px;\n",
              "    }\n",
              "\n",
              "    .colab-df-convert {\n",
              "      background-color: #E8F0FE;\n",
              "      border: none;\n",
              "      border-radius: 50%;\n",
              "      cursor: pointer;\n",
              "      display: none;\n",
              "      fill: #1967D2;\n",
              "      height: 32px;\n",
              "      padding: 0 0 0 0;\n",
              "      width: 32px;\n",
              "    }\n",
              "\n",
              "    .colab-df-convert:hover {\n",
              "      background-color: #E2EBFA;\n",
              "      box-shadow: 0px 1px 2px rgba(60, 64, 67, 0.3), 0px 1px 3px 1px rgba(60, 64, 67, 0.15);\n",
              "      fill: #174EA6;\n",
              "    }\n",
              "\n",
              "    [theme=dark] .colab-df-convert {\n",
              "      background-color: #3B4455;\n",
              "      fill: #D2E3FC;\n",
              "    }\n",
              "\n",
              "    [theme=dark] .colab-df-convert:hover {\n",
              "      background-color: #434B5C;\n",
              "      box-shadow: 0px 1px 3px 1px rgba(0, 0, 0, 0.15);\n",
              "      filter: drop-shadow(0px 1px 2px rgba(0, 0, 0, 0.3));\n",
              "      fill: #FFFFFF;\n",
              "    }\n",
              "  </style>\n",
              "\n",
              "      <script>\n",
              "        const buttonEl =\n",
              "          document.querySelector('#df-80321a54-1fc9-4ce3-871b-3cb50e588630 button.colab-df-convert');\n",
              "        buttonEl.style.display =\n",
              "          google.colab.kernel.accessAllowed ? 'block' : 'none';\n",
              "\n",
              "        async function convertToInteractive(key) {\n",
              "          const element = document.querySelector('#df-80321a54-1fc9-4ce3-871b-3cb50e588630');\n",
              "          const dataTable =\n",
              "            await google.colab.kernel.invokeFunction('convertToInteractive',\n",
              "                                                     [key], {});\n",
              "          if (!dataTable) return;\n",
              "\n",
              "          const docLinkHtml = 'Like what you see? Visit the ' +\n",
              "            '<a target=\"_blank\" href=https://colab.research.google.com/notebooks/data_table.ipynb>data table notebook</a>'\n",
              "            + ' to learn more about interactive tables.';\n",
              "          element.innerHTML = '';\n",
              "          dataTable['output_type'] = 'display_data';\n",
              "          await google.colab.output.renderOutput(dataTable, element);\n",
              "          const docLink = document.createElement('div');\n",
              "          docLink.innerHTML = docLinkHtml;\n",
              "          element.appendChild(docLink);\n",
              "        }\n",
              "      </script>\n",
              "    </div>\n",
              "  </div>\n",
              "  "
            ]
          },
          "metadata": {},
          "execution_count": 16
        }
      ],
      "source": [
        "car_data.corr()"
      ]
    },
    {
      "cell_type": "code",
      "execution_count": null,
      "metadata": {
        "id": "ZBc0q9TrKNFE"
      },
      "outputs": [],
      "source": [
        "car_data_missing=car_data.isnull()"
      ]
    },
    {
      "cell_type": "code",
      "execution_count": null,
      "metadata": {
        "id": "jcBCxBBUKTcq",
        "colab": {
          "base_uri": "https://localhost:8080/"
        },
        "outputId": "ed26d1be-aa34-4a65-c6fd-004b434a4da0"
      },
      "outputs": [
        {
          "output_type": "execute_result",
          "data": {
            "text/plain": [
              "Car_Name         0\n",
              "Year             0\n",
              "Selling_Price    0\n",
              "Present_Price    0\n",
              "Kms_Driven       0\n",
              "Fuel_Type        0\n",
              "Seller_Type      0\n",
              "Transmission     0\n",
              "Owner            0\n",
              "dtype: int64"
            ]
          },
          "metadata": {},
          "execution_count": 18
        }
      ],
      "source": [
        "car_data_missing.sum()"
      ]
    },
    {
      "cell_type": "code",
      "execution_count": null,
      "metadata": {
        "id": "YNea_y9NLN9K",
        "colab": {
          "base_uri": "https://localhost:8080/",
          "height": 517
        },
        "outputId": "d20a1d49-d4dd-4db6-d693-b3d8ea83de58"
      },
      "outputs": [
        {
          "output_type": "execute_result",
          "data": {
            "text/plain": [
              "Text(0.5, 1.0, 'Heatmap for correlation between columns of car_data')"
            ]
          },
          "metadata": {},
          "execution_count": 19
        },
        {
          "output_type": "display_data",
          "data": {
            "text/plain": [
              "<Figure size 1080x576 with 2 Axes>"
            ],
            "image/png": "[encoded data removed]"
          },
          "metadata": {
            "needs_background": "light"
          }
        }
      ],
      "source": [
        "plt.figure(figsize=(15,8)) \n",
        "\n",
        "sns.heatmap(car_data.corr(),linewidths=1,cmap=plt.cm.Reds, annot=True);\n",
        "plt.title('Heatmap for correlation between columns of car_data')"
      ]
    },
    {
      "cell_type": "code",
      "execution_count": null,
      "metadata": {
        "id": "rzUCcAP8VzdN"
      },
      "outputs": [],
      "source": [
        "#Heatmap correlation analysis\n",
        "#Dark color represents a positive correlation,\n",
        "#Light color/ white is a towards the negative correlation."
      ]
    },
    {
      "cell_type": "code",
      "execution_count": null,
      "metadata": {
        "id": "flrJalDxNbr4",
        "colab": {
          "base_uri": "https://localhost:8080/",
          "height": 498
        },
        "outputId": "6826e4b0-0921-4f4b-d106-ca753cfb8075"
      },
      "outputs": [
        {
          "output_type": "display_data",
          "data": {
            "text/plain": [
              "<Figure size 576x576 with 1 Axes>"
            ],
            "image/png": "[encoded data removed]"
          },
          "metadata": {
            "needs_background": "light"
          }
        }
      ],
      "source": [
        "plt.figure(figsize=(8,8))\n",
        "\n",
        "sns.scatterplot(data =car_data, x = \"Kms_Driven\", y =\"Fuel_Type\", hue=\"Transmission\");"
      ]
    },
    {
      "cell_type": "code",
      "execution_count": null,
      "metadata": {
        "id": "8mKcXn4-OSvN",
        "colab": {
          "base_uri": "https://localhost:8080/",
          "height": 920
        },
        "outputId": "359b3b19-1a9f-444b-b0d3-d464e1622fe9"
      },
      "outputs": [
        {
          "output_type": "execute_result",
          "data": {
            "text/plain": [
              "<seaborn.axisgrid.PairGrid at 0x7f9f9c37c690>"
            ]
          },
          "metadata": {},
          "execution_count": 22
        },
        {
          "output_type": "display_data",
          "data": {
            "text/plain": [
              "<Figure size 987.125x900 with 30 Axes>"
            ],
            "image/png": "[encoded data removed]"
          },
          "metadata": {
            "needs_background": "light"
          }
        }
      ],
      "source": [
        "sns.pairplot(car_data,hue='Transmission')"
      ]
    },
    {
      "cell_type": "code",
      "execution_count": null,
      "metadata": {
        "id": "6PW84fe9P6Dh",
        "colab": {
          "base_uri": "https://localhost:8080/",
          "height": 920
        },
        "outputId": "fad66f6d-b6f9-4c79-8c0d-2d39ece76da6"
      },
      "outputs": [
        {
          "output_type": "execute_result",
          "data": {
            "text/plain": [
              "<seaborn.axisgrid.PairGrid at 0x7f9f85839550>"
            ]
          },
          "metadata": {},
          "execution_count": 23
        },
        {
          "output_type": "display_data",
          "data": {
            "text/plain": [
              "<Figure size 967x900 with 30 Axes>"
            ],
            "image/png": "[encoded data removed]"
          },
          "metadata": {
            "needs_background": "light"
          }
        }
      ],
      "source": [
        "sns.pairplot(car_data,hue='Fuel_Type')"
      ]
    },
    {
      "cell_type": "code",
      "execution_count": null,
      "metadata": {
        "id": "ZzFajLekQSLD",
        "colab": {
          "base_uri": "https://localhost:8080/",
          "height": 499
        },
        "outputId": "e9dd017d-03d8-40c5-d2d0-ced0c392cd26"
      },
      "outputs": [
        {
          "output_type": "display_data",
          "data": {
            "text/plain": [
              "<Figure size 864x576 with 6 Axes>"
            ],
            "image/png": "[encoded data removed]"
          },
          "metadata": {
            "needs_background": "light"
          }
        }
      ],
      "source": [
        "car_data.hist(figsize=(12,8),bins=20)\n",
        "plt.show()"
      ]
    },
    {
      "cell_type": "code",
      "execution_count": null,
      "metadata": {
        "id": "fu2VF7qkVlxY"
      },
      "outputs": [],
      "source": [
        "x=car_data.drop(['Car_Name','Owner','Present_Price'],axis=1)"
      ]
    },
    {
      "cell_type": "code",
      "execution_count": null,
      "metadata": {
        "id": "V69E7F7wXX-G",
        "colab": {
          "base_uri": "https://localhost:8080/",
          "height": 424
        },
        "outputId": "69693be0-6d01-4d3b-cf84-323f4cf54a50"
      },
      "outputs": [
        {
          "output_type": "execute_result",
          "data": {
            "text/plain": [
              "     Year  Selling_Price  Kms_Driven Fuel_Type Seller_Type Transmission\n",
              "0    2014           3.35       27000    Petrol      Dealer       Manual\n",
              "1    2013           4.75       43000    Diesel      Dealer       Manual\n",
              "2    2017           7.25        6900    Petrol      Dealer       Manual\n",
              "3    2011           2.85        5200    Petrol      Dealer       Manual\n",
              "4    2014           4.60       42450    Diesel      Dealer       Manual\n",
              "..    ...            ...         ...       ...         ...          ...\n",
              "296  2016           9.50       33988    Diesel      Dealer       Manual\n",
              "297  2015           4.00       60000    Petrol      Dealer       Manual\n",
              "298  2009           3.35       87934    Petrol      Dealer       Manual\n",
              "299  2017          11.50        9000    Diesel      Dealer       Manual\n",
              "300  2016           5.30        5464    Petrol      Dealer       Manual\n",
              "\n",
              "[301 rows x 6 columns]"
            ],
            "text/html": [
              "\n",
              "  <div id=\"df-3d7ee0b4-8619-4476-b935-885d4eeca420\">\n",
              "    <div class=\"colab-df-container\">\n",
              "      <div>\n",
              "<style scoped>\n",
              "    .dataframe tbody tr th:only-of-type {\n",
              "        vertical-align: middle;\n",
              "    }\n",
              "\n",
              "    .dataframe tbody tr th {\n",
              "        vertical-align: top;\n",
              "    }\n",
              "\n",
              "    .dataframe thead th {\n",
              "        text-align: right;\n",
              "    }\n",
              "</style>\n",
              "<table border=\"1\" class=\"dataframe\">\n",
              "  <thead>\n",
              "    <tr style=\"text-align: right;\">\n",
              "      <th></th>\n",
              "      <th>Year</th>\n",
              "      <th>Selling_Price</th>\n",
              "      <th>Kms_Driven</th>\n",
              "      <th>Fuel_Type</th>\n",
              "      <th>Seller_Type</th>\n",
              "      <th>Transmission</th>\n",
              "    </tr>\n",
              "  </thead>\n",
              "  <tbody>\n",
              "    <tr>\n",
              "      <th>0</th>\n",
              "      <td>2014</td>\n",
              "      <td>3.35</td>\n",
              "      <td>27000</td>\n",
              "      <td>Petrol</td>\n",
              "      <td>Dealer</td>\n",
              "      <td>Manual</td>\n",
              "    </tr>\n",
              "    <tr>\n",
              "      <th>1</th>\n",
              "      <td>2013</td>\n",
              "      <td>4.75</td>\n",
              "      <td>43000</td>\n",
              "      <td>Diesel</td>\n",
              "      <td>Dealer</td>\n",
              "      <td>Manual</td>\n",
              "    </tr>\n",
              "    <tr>\n",
              "      <th>2</th>\n",
              "      <td>2017</td>\n",
              "      <td>7.25</td>\n",
              "      <td>6900</td>\n",
              "      <td>Petrol</td>\n",
              "      <td>Dealer</td>\n",
              "      <td>Manual</td>\n",
              "    </tr>\n",
              "    <tr>\n",
              "      <th>3</th>\n",
              "      <td>2011</td>\n",
              "      <td>2.85</td>\n",
              "      <td>5200</td>\n",
              "      <td>Petrol</td>\n",
              "      <td>Dealer</td>\n",
              "      <td>Manual</td>\n",
              "    </tr>\n",
              "    <tr>\n",
              "      <th>4</th>\n",
              "      <td>2014</td>\n",
              "      <td>4.60</td>\n",
              "      <td>42450</td>\n",
              "      <td>Diesel</td>\n",
              "      <td>Dealer</td>\n",
              "      <td>Manual</td>\n",
              "    </tr>\n",
              "    <tr>\n",
              "      <th>...</th>\n",
              "      <td>...</td>\n",
              "      <td>...</td>\n",
              "      <td>...</td>\n",
              "      <td>...</td>\n",
              "      <td>...</td>\n",
              "      <td>...</td>\n",
              "    </tr>\n",
              "    <tr>\n",
              "      <th>296</th>\n",
              "      <td>2016</td>\n",
              "      <td>9.50</td>\n",
              "      <td>33988</td>\n",
              "      <td>Diesel</td>\n",
              "      <td>Dealer</td>\n",
              "      <td>Manual</td>\n",
              "    </tr>\n",
              "    <tr>\n",
              "      <th>297</th>\n",
              "      <td>2015</td>\n",
              "      <td>4.00</td>\n",
              "      <td>60000</td>\n",
              "      <td>Petrol</td>\n",
              "      <td>Dealer</td>\n",
              "      <td>Manual</td>\n",
              "    </tr>\n",
              "    <tr>\n",
              "      <th>298</th>\n",
              "      <td>2009</td>\n",
              "      <td>3.35</td>\n",
              "      <td>87934</td>\n",
              "      <td>Petrol</td>\n",
              "      <td>Dealer</td>\n",
              "      <td>Manual</td>\n",
              "    </tr>\n",
              "    <tr>\n",
              "      <th>299</th>\n",
              "      <td>2017</td>\n",
              "      <td>11.50</td>\n",
              "      <td>9000</td>\n",
              "      <td>Diesel</td>\n",
              "      <td>Dealer</td>\n",
              "      <td>Manual</td>\n",
              "    </tr>\n",
              "    <tr>\n",
              "      <th>300</th>\n",
              "      <td>2016</td>\n",
              "      <td>5.30</td>\n",
              "      <td>5464</td>\n",
              "      <td>Petrol</td>\n",
              "      <td>Dealer</td>\n",
              "      <td>Manual</td>\n",
              "    </tr>\n",
              "  </tbody>\n",
              "</table>\n",
              "<p>301 rows × 6 columns</p>\n",
              "</div>\n",
              "      <button class=\"colab-df-convert\" onclick=\"convertToInteractive('df-3d7ee0b4-8619-4476-b935-885d4eeca420')\"\n",
              "              title=\"Convert this dataframe to an interactive table.\"\n",
              "              style=\"display:none;\">\n",
              "        \n",
              "  <svg xmlns=\"http://www.w3.org/2000/svg\" height=\"24px\"viewBox=\"0 0 24 24\"\n",
              "       width=\"24px\">\n",
              "    <path d=\"M0 0h24v24H0V0z\" fill=\"none\"/>\n",
              "    <path d=\"M18.56 5.44l.94 2.06.94-2.06 2.06-.94-2.06-.94-.94-2.06-.94 2.06-2.06.94zm-11 1L8.5 8.5l.94-2.06 2.06-.94-2.06-.94L8.5 2.5l-.94 2.06-2.06.94zm10 10l.94 2.06.94-2.06 2.06-.94-2.06-.94-.94-2.06-.94 2.06-2.06.94z\"/><path d=\"M17.41 7.96l-1.37-1.37c-.4-.4-.92-.59-1.43-.59-.52 0-1.04.2-1.43.59L10.3 9.45l-7.72 7.72c-.78.78-.78 2.05 0 2.83L4 21.41c.39.39.9.59 1.41.59.51 0 1.02-.2 1.41-.59l7.78-7.78 2.81-2.81c.8-.78.8-2.07 0-2.86zM5.41 20L4 18.59l7.72-7.72 1.47 1.35L5.41 20z\"/>\n",
              "  </svg>\n",
              "      </button>\n",
              "      \n",
              "  <style>\n",
              "    .colab-df-container {\n",
              "      display:flex;\n",
              "      flex-wrap:wrap;\n",
              "      gap: 12px;\n",
              "    }\n",
              "\n",
              "    .colab-df-convert {\n",
              "      background-color: #E8F0FE;\n",
              "      border: none;\n",
              "      border-radius: 50%;\n",
              "      cursor: pointer;\n",
              "      display: none;\n",
              "      fill: #1967D2;\n",
              "      height: 32px;\n",
              "      padding: 0 0 0 0;\n",
              "      width: 32px;\n",
              "    }\n",
              "\n",
              "    .colab-df-convert:hover {\n",
              "      background-color: #E2EBFA;\n",
              "      box-shadow: 0px 1px 2px rgba(60, 64, 67, 0.3), 0px 1px 3px 1px rgba(60, 64, 67, 0.15);\n",
              "      fill: #174EA6;\n",
              "    }\n",
              "\n",
              "    [theme=dark] .colab-df-convert {\n",
              "      background-color: #3B4455;\n",
              "      fill: #D2E3FC;\n",
              "    }\n",
              "\n",
              "    [theme=dark] .colab-df-convert:hover {\n",
              "      background-color: #434B5C;\n",
              "      box-shadow: 0px 1px 3px 1px rgba(0, 0, 0, 0.15);\n",
              "      filter: drop-shadow(0px 1px 2px rgba(0, 0, 0, 0.3));\n",
              "      fill: #FFFFFF;\n",
              "    }\n",
              "  </style>\n",
              "\n",
              "      <script>\n",
              "        const buttonEl =\n",
              "          document.querySelector('#df-3d7ee0b4-8619-4476-b935-885d4eeca420 button.colab-df-convert');\n",
              "        buttonEl.style.display =\n",
              "          google.colab.kernel.accessAllowed ? 'block' : 'none';\n",
              "\n",
              "        async function convertToInteractive(key) {\n",
              "          const element = document.querySelector('#df-3d7ee0b4-8619-4476-b935-885d4eeca420');\n",
              "          const dataTable =\n",
              "            await google.colab.kernel.invokeFunction('convertToInteractive',\n",
              "                                                     [key], {});\n",
              "          if (!dataTable) return;\n",
              "\n",
              "          const docLinkHtml = 'Like what you see? Visit the ' +\n",
              "            '<a target=\"_blank\" href=https://colab.research.google.com/notebooks/data_table.ipynb>data table notebook</a>'\n",
              "            + ' to learn more about interactive tables.';\n",
              "          element.innerHTML = '';\n",
              "          dataTable['output_type'] = 'display_data';\n",
              "          await google.colab.output.renderOutput(dataTable, element);\n",
              "          const docLink = document.createElement('div');\n",
              "          docLink.innerHTML = docLinkHtml;\n",
              "          element.appendChild(docLink);\n",
              "        }\n",
              "      </script>\n",
              "    </div>\n",
              "  </div>\n",
              "  "
            ]
          },
          "metadata": {},
          "execution_count": 26
        }
      ],
      "source": [
        "x"
      ]
    },
    {
      "cell_type": "code",
      "execution_count": null,
      "metadata": {
        "id": "StsJD79ibsJf"
      },
      "outputs": [],
      "source": [
        "x['Fuel_Type'].replace(['Petrol', 'Diesel','CNG'],\n",
        "                        [0,1,2], inplace=True)"
      ]
    },
    {
      "cell_type": "code",
      "execution_count": null,
      "metadata": {
        "id": "FuJ8MVXQDOSd"
      },
      "outputs": [],
      "source": [
        "x['Seller_Type'].replace(['Dealer', 'Individual'],\n",
        "                        [0, 1], inplace=True)"
      ]
    },
    {
      "cell_type": "code",
      "execution_count": null,
      "metadata": {
        "id": "0Oryal1CLYNZ"
      },
      "outputs": [],
      "source": [
        "x['Transmission'].replace(['Manual', 'Automatic'],\n",
        "                        [0, 1], inplace=True)"
      ]
    },
    {
      "cell_type": "code",
      "execution_count": null,
      "metadata": {
        "id": "JJrCM0O4KleQ",
        "colab": {
          "base_uri": "https://localhost:8080/"
        },
        "outputId": "7b7b5da4-5329-4ce6-9866-ea51ce2c978b"
      },
      "outputs": [
        {
          "output_type": "execute_result",
          "data": {
            "text/plain": [
              "0      0\n",
              "1      0\n",
              "2      0\n",
              "3      0\n",
              "4      0\n",
              "      ..\n",
              "296    0\n",
              "297    0\n",
              "298    0\n",
              "299    0\n",
              "300    0\n",
              "Name: Transmission, Length: 301, dtype: int64"
            ]
          },
          "metadata": {},
          "execution_count": 30
        }
      ],
      "source": [
        "x['Transmission']"
      ]
    },
    {
      "cell_type": "code",
      "execution_count": null,
      "metadata": {
        "id": "M5kYdnioXZHP"
      },
      "outputs": [],
      "source": [
        "y=car_data['Present_Price']"
      ]
    },
    {
      "cell_type": "code",
      "execution_count": null,
      "metadata": {
        "id": "CP50Os_JdESK",
        "colab": {
          "base_uri": "https://localhost:8080/"
        },
        "outputId": "bd3a67ad-701b-4007-dc0e-b6599c0ac25b"
      },
      "outputs": [
        {
          "output_type": "execute_result",
          "data": {
            "text/plain": [
              "0       5.59\n",
              "1       9.54\n",
              "2       9.85\n",
              "3       4.15\n",
              "4       6.87\n",
              "       ...  \n",
              "296    11.60\n",
              "297     5.90\n",
              "298    11.00\n",
              "299    12.50\n",
              "300     5.90\n",
              "Name: Present_Price, Length: 301, dtype: float64"
            ]
          },
          "metadata": {},
          "execution_count": 32
        }
      ],
      "source": [
        "y"
      ]
    },
    {
      "cell_type": "markdown",
      "source": [
        "Application of linear regression on the dataset and to measure the error and accuracy related to it.It has been shown about the model accuracy on both train and test dataset.\n",
        "three different error metrics has been shown below."
      ],
      "metadata": {
        "id": "DtjUCEUt5Qva"
      }
    },
    {
      "cell_type": "code",
      "execution_count": null,
      "metadata": {
        "id": "sxr4bmZ-dFfZ"
      },
      "outputs": [],
      "source": [
        "#Create Object to call linear regression model\n",
        "regressor=LinearRegression()"
      ]
    },
    {
      "cell_type": "code",
      "execution_count": null,
      "metadata": {
        "id": "jp4s-yr9hl-x"
      },
      "outputs": [],
      "source": [
        "#Split the train and test data to validate the whole dataset\n",
        "X_train,X_test,y_train,y_test=train_test_split(x,y,test_size=0.30,random_state=42)"
      ]
    },
    {
      "cell_type": "code",
      "execution_count": null,
      "metadata": {
        "id": "CRlh655yVIZ7",
        "colab": {
          "base_uri": "https://localhost:8080/"
        },
        "outputId": "f5c8d219-4fc4-461a-b905-c8eb3c46cb98"
      },
      "outputs": [
        {
          "output_type": "execute_result",
          "data": {
            "text/plain": [
              "((210, 6), (210,), (91, 6), (91,))"
            ]
          },
          "metadata": {},
          "execution_count": 35
        }
      ],
      "source": [
        "X_train.shape,y_train.shape,X_test.shape,y_test.shape"
      ]
    },
    {
      "cell_type": "code",
      "source": [
        "#Apply scaling technique of standard scaler to the model\n",
        "from sklearn.preprocessing import StandardScaler\n",
        "sc = StandardScaler()\n",
        "x_train = sc.fit_transform(X_train)\n",
        "x_test = sc.transform(X_test)"
      ],
      "metadata": {
        "id": "3_MdWabsVG9B"
      },
      "execution_count": null,
      "outputs": []
    },
    {
      "cell_type": "code",
      "execution_count": null,
      "metadata": {
        "id": "7KFpFMVfidMH",
        "colab": {
          "base_uri": "https://localhost:8080/"
        },
        "outputId": "8c3fc6ec-ebc3-44ff-c1d0-186ce2633b00"
      },
      "outputs": [
        {
          "output_type": "execute_result",
          "data": {
            "text/plain": [
              "LinearRegression()"
            ]
          },
          "metadata": {},
          "execution_count": 37
        }
      ],
      "source": [
        "#Fit the model \n",
        "regressor.fit(x_train,y_train)"
      ]
    },
    {
      "cell_type": "code",
      "execution_count": null,
      "metadata": {
        "id": "PA4fdBPwL_jJ",
        "colab": {
          "base_uri": "https://localhost:8080/"
        },
        "outputId": "035b8742-d084-4051-a829-972f7839f285"
      },
      "outputs": [
        {
          "output_type": "stream",
          "name": "stdout",
          "text": [
            "The intercept 7.40570952380949\n"
          ]
        }
      ],
      "source": [
        "print('The intercept',regressor.intercept_)"
      ]
    },
    {
      "cell_type": "code",
      "execution_count": null,
      "metadata": {
        "id": "hfN49IvwzUY3",
        "colab": {
          "base_uri": "https://localhost:8080/"
        },
        "outputId": "bdb00978-03e3-4cd7-f63b-70748a07c82b"
      },
      "outputs": [
        {
          "output_type": "stream",
          "name": "stdout",
          "text": [
            "The coefficient [-2.11297268  8.64916541  0.37124449 -0.46803137  0.1562315  -0.21535203]\n"
          ]
        }
      ],
      "source": [
        "print('The coefficient',regressor.coef_)"
      ]
    },
    {
      "cell_type": "code",
      "execution_count": null,
      "metadata": {
        "id": "y34sKJMUMHN_"
      },
      "outputs": [],
      "source": [
        "y_lr=regressor.predict(x_test)"
      ]
    },
    {
      "cell_type": "code",
      "execution_count": null,
      "metadata": {
        "id": "PF5AfmgeVC-4",
        "colab": {
          "base_uri": "https://localhost:8080/"
        },
        "outputId": "1f3fea46-21d0-4e39-dca0-c1034b89bb30"
      },
      "outputs": [
        {
          "output_type": "stream",
          "name": "stdout",
          "text": [
            "[-1.95714136e+00  1.53314304e+01  8.61319359e+00  2.16864397e+00\n",
            "  1.22815249e+01  1.06102887e+01  7.97174087e-01  3.30288046e-01\n",
            " -1.18032021e+00  8.83962580e+00  1.11873205e+01  2.33403671e+00\n",
            "  1.15959476e+01 -2.80598080e+00  9.83936796e+00  4.98852003e+00\n",
            "  2.62222457e+00  2.66027464e+01 -1.91297073e+00  1.54110750e-01\n",
            "  9.63416452e-01  1.12434094e+01  9.06979145e+00  6.68633445e+00\n",
            "  6.53361843e-01  7.38889858e+00  9.02293086e+00  6.27617055e+00\n",
            " -6.34976675e-01  1.64025308e-01  1.39990603e+00  1.29250692e+01\n",
            "  3.36039184e+00  7.39865586e+00  1.04017200e+01  5.73858962e+00\n",
            "  1.00294980e+01  9.92560524e+00  5.35814428e+00  1.07415138e+01\n",
            "  1.24842917e+01  9.54877548e+00  7.08283327e+00  4.87590132e-01\n",
            "  8.87363693e+00  1.45236383e+00  1.03226423e+01  1.11869083e+01\n",
            "  7.04383476e+00  5.31459861e+00  8.34631607e+00 -4.33363047e-01\n",
            "  3.79825002e+01  3.53543372e+01  1.21730675e+01  1.61938017e+01\n",
            "  7.96412965e+00  1.33782893e+01  9.07036577e+00  9.94615394e+00\n",
            "  9.11131827e-01  4.47820329e+00 -1.48612982e+00  4.60053690e+00\n",
            "  5.53322650e+00 -4.49917244e-03  3.25399263e+01  3.70484204e+01\n",
            "  1.02714136e+01  2.91957474e+00  5.30854562e+00  8.70301807e+00\n",
            "  7.69845054e+00  6.53306087e+00  4.23499317e+00  2.25217583e-01\n",
            " -1.42065180e+00  1.77359580e+01 -7.30422288e-01  1.54478139e+01\n",
            "  7.61476939e+00  6.61310165e+00  1.24273986e+01  3.07344187e+01\n",
            "  6.89129622e+00 -1.98781390e+00  2.00567130e+00  7.00042287e+00\n",
            " -1.12776055e+00  2.48500388e+01  8.05857632e-01]\n"
          ]
        }
      ],
      "source": [
        "print(y_lr)"
      ]
    },
    {
      "cell_type": "code",
      "execution_count": null,
      "metadata": {
        "id": "Q5hNyYJlVZdh",
        "colab": {
          "base_uri": "https://localhost:8080/"
        },
        "outputId": "7df8666e-c21d-42b1-8e84-72ea341b2ac7"
      },
      "outputs": [
        {
          "output_type": "stream",
          "name": "stdout",
          "text": [
            "The accuracy of our model is 3.08\n"
          ]
        }
      ],
      "source": [
        "#Evaluate the root mean square error \n",
        "rmse=np.sqrt(mean_squared_error(y_test,y_lr))\n",
        "print(\"The accuracy of our model is {}\".format(round(rmse, 2)))"
      ]
    },
    {
      "cell_type": "code",
      "source": [
        "#Evaluate the mean absolute error\n",
        "from sklearn.metrics import mean_absolute_error\n",
        "mae = mean_absolute_error(y_test,y_lr)\n",
        "print(\"The Mean Absolute Error of our Model is {}\".format(round(mae, 2)))"
      ],
      "metadata": {
        "colab": {
          "base_uri": "https://localhost:8080/"
        },
        "id": "cQLDrJak3Ocq",
        "outputId": "a6ab34eb-b8fe-480b-bf5c-15b591571e1f"
      },
      "execution_count": null,
      "outputs": [
        {
          "output_type": "stream",
          "name": "stdout",
          "text": [
            "The Mean Absolute Error of our Model is 2.1\n"
          ]
        }
      ]
    },
    {
      "cell_type": "code",
      "source": [
        "#Evaluate the r2_score \n",
        "r2_score=r2_score(y_test,y_lr)\n",
        "print(\"The r2 score of our Model is {}\".format(round(r2_score, 2)))"
      ],
      "metadata": {
        "colab": {
          "base_uri": "https://localhost:8080/"
        },
        "id": "WQViLwjV4Dmy",
        "outputId": "a9fc24b5-181b-4b81-e861-eb3a7c50ae41"
      },
      "execution_count": null,
      "outputs": [
        {
          "output_type": "stream",
          "name": "stdout",
          "text": [
            "The r2 score of our Model is 0.85\n"
          ]
        }
      ]
    },
    {
      "cell_type": "code",
      "source": [
        "print(regressor.score(x_train, y_train))\n",
        "print(regressor.score(x_test, y_test))"
      ],
      "metadata": {
        "colab": {
          "base_uri": "https://localhost:8080/"
        },
        "id": "xIW61gdC8PXd",
        "outputId": "30895ef5-ec65-4f42-a081-2124f4c017a4"
      },
      "execution_count": null,
      "outputs": [
        {
          "output_type": "stream",
          "name": "stdout",
          "text": [
            "0.8376125661897145\n",
            "0.8526870140835113\n"
          ]
        }
      ]
    },
    {
      "cell_type": "code",
      "execution_count": null,
      "metadata": {
        "id": "mTeJ6d66q4T4",
        "colab": {
          "base_uri": "https://localhost:8080/"
        },
        "outputId": "392796df-35e7-45b3-d625-a1e4f0dda943"
      },
      "outputs": [
        {
          "output_type": "execute_result",
          "data": {
            "text/plain": [
              "DecisionTreeRegressor(max_depth=3, random_state=0)"
            ]
          },
          "metadata": {},
          "execution_count": 46
        }
      ],
      "source": [
        "# training the dataset\n",
        "from sklearn.tree import DecisionTreeRegressor\n",
        "regrassor = DecisionTreeRegressor(max_depth=3,min_samples_split = 2,random_state = 0)\n",
        "regrassor.fit(x_train, y_train)"
      ]
    },
    {
      "cell_type": "code",
      "execution_count": null,
      "metadata": {
        "id": "wJrjKXHW4ZyY"
      },
      "outputs": [],
      "source": [
        "# predictzing the result\n",
        "y_dt= regrassor.predict(x_test)"
      ]
    },
    {
      "cell_type": "code",
      "execution_count": null,
      "metadata": {
        "id": "pwoyp9dj4hoE",
        "colab": {
          "base_uri": "https://localhost:8080/"
        },
        "outputId": "9f999652-4a3c-49f9-f094-3c43a42ac924"
      },
      "outputs": [
        {
          "output_type": "stream",
          "name": "stdout",
          "text": [
            "[ 0.80507018 13.17515152  7.68625     0.80507018  7.68625    13.17515152\n",
            "  2.179375    0.80507018  0.80507018  7.68625    13.17515152  2.179375\n",
            " 13.17515152  0.80507018  7.68625     7.68625     0.80507018 36.23\n",
            "  0.80507018  2.179375    0.80507018 13.17515152  7.68625     7.68625\n",
            "  0.80507018  7.68625     7.68625     7.68625     2.179375    2.179375\n",
            "  0.80507018 13.17515152  0.80507018  2.179375   13.17515152  7.68625\n",
            "  7.68625     7.68625     7.68625     7.68625     7.68625     2.179375\n",
            "  7.68625     0.80507018  7.68625     0.80507018  7.68625     7.68625\n",
            "  7.68625     7.68625     7.68625     2.179375   28.825      28.825\n",
            " 13.17515152 13.17515152  7.68625    13.17515152  7.68625    13.17515152\n",
            "  0.80507018  0.80507018  0.80507018  0.80507018  7.68625     2.179375\n",
            " 28.825      28.825       7.68625     0.80507018  7.68625     7.68625\n",
            "  7.68625     7.68625     2.179375    2.179375    0.80507018 13.17515152\n",
            "  0.80507018 13.17515152  7.68625     7.68625     7.68625    28.825\n",
            "  7.68625     0.80507018  2.179375    7.68625     0.80507018 13.17515152\n",
            "  2.179375  ]\n"
          ]
        }
      ],
      "source": [
        "print(y_dt)"
      ]
    },
    {
      "cell_type": "code",
      "source": [
        "#Evaluate the root mean square error \n",
        "rmse_dt=np.sqrt(mean_squared_error(y_test,y_dt))\n",
        "print(\"The accuracy of our model is {}\".format(round(rmse_dt, 2)))"
      ],
      "metadata": {
        "colab": {
          "base_uri": "https://localhost:8080/"
        },
        "id": "Y-kJEubq8Ki7",
        "outputId": "4ab0f06c-e8a3-4ac1-cd9d-fb4050c425ab"
      },
      "execution_count": null,
      "outputs": [
        {
          "output_type": "stream",
          "name": "stdout",
          "text": [
            "The accuracy of our model is 4.47\n"
          ]
        }
      ]
    },
    {
      "cell_type": "code",
      "source": [
        "#Evaluate the  mean square error \n",
        "mae_dt=mean_absolute_error(y_test,y_dt)\n",
        "print(\"The accuracy of our model is {}\".format(round(mae_dt,2)))"
      ],
      "metadata": {
        "colab": {
          "base_uri": "https://localhost:8080/"
        },
        "id": "Og8QN3IUMlqU",
        "outputId": "b88b00d6-b594-4f26-c1b6-6fc628dc4af7"
      },
      "execution_count": null,
      "outputs": [
        {
          "output_type": "stream",
          "name": "stdout",
          "text": [
            "The accuracy of our model is 2.55\n"
          ]
        }
      ]
    },
    {
      "cell_type": "code",
      "source": [
        "from sklearn import tree"
      ],
      "metadata": {
        "id": "j4pJPtMAz2Id"
      },
      "execution_count": null,
      "outputs": []
    },
    {
      "cell_type": "code",
      "execution_count": null,
      "metadata": {
        "id": "LcGA1CBT-BV1",
        "colab": {
          "base_uri": "https://localhost:8080/"
        },
        "outputId": "cecdf473-dd9d-42cd-e141-fb3a5ff892a5"
      },
      "outputs": [
        {
          "output_type": "stream",
          "name": "stdout",
          "text": [
            "|--- feature_1 <= 2.07\n",
            "|   |--- feature_1 <= -0.50\n",
            "|   |   |--- feature_1 <= -0.72\n",
            "|   |   |   |--- value: [0.81]\n",
            "|   |   |--- feature_1 >  -0.72\n",
            "|   |   |   |--- value: [2.18]\n",
            "|   |--- feature_1 >  -0.50\n",
            "|   |   |--- feature_1 <= 0.48\n",
            "|   |   |   |--- value: [7.69]\n",
            "|   |   |--- feature_1 >  0.48\n",
            "|   |   |   |--- value: [13.18]\n",
            "|--- feature_1 >  2.07\n",
            "|   |--- feature_1 <= 5.94\n",
            "|   |   |--- feature_2 <= -0.64\n",
            "|   |   |   |--- value: [36.23]\n",
            "|   |   |--- feature_2 >  -0.64\n",
            "|   |   |   |--- value: [28.83]\n",
            "|   |--- feature_1 >  5.94\n",
            "|   |   |--- value: [92.60]\n",
            "\n"
          ]
        }
      ],
      "source": [
        "text_representation = tree.export_text(regrassor)\n",
        "print(text_representation)"
      ]
    },
    {
      "cell_type": "code",
      "execution_count": null,
      "metadata": {
        "id": "pu9qGmMS4OGi",
        "colab": {
          "base_uri": "https://localhost:8080/",
          "height": 575
        },
        "outputId": "01e2a075-7f94-4001-d2fe-814b65830b93"
      },
      "outputs": [
        {
          "output_type": "display_data",
          "data": {
            "text/plain": [
              "<Figure size 1080x720 with 1 Axes>"
            ],
            "image/png": "[encoded data removed]"
          },
          "metadata": {
            "needs_background": "light"
          }
        }
      ],
      "source": [
        "fig = plt.figure(figsize=(15,10))\n",
        "_ = tree.plot_tree(regrassor,filled=True)\n"
      ]
    },
    {
      "cell_type": "code",
      "execution_count": null,
      "metadata": {
        "id": "1qIJMleW4-fv",
        "colab": {
          "base_uri": "https://localhost:8080/"
        },
        "outputId": "48b7f7c6-fbb2-482a-8b26-ec666f2b687b"
      },
      "outputs": [
        {
          "output_type": "stream",
          "name": "stdout",
          "text": [
            " All possible output gained by randomforest regressor model:\n",
            " [ 0.7029155  10.34620001  9.5651621   1.00180724 10.45491881  9.61977123\n",
            "  1.37316081  0.87721975  0.88675521  9.68809005 10.35085203  1.33286381\n",
            "  9.17071662  0.72447003  9.68809005  7.04724456  1.28272005 14.20635291\n",
            "  0.86764482  1.41537747  0.84645821 10.35085203  8.82859319  6.54879554\n",
            "  0.83986045  8.03285652  8.29344422  6.15955124  1.50837747  1.38451081\n",
            "  0.90396633 12.69302529  0.79302947  6.00163735  9.99016845  7.3946987\n",
            " 10.08680977  8.23612233  7.38539949  7.9999509  10.30509084 13.049672\n",
            "  7.51707777  0.99848963  8.82859319  0.83986045  8.4950714  19.08799084\n",
            "  8.03285652  8.72341029  7.89162333  1.41537747 32.33955556 26.77855556\n",
            " 12.69302529  9.71463328  7.51707777 10.59702411  6.30051127  9.68629995\n",
            "  0.80717663  0.79302947  0.92515294  0.81715227  7.84755981  1.52748786\n",
            " 32.35255556 32.33955556  7.83396182  4.68477397  8.72341029  8.68011215\n",
            "  7.84755981  7.25327437  4.96188043  1.54068434  0.92515294 12.2817038\n",
            "  1.01466382 10.34620001  7.51707777  7.04224394 14.00989872 19.74744173\n",
            "  6.59995617  0.69526376  1.11177963  6.86821791  1.03878662 28.89031746\n",
            "  1.5805831 ]\n"
          ]
        }
      ],
      "source": [
        "# Fitting Random Forest Regression to the dataset\n",
        "from sklearn.ensemble import RandomForestRegressor\n",
        "ran_regressor = RandomForestRegressor(n_estimators =10,max_features ='sqrt',max_depth =5,random_state =0)\n",
        "ran_regressor.fit(x_train,y_train)\n",
        "y_ran_pred = ran_regressor.predict(x_test)\n",
        "print(' All possible output gained by randomforest regressor model:\\n',y_ran_pred)  "
      ]
    },
    {
      "cell_type": "code",
      "source": [
        "print(ran_regressor.score(x_train,y_train))\n",
        "print(ran_regressor.score(x_test,y_test))"
      ],
      "metadata": {
        "colab": {
          "base_uri": "https://localhost:8080/"
        },
        "id": "8wdHJSpHouJ1",
        "outputId": "2f9833a0-0934-4c52-89c0-c91548120e88"
      },
      "execution_count": null,
      "outputs": [
        {
          "output_type": "stream",
          "name": "stdout",
          "text": [
            "0.911435286801922\n",
            "0.9019060798738835\n"
          ]
        }
      ]
    },
    {
      "cell_type": "code",
      "source": [
        "#Evaluate the root mean square error \n",
        "rmse_ran=np.sqrt(mean_squared_error(y_test,y_ran_pred))\n",
        "print(\"The accuracy of randomized model is {}\".format(round(rmse_ran, 2)))"
      ],
      "metadata": {
        "colab": {
          "base_uri": "https://localhost:8080/"
        },
        "id": "alVqJQHKTuru",
        "outputId": "ed37dd8e-016d-40a1-bfa3-755d69b9dd90"
      },
      "execution_count": null,
      "outputs": [
        {
          "output_type": "stream",
          "name": "stdout",
          "text": [
            "The accuracy of randomized model is 2.51\n"
          ]
        }
      ]
    },
    {
      "cell_type": "code",
      "source": [
        "#Evaluate the  mean square error \n",
        "mae_ran=mean_absolute_error(y_test,y_ran_pred)\n",
        "print(\"The accuracy of our model is {}\".format(round(mae_ran,2)))"
      ],
      "metadata": {
        "colab": {
          "base_uri": "https://localhost:8080/"
        },
        "id": "W-NAKuBwV4_A",
        "outputId": "4780f896-720a-4463-b5e6-ba8ca7bcfd88"
      },
      "execution_count": null,
      "outputs": [
        {
          "output_type": "stream",
          "name": "stdout",
          "text": [
            "The accuracy of our model is 1.51\n"
          ]
        }
      ]
    },
    {
      "cell_type": "code",
      "execution_count": null,
      "metadata": {
        "id": "nJ-aTMXzaTIg",
        "colab": {
          "base_uri": "https://localhost:8080/"
        },
        "outputId": "75ee65b0-0182-4002-8331-15f8544d97be"
      },
      "outputs": [
        {
          "output_type": "stream",
          "name": "stdout",
          "text": [
            "MAPE:  28.466027930928128\n"
          ]
        },
        {
          "output_type": "execute_result",
          "data": {
            "text/plain": [
              "71.53397206907187"
            ]
          },
          "metadata": {},
          "execution_count": 58
        }
      ],
      "source": [
        "def MAPE(y_test,ran_pred):\n",
        "    mape = np.mean(np.abs((y_test -ran_pred)/y_test))*100\n",
        "    return mape\n",
        "MAPE= MAPE(y_test,y_ran_pred)\n",
        "print(\"MAPE: \",MAPE)\n",
        "accuracy = 100 -MAPE\n",
        "accuracy"
      ]
    },
    {
      "cell_type": "markdown",
      "metadata": {
        "id": "73dRZfsaU-u3"
      },
      "source": [
        "Model Improvement trail by using hyperparameter tuning on RandomForestRegressor"
      ]
    },
    {
      "cell_type": "code",
      "execution_count": null,
      "metadata": {
        "id": "m1_-EJjwVAxL",
        "colab": {
          "base_uri": "https://localhost:8080/"
        },
        "outputId": "4dc5175c-176d-4c0c-925c-a3cd19102e5f"
      },
      "outputs": [
        {
          "output_type": "stream",
          "name": "stdout",
          "text": [
            "{'bootstrap': [True, False],\n",
            " 'max_depth': [10, 20, 30, 40, 50, 60, 70, 80, 90, 100, 110],\n",
            " 'max_features': ['auto', 'sqrt'],\n",
            " 'min_samples_leaf': [1, 2, 4],\n",
            " 'min_samples_split': [2, 5, 10],\n",
            " 'n_estimators': [100, 200, 300, 400, 500, 600, 700, 800, 900, 1000]}\n"
          ]
        }
      ],
      "source": [
        "#Random Search with Cross Validation\n",
        "from sklearn.model_selection import RandomizedSearchCV\n",
        "from pprint import pprint\n",
        "\n",
        "# Number of trees in random forest\n",
        "n_estimators = [int(x) for x in np.linspace(start = 100, stop =1000, num = 10)]\n",
        "\n",
        "# Number of features to consider at every split\n",
        "max_features = ['auto', 'sqrt']\n",
        "\n",
        "# Maximum number of levels in tree\n",
        "max_depth = [int(x) for x in np.linspace(10, 110, num = 11)]\n",
        "\n",
        "\n",
        "# Minimum number of samples required to split a node\n",
        "min_samples_split = [2, 5, 10]\n",
        "\n",
        "# Minimum number of samples required at each leaf node\n",
        "min_samples_leaf = [1, 2, 4]\n",
        "\n",
        "# Method of selecting samples for training each tree\n",
        "bootstrap = [True, False]\n",
        "\n",
        "# Create the random grid\n",
        "random_grid = {'n_estimators': n_estimators,\n",
        "               'max_features': max_features,\n",
        "               'max_depth': max_depth,\n",
        "               'min_samples_split': min_samples_split,\n",
        "               'min_samples_leaf': min_samples_leaf,\n",
        "               'bootstrap': bootstrap}\n",
        "\n",
        "pprint(random_grid)"
      ]
    },
    {
      "cell_type": "code",
      "execution_count": null,
      "metadata": {
        "id": "2OpBaXdHkVRT",
        "colab": {
          "base_uri": "https://localhost:8080/"
        },
        "outputId": "81131aca-5601-4e96-d669-9e098716a42c"
      },
      "outputs": [
        {
          "output_type": "stream",
          "name": "stdout",
          "text": [
            "Fitting 10 folds for each of 100 candidates, totalling 1000 fits\n"
          ]
        },
        {
          "output_type": "execute_result",
          "data": {
            "text/plain": [
              "RandomizedSearchCV(cv=10, estimator=RandomForestRegressor(random_state=42),\n",
              "                   n_iter=100, n_jobs=-1,\n",
              "                   param_distributions={'bootstrap': [True, False],\n",
              "                                        'max_depth': [10, 20, 30, 40, 50, 60,\n",
              "                                                      70, 80, 90, 100, 110],\n",
              "                                        'max_features': ['auto', 'sqrt'],\n",
              "                                        'min_samples_leaf': [1, 2, 4],\n",
              "                                        'min_samples_split': [2, 5, 10],\n",
              "                                        'n_estimators': [100, 200, 300, 400,\n",
              "                                                         500, 600, 700, 800,\n",
              "                                                         900, 1000]},\n",
              "                   random_state=42, return_train_score=True,\n",
              "                   scoring='neg_mean_absolute_error', verbose=2)"
            ]
          },
          "metadata": {},
          "execution_count": 60
        }
      ],
      "source": [
        "# Use the random grid to search for best hyperparameters\n",
        "#create the base model to tune\n",
        "rf = RandomForestRegressor(random_state = 42)\n",
        "# Random search of parameters, using 3 fold cross validation, \n",
        "rf_random = RandomizedSearchCV(estimator=rf, param_distributions=random_grid,\n",
        "                              n_iter = 100, scoring='neg_mean_absolute_error', \n",
        "                              cv =10, verbose=2, random_state=42, n_jobs=-1,\n",
        "                              return_train_score=True)\n",
        "\n",
        "# Fit the random search model\n",
        "rf_random.fit(x_train,y_train)"
      ]
    },
    {
      "cell_type": "code",
      "execution_count": null,
      "metadata": {
        "id": "rQYm4JRDknzp",
        "colab": {
          "base_uri": "https://localhost:8080/"
        },
        "outputId": "b2dfda26-4ea0-443e-f5b6-ef686eaff54c"
      },
      "outputs": [
        {
          "output_type": "execute_result",
          "data": {
            "text/plain": [
              "{'n_estimators': 200,\n",
              " 'min_samples_split': 2,\n",
              " 'min_samples_leaf': 2,\n",
              " 'max_features': 'auto',\n",
              " 'max_depth': 20,\n",
              " 'bootstrap': True}"
            ]
          },
          "metadata": {},
          "execution_count": 61
        }
      ],
      "source": [
        "rf_random.best_params_"
      ]
    },
    {
      "cell_type": "code",
      "execution_count": null,
      "metadata": {
        "id": "abP4PDTUlxtb",
        "colab": {
          "base_uri": "https://localhost:8080/"
        },
        "outputId": "878a6a43-380e-4d4d-d7d3-f590e74d8027"
      },
      "outputs": [
        {
          "output_type": "execute_result",
          "data": {
            "text/plain": [
              "{'mean_fit_time': array([1.60502238, 1.41850731, 2.45733657, 0.3377172 , 1.95345895,\n",
              "        1.65130343, 0.5329284 , 1.57741177, 0.36888089, 0.58733304,\n",
              "        1.26625955, 1.37243781, 1.38660064, 0.79645729, 0.26840022,\n",
              "        1.14162326, 0.12244678, 0.8648288 , 0.85195956, 1.85342841,\n",
              "        0.8416625 , 0.13727875, 0.31437242, 0.95335672, 0.13581762,\n",
              "        0.16984224, 1.32140214, 0.15628662, 0.97306154, 0.93453732,\n",
              "        0.34698844, 0.95189388, 0.34366028, 1.36803236, 0.88348856,\n",
              "        0.12872665, 0.49432957, 0.1201128 , 1.10176461, 0.25491955,\n",
              "        0.55226343, 0.15224192, 0.53036752, 0.17004273, 1.52454989,\n",
              "        1.26385539, 0.8558038 , 0.16987391, 1.63240268, 1.28165994,\n",
              "        1.75327847, 0.53254037, 1.48302827, 1.62577951, 1.1171128 ,\n",
              "        1.51819859, 1.26843991, 1.49337049, 0.49138796, 1.70723956,\n",
              "        0.12477837, 0.8146385 , 1.67125452, 0.95612898, 0.27508252,\n",
              "        0.9968832 , 1.41557796, 1.02268748, 0.12757912, 0.51809444,\n",
              "        0.51511695, 0.51327488, 0.72066543, 0.80883722, 0.99634254,\n",
              "        0.1838284 , 1.4369472 , 0.72930157, 0.86815653, 0.50078497,\n",
              "        1.5888449 , 1.32979476, 0.63037014, 1.33064194, 1.20268188,\n",
              "        0.93092821, 1.04801729, 1.59581983, 0.7269794 , 1.2115118 ,\n",
              "        1.03839614, 1.51955755, 1.18243556, 0.17222829, 1.03107986,\n",
              "        1.08216822, 0.17105911, 0.79043906, 0.41666646, 0.9486439 ]),\n",
              " 'std_fit_time': array([0.02261945, 0.35939055, 0.3044418 , 0.07313873, 0.364239  ,\n",
              "        0.4072209 , 0.01498373, 0.02608534, 0.01064386, 0.01596438,\n",
              "        0.02621446, 0.01496657, 0.03308235, 0.0129018 , 0.00729043,\n",
              "        0.01366956, 0.00581819, 0.00462597, 0.10042621, 0.44938819,\n",
              "        0.01327933, 0.00244816, 0.00628257, 0.01642478, 0.00460627,\n",
              "        0.00568294, 0.01634325, 0.00506018, 0.01776353, 0.00853446,\n",
              "        0.00538586, 0.01379317, 0.00669797, 0.02155131, 0.00598675,\n",
              "        0.00638358, 0.01808442, 0.00525079, 0.00879062, 0.00742777,\n",
              "        0.00872332, 0.00458473, 0.00819593, 0.00290501, 0.02227673,\n",
              "        0.0173164 , 0.01017066, 0.00306234, 0.02663934, 0.01740702,\n",
              "        0.44213909, 0.00892845, 0.02516617, 0.02181236, 0.02380067,\n",
              "        0.01380158, 0.01649158, 0.02079454, 0.01925688, 0.01405834,\n",
              "        0.00249744, 0.00862875, 0.01765041, 0.01223494, 0.00849649,\n",
              "        0.01188696, 0.0145644 , 0.00788446, 0.0043186 , 0.00571002,\n",
              "        0.01134989, 0.01454346, 0.0115616 , 0.01045362, 0.01301251,\n",
              "        0.00530311, 0.01418627, 0.02025214, 0.01665504, 0.00751084,\n",
              "        0.01586682, 0.01412015, 0.01977817, 0.02507286, 0.01164852,\n",
              "        0.01210453, 0.00868029, 0.24894325, 0.01183829, 0.01621021,\n",
              "        0.01967511, 0.0217589 , 0.0214105 , 0.00520397, 0.01262743,\n",
              "        0.00621978, 0.00697129, 0.01214817, 0.00976088, 0.02561196]),\n",
              " 'mean_score_time': array([0.10573432, 0.11203878, 0.16155248, 0.02001677, 0.11365213,\n",
              "        0.09887834, 0.04442916, 0.09733438, 0.03301368, 0.05429058,\n",
              "        0.09692802, 0.10519669, 0.10821633, 0.05499284, 0.02459009,\n",
              "        0.11094568, 0.01186686, 0.06574631, 0.1148387 , 0.10839465,\n",
              "        0.05373435, 0.01091125, 0.0216794 , 0.08679898, 0.01194208,\n",
              "        0.01151509, 0.09800043, 0.01101992, 0.06539106, 0.06323111,\n",
              "        0.02130222, 0.0886764 , 0.02168555, 0.10856016, 0.05614212,\n",
              "        0.01147845, 0.03424919, 0.01132767, 0.10038483, 0.02260427,\n",
              "        0.04396768, 0.01124494, 0.03340113, 0.01322861, 0.10228281,\n",
              "        0.08468447, 0.05495963, 0.01231127, 0.10881891, 0.09426987,\n",
              "        0.09911001, 0.03682733, 0.11010489, 0.1021904 , 0.08604062,\n",
              "        0.09700949, 0.09225183, 0.11025832, 0.04424443, 0.1061599 ,\n",
              "        0.01138837, 0.07774372, 0.10909665, 0.06392314, 0.02237108,\n",
              "        0.0635253 , 0.10724628, 0.09538364, 0.01160598, 0.03526576,\n",
              "        0.03361835, 0.03359163, 0.06733644, 0.07763822, 0.07742963,\n",
              "        0.01133928, 0.10870094, 0.06784759, 0.06330171, 0.03233502,\n",
              "        0.09884584, 0.10330577, 0.0499891 , 0.08886311, 0.10974348,\n",
              "        0.0855401 , 0.0646194 , 0.115481  , 0.05393467, 0.09658718,\n",
              "        0.09718635, 0.09575019, 0.11458685, 0.01114473, 0.07425487,\n",
              "        0.0800945 , 0.01176181, 0.0555934 , 0.03177373, 0.0626452 ]),\n",
              " 'std_score_time': array([0.00397617, 0.03857605, 0.05399414, 0.00829587, 0.04083196,\n",
              "        0.02536449, 0.00131194, 0.00183374, 0.00147666, 0.00209133,\n",
              "        0.00857433, 0.00224985, 0.00805737, 0.00255729, 0.00491525,\n",
              "        0.01577115, 0.00153475, 0.00432335, 0.07756427, 0.01027451,\n",
              "        0.00251203, 0.00038007, 0.00064364, 0.00515519, 0.00146643,\n",
              "        0.0003637 , 0.00911879, 0.00029162, 0.00270897, 0.00188267,\n",
              "        0.00026439, 0.00957771, 0.00031458, 0.00453075, 0.00862366,\n",
              "        0.00036381, 0.00294883, 0.00073377, 0.00395935, 0.00102272,\n",
              "        0.00472451, 0.00029489, 0.00180453, 0.00343527, 0.01046641,\n",
              "        0.00229975, 0.0026896 , 0.00264881, 0.00298572, 0.00189246,\n",
              "        0.00916827, 0.00836791, 0.00675231, 0.00531673, 0.00571401,\n",
              "        0.00401434, 0.01127946, 0.00673448, 0.00248632, 0.00139604,\n",
              "        0.00044392, 0.00986228, 0.00539716, 0.00162187, 0.0019648 ,\n",
              "        0.00261131, 0.00511622, 0.00500188, 0.00069251, 0.0050862 ,\n",
              "        0.00280525, 0.00116898, 0.00449693, 0.00625299, 0.00498271,\n",
              "        0.00024319, 0.00444013, 0.00526632, 0.00171707, 0.00098528,\n",
              "        0.00474683, 0.00165304, 0.01269825, 0.00448349, 0.00710146,\n",
              "        0.0034198 , 0.00131337, 0.03446991, 0.00261442, 0.00546463,\n",
              "        0.00541713, 0.00149791, 0.01224097, 0.00022899, 0.00179075,\n",
              "        0.01305232, 0.00143072, 0.00320392, 0.00117286, 0.0012062 ]),\n",
              " 'param_n_estimators': masked_array(data=[1000, 600, 700, 100, 600, 800, 400, 900, 300, 500, 900,\n",
              "                    1000, 1000, 500, 200, 1000, 100, 600, 700, 1000, 500,\n",
              "                    100, 200, 800, 100, 100, 900, 100, 600, 600, 200, 800,\n",
              "                    200, 1000, 500, 100, 300, 100, 900, 200, 400, 100, 300,\n",
              "                    100, 900, 800, 500, 100, 1000, 900, 900, 300, 1000,\n",
              "                    900, 800, 900, 800, 1000, 400, 1000, 100, 700, 1000,\n",
              "                    600, 200, 600, 1000, 900, 100, 300, 300, 300, 600, 700,\n",
              "                    700, 100, 1000, 600, 600, 300, 900, 1000, 400, 800,\n",
              "                    1000, 800, 600, 900, 500, 900, 900, 900, 1000, 100,\n",
              "                    700, 700, 100, 500, 300, 600],\n",
              "              mask=[False, False, False, False, False, False, False, False,\n",
              "                    False, False, False, False, False, False, False, False,\n",
              "                    False, False, False, False, False, False, False, False,\n",
              "                    False, False, False, False, False, False, False, False,\n",
              "                    False, False, False, False, False, False, False, False,\n",
              "                    False, False, False, False, False, False, False, False,\n",
              "                    False, False, False, False, False, False, False, False,\n",
              "                    False, False, False, False, False, False, False, False,\n",
              "                    False, False, False, False, False, False, False, False,\n",
              "                    False, False, False, False, False, False, False, False,\n",
              "                    False, False, False, False, False, False, False, False,\n",
              "                    False, False, False, False, False, False, False, False,\n",
              "                    False, False, False, False],\n",
              "        fill_value='?',\n",
              "             dtype=object),\n",
              " 'param_min_samples_split': masked_array(data=[10, 2, 5, 2, 10, 5, 2, 5, 2, 5, 10, 2, 10, 10, 2, 10,\n",
              "                    5, 2, 5, 5, 5, 2, 2, 5, 2, 2, 5, 10, 2, 10, 2, 5, 10,\n",
              "                    2, 5, 2, 10, 5, 5, 2, 10, 5, 5, 2, 2, 10, 10, 5, 5, 5,\n",
              "                    10, 2, 5, 2, 10, 5, 2, 5, 5, 10, 5, 10, 2, 10, 2, 10,\n",
              "                    2, 10, 2, 2, 10, 2, 5, 5, 2, 2, 5, 5, 2, 5, 5, 10, 2,\n",
              "                    2, 2, 10, 2, 10, 2, 10, 5, 5, 10, 10, 5, 5, 10, 2, 10,\n",
              "                    10],\n",
              "              mask=[False, False, False, False, False, False, False, False,\n",
              "                    False, False, False, False, False, False, False, False,\n",
              "                    False, False, False, False, False, False, False, False,\n",
              "                    False, False, False, False, False, False, False, False,\n",
              "                    False, False, False, False, False, False, False, False,\n",
              "                    False, False, False, False, False, False, False, False,\n",
              "                    False, False, False, False, False, False, False, False,\n",
              "                    False, False, False, False, False, False, False, False,\n",
              "                    False, False, False, False, False, False, False, False,\n",
              "                    False, False, False, False, False, False, False, False,\n",
              "                    False, False, False, False, False, False, False, False,\n",
              "                    False, False, False, False, False, False, False, False,\n",
              "                    False, False, False, False],\n",
              "        fill_value='?',\n",
              "             dtype=object),\n",
              " 'param_min_samples_leaf': masked_array(data=[2, 2, 2, 1, 2, 2, 1, 2, 2, 4, 1, 4, 2, 4, 1, 4, 2, 2,\n",
              "                    4, 1, 4, 4, 4, 2, 1, 1, 1, 4, 2, 4, 2, 2, 1, 4, 1, 2,\n",
              "                    1, 4, 1, 2, 1, 1, 1, 4, 1, 4, 1, 4, 1, 2, 1, 2, 1, 1,\n",
              "                    1, 4, 4, 1, 2, 1, 1, 2, 1, 2, 4, 4, 2, 4, 2, 2, 1, 1,\n",
              "                    2, 4, 2, 1, 1, 2, 2, 4, 2, 4, 4, 1, 2, 2, 2, 4, 2, 4,\n",
              "                    4, 4, 1, 2, 1, 4, 2, 1, 1, 1],\n",
              "              mask=[False, False, False, False, False, False, False, False,\n",
              "                    False, False, False, False, False, False, False, False,\n",
              "                    False, False, False, False, False, False, False, False,\n",
              "                    False, False, False, False, False, False, False, False,\n",
              "                    False, False, False, False, False, False, False, False,\n",
              "                    False, False, False, False, False, False, False, False,\n",
              "                    False, False, False, False, False, False, False, False,\n",
              "                    False, False, False, False, False, False, False, False,\n",
              "                    False, False, False, False, False, False, False, False,\n",
              "                    False, False, False, False, False, False, False, False,\n",
              "                    False, False, False, False, False, False, False, False,\n",
              "                    False, False, False, False, False, False, False, False,\n",
              "                    False, False, False, False],\n",
              "        fill_value='?',\n",
              "             dtype=object),\n",
              " 'param_max_features': masked_array(data=['sqrt', 'sqrt', 'auto', 'auto', 'sqrt', 'sqrt', 'sqrt',\n",
              "                    'auto', 'sqrt', 'sqrt', 'auto', 'auto', 'auto', 'sqrt',\n",
              "                    'sqrt', 'sqrt', 'sqrt', 'auto', 'sqrt', 'sqrt', 'auto',\n",
              "                    'auto', 'sqrt', 'sqrt', 'sqrt', 'sqrt', 'auto', 'sqrt',\n",
              "                    'sqrt', 'sqrt', 'auto', 'sqrt', 'auto', 'auto', 'auto',\n",
              "                    'sqrt', 'sqrt', 'sqrt', 'sqrt', 'sqrt', 'auto', 'auto',\n",
              "                    'auto', 'auto', 'sqrt', 'sqrt', 'auto', 'auto', 'sqrt',\n",
              "                    'auto', 'auto', 'auto', 'auto', 'auto', 'auto', 'auto',\n",
              "                    'sqrt', 'auto', 'sqrt', 'auto', 'sqrt', 'sqrt', 'sqrt',\n",
              "                    'sqrt', 'auto', 'auto', 'auto', 'sqrt', 'sqrt', 'auto',\n",
              "                    'auto', 'sqrt', 'sqrt', 'sqrt', 'auto', 'auto', 'auto',\n",
              "                    'sqrt', 'auto', 'auto', 'auto', 'auto', 'sqrt', 'sqrt',\n",
              "                    'sqrt', 'sqrt', 'auto', 'sqrt', 'auto', 'auto', 'sqrt',\n",
              "                    'auto', 'sqrt', 'auto', 'auto', 'sqrt', 'auto', 'auto',\n",
              "                    'auto', 'sqrt'],\n",
              "              mask=[False, False, False, False, False, False, False, False,\n",
              "                    False, False, False, False, False, False, False, False,\n",
              "                    False, False, False, False, False, False, False, False,\n",
              "                    False, False, False, False, False, False, False, False,\n",
              "                    False, False, False, False, False, False, False, False,\n",
              "                    False, False, False, False, False, False, False, False,\n",
              "                    False, False, False, False, False, False, False, False,\n",
              "                    False, False, False, False, False, False, False, False,\n",
              "                    False, False, False, False, False, False, False, False,\n",
              "                    False, False, False, False, False, False, False, False,\n",
              "                    False, False, False, False, False, False, False, False,\n",
              "                    False, False, False, False, False, False, False, False,\n",
              "                    False, False, False, False],\n",
              "        fill_value='?',\n",
              "             dtype=object),\n",
              " 'param_max_depth': masked_array(data=[10, 60, 110, 50, 20, 50, 70, 30, 50, 90, 80, 90, 90,\n",
              "                    20, 90, 10, 40, 70, 30, 70, 110, 30, 70, 90, 110, 20,\n",
              "                    20, 90, 100, 100, 20, 80, 100, 70, 10, 50, 110, 30, 20,\n",
              "                    80, 10, 110, 60, 20, 50, 50, 50, 10, 50, 80, 40, 60,\n",
              "                    110, 10, 110, 30, 100, 90, 30, 60, 100, 60, 60, 100,\n",
              "                    30, 50, 10, 90, 80, 10, 110, 90, 50, 100, 10, 110, 10,\n",
              "                    70, 10, 30, 70, 50, 110, 30, 100, 20, 50, 100, 70, 80,\n",
              "                    10, 80, 20, 30, 20, 10, 90, 60, 100, 40],\n",
              "              mask=[False, False, False, False, False, False, False, False,\n",
              "                    False, False, False, False, False, False, False, False,\n",
              "                    False, False, False, False, False, False, False, False,\n",
              "                    False, False, False, False, False, False, False, False,\n",
              "                    False, False, False, False, False, False, False, False,\n",
              "                    False, False, False, False, False, False, False, False,\n",
              "                    False, False, False, False, False, False, False, False,\n",
              "                    False, False, False, False, False, False, False, False,\n",
              "                    False, False, False, False, False, False, False, False,\n",
              "                    False, False, False, False, False, False, False, False,\n",
              "                    False, False, False, False, False, False, False, False,\n",
              "                    False, False, False, False, False, False, False, False,\n",
              "                    False, False, False, False],\n",
              "        fill_value='?',\n",
              "             dtype=object),\n",
              " 'param_bootstrap': masked_array(data=[True, True, True, True, True, True, False, True, False,\n",
              "                    False, False, False, False, True, False, False, False,\n",
              "                    False, False, True, True, False, True, False, False,\n",
              "                    True, False, True, True, True, True, False, True,\n",
              "                    False, True, False, True, False, False, False, False,\n",
              "                    False, True, True, True, True, True, True, True, False,\n",
              "                    True, True, False, True, False, True, True, False,\n",
              "                    False, True, False, False, True, True, False, True,\n",
              "                    False, False, False, True, True, True, False, False,\n",
              "                    False, True, False, False, False, True, True, False,\n",
              "                    True, True, False, False, True, True, False, False,\n",
              "                    False, True, False, True, False, True, True, False,\n",
              "                    False, True],\n",
              "              mask=[False, False, False, False, False, False, False, False,\n",
              "                    False, False, False, False, False, False, False, False,\n",
              "                    False, False, False, False, False, False, False, False,\n",
              "                    False, False, False, False, False, False, False, False,\n",
              "                    False, False, False, False, False, False, False, False,\n",
              "                    False, False, False, False, False, False, False, False,\n",
              "                    False, False, False, False, False, False, False, False,\n",
              "                    False, False, False, False, False, False, False, False,\n",
              "                    False, False, False, False, False, False, False, False,\n",
              "                    False, False, False, False, False, False, False, False,\n",
              "                    False, False, False, False, False, False, False, False,\n",
              "                    False, False, False, False, False, False, False, False,\n",
              "                    False, False, False, False],\n",
              "        fill_value='?',\n",
              "             dtype=object),\n",
              " 'params': [{'n_estimators': 1000,\n",
              "   'min_samples_split': 10,\n",
              "   'min_samples_leaf': 2,\n",
              "   'max_features': 'sqrt',\n",
              "   'max_depth': 10,\n",
              "   'bootstrap': True},\n",
              "  {'n_estimators': 600,\n",
              "   'min_samples_split': 2,\n",
              "   'min_samples_leaf': 2,\n",
              "   'max_features': 'sqrt',\n",
              "   'max_depth': 60,\n",
              "   'bootstrap': True},\n",
              "  {'n_estimators': 700,\n",
              "   'min_samples_split': 5,\n",
              "   'min_samples_leaf': 2,\n",
              "   'max_features': 'auto',\n",
              "   'max_depth': 110,\n",
              "   'bootstrap': True},\n",
              "  {'n_estimators': 100,\n",
              "   'min_samples_split': 2,\n",
              "   'min_samples_leaf': 1,\n",
              "   'max_features': 'auto',\n",
              "   'max_depth': 50,\n",
              "   'bootstrap': True},\n",
              "  {'n_estimators': 600,\n",
              "   'min_samples_split': 10,\n",
              "   'min_samples_leaf': 2,\n",
              "   'max_features': 'sqrt',\n",
              "   'max_depth': 20,\n",
              "   'bootstrap': True},\n",
              "  {'n_estimators': 800,\n",
              "   'min_samples_split': 5,\n",
              "   'min_samples_leaf': 2,\n",
              "   'max_features': 'sqrt',\n",
              "   'max_depth': 50,\n",
              "   'bootstrap': True},\n",
              "  {'n_estimators': 400,\n",
              "   'min_samples_split': 2,\n",
              "   'min_samples_leaf': 1,\n",
              "   'max_features': 'sqrt',\n",
              "   'max_depth': 70,\n",
              "   'bootstrap': False},\n",
              "  {'n_estimators': 900,\n",
              "   'min_samples_split': 5,\n",
              "   'min_samples_leaf': 2,\n",
              "   'max_features': 'auto',\n",
              "   'max_depth': 30,\n",
              "   'bootstrap': True},\n",
              "  {'n_estimators': 300,\n",
              "   'min_samples_split': 2,\n",
              "   'min_samples_leaf': 2,\n",
              "   'max_features': 'sqrt',\n",
              "   'max_depth': 50,\n",
              "   'bootstrap': False},\n",
              "  {'n_estimators': 500,\n",
              "   'min_samples_split': 5,\n",
              "   'min_samples_leaf': 4,\n",
              "   'max_features': 'sqrt',\n",
              "   'max_depth': 90,\n",
              "   'bootstrap': False},\n",
              "  {'n_estimators': 900,\n",
              "   'min_samples_split': 10,\n",
              "   'min_samples_leaf': 1,\n",
              "   'max_features': 'auto',\n",
              "   'max_depth': 80,\n",
              "   'bootstrap': False},\n",
              "  {'n_estimators': 1000,\n",
              "   'min_samples_split': 2,\n",
              "   'min_samples_leaf': 4,\n",
              "   'max_features': 'auto',\n",
              "   'max_depth': 90,\n",
              "   'bootstrap': False},\n",
              "  {'n_estimators': 1000,\n",
              "   'min_samples_split': 10,\n",
              "   'min_samples_leaf': 2,\n",
              "   'max_features': 'auto',\n",
              "   'max_depth': 90,\n",
              "   'bootstrap': False},\n",
              "  {'n_estimators': 500,\n",
              "   'min_samples_split': 10,\n",
              "   'min_samples_leaf': 4,\n",
              "   'max_features': 'sqrt',\n",
              "   'max_depth': 20,\n",
              "   'bootstrap': True},\n",
              "  {'n_estimators': 200,\n",
              "   'min_samples_split': 2,\n",
              "   'min_samples_leaf': 1,\n",
              "   'max_features': 'sqrt',\n",
              "   'max_depth': 90,\n",
              "   'bootstrap': False},\n",
              "  {'n_estimators': 1000,\n",
              "   'min_samples_split': 10,\n",
              "   'min_samples_leaf': 4,\n",
              "   'max_features': 'sqrt',\n",
              "   'max_depth': 10,\n",
              "   'bootstrap': False},\n",
              "  {'n_estimators': 100,\n",
              "   'min_samples_split': 5,\n",
              "   'min_samples_leaf': 2,\n",
              "   'max_features': 'sqrt',\n",
              "   'max_depth': 40,\n",
              "   'bootstrap': False},\n",
              "  {'n_estimators': 600,\n",
              "   'min_samples_split': 2,\n",
              "   'min_samples_leaf': 2,\n",
              "   'max_features': 'auto',\n",
              "   'max_depth': 70,\n",
              "   'bootstrap': False},\n",
              "  {'n_estimators': 700,\n",
              "   'min_samples_split': 5,\n",
              "   'min_samples_leaf': 4,\n",
              "   'max_features': 'sqrt',\n",
              "   'max_depth': 30,\n",
              "   'bootstrap': False},\n",
              "  {'n_estimators': 1000,\n",
              "   'min_samples_split': 5,\n",
              "   'min_samples_leaf': 1,\n",
              "   'max_features': 'sqrt',\n",
              "   'max_depth': 70,\n",
              "   'bootstrap': True},\n",
              "  {'n_estimators': 500,\n",
              "   'min_samples_split': 5,\n",
              "   'min_samples_leaf': 4,\n",
              "   'max_features': 'auto',\n",
              "   'max_depth': 110,\n",
              "   'bootstrap': True},\n",
              "  {'n_estimators': 100,\n",
              "   'min_samples_split': 2,\n",
              "   'min_samples_leaf': 4,\n",
              "   'max_features': 'auto',\n",
              "   'max_depth': 30,\n",
              "   'bootstrap': False},\n",
              "  {'n_estimators': 200,\n",
              "   'min_samples_split': 2,\n",
              "   'min_samples_leaf': 4,\n",
              "   'max_features': 'sqrt',\n",
              "   'max_depth': 70,\n",
              "   'bootstrap': True},\n",
              "  {'n_estimators': 800,\n",
              "   'min_samples_split': 5,\n",
              "   'min_samples_leaf': 2,\n",
              "   'max_features': 'sqrt',\n",
              "   'max_depth': 90,\n",
              "   'bootstrap': False},\n",
              "  {'n_estimators': 100,\n",
              "   'min_samples_split': 2,\n",
              "   'min_samples_leaf': 1,\n",
              "   'max_features': 'sqrt',\n",
              "   'max_depth': 110,\n",
              "   'bootstrap': False},\n",
              "  {'n_estimators': 100,\n",
              "   'min_samples_split': 2,\n",
              "   'min_samples_leaf': 1,\n",
              "   'max_features': 'sqrt',\n",
              "   'max_depth': 20,\n",
              "   'bootstrap': True},\n",
              "  {'n_estimators': 900,\n",
              "   'min_samples_split': 5,\n",
              "   'min_samples_leaf': 1,\n",
              "   'max_features': 'auto',\n",
              "   'max_depth': 20,\n",
              "   'bootstrap': False},\n",
              "  {'n_estimators': 100,\n",
              "   'min_samples_split': 10,\n",
              "   'min_samples_leaf': 4,\n",
              "   'max_features': 'sqrt',\n",
              "   'max_depth': 90,\n",
              "   'bootstrap': True},\n",
              "  {'n_estimators': 600,\n",
              "   'min_samples_split': 2,\n",
              "   'min_samples_leaf': 2,\n",
              "   'max_features': 'sqrt',\n",
              "   'max_depth': 100,\n",
              "   'bootstrap': True},\n",
              "  {'n_estimators': 600,\n",
              "   'min_samples_split': 10,\n",
              "   'min_samples_leaf': 4,\n",
              "   'max_features': 'sqrt',\n",
              "   'max_depth': 100,\n",
              "   'bootstrap': True},\n",
              "  {'n_estimators': 200,\n",
              "   'min_samples_split': 2,\n",
              "   'min_samples_leaf': 2,\n",
              "   'max_features': 'auto',\n",
              "   'max_depth': 20,\n",
              "   'bootstrap': True},\n",
              "  {'n_estimators': 800,\n",
              "   'min_samples_split': 5,\n",
              "   'min_samples_leaf': 2,\n",
              "   'max_features': 'sqrt',\n",
              "   'max_depth': 80,\n",
              "   'bootstrap': False},\n",
              "  {'n_estimators': 200,\n",
              "   'min_samples_split': 10,\n",
              "   'min_samples_leaf': 1,\n",
              "   'max_features': 'auto',\n",
              "   'max_depth': 100,\n",
              "   'bootstrap': True},\n",
              "  {'n_estimators': 1000,\n",
              "   'min_samples_split': 2,\n",
              "   'min_samples_leaf': 4,\n",
              "   'max_features': 'auto',\n",
              "   'max_depth': 70,\n",
              "   'bootstrap': False},\n",
              "  {'n_estimators': 500,\n",
              "   'min_samples_split': 5,\n",
              "   'min_samples_leaf': 1,\n",
              "   'max_features': 'auto',\n",
              "   'max_depth': 10,\n",
              "   'bootstrap': True},\n",
              "  {'n_estimators': 100,\n",
              "   'min_samples_split': 2,\n",
              "   'min_samples_leaf': 2,\n",
              "   'max_features': 'sqrt',\n",
              "   'max_depth': 50,\n",
              "   'bootstrap': False},\n",
              "  {'n_estimators': 300,\n",
              "   'min_samples_split': 10,\n",
              "   'min_samples_leaf': 1,\n",
              "   'max_features': 'sqrt',\n",
              "   'max_depth': 110,\n",
              "   'bootstrap': True},\n",
              "  {'n_estimators': 100,\n",
              "   'min_samples_split': 5,\n",
              "   'min_samples_leaf': 4,\n",
              "   'max_features': 'sqrt',\n",
              "   'max_depth': 30,\n",
              "   'bootstrap': False},\n",
              "  {'n_estimators': 900,\n",
              "   'min_samples_split': 5,\n",
              "   'min_samples_leaf': 1,\n",
              "   'max_features': 'sqrt',\n",
              "   'max_depth': 20,\n",
              "   'bootstrap': False},\n",
              "  {'n_estimators': 200,\n",
              "   'min_samples_split': 2,\n",
              "   'min_samples_leaf': 2,\n",
              "   'max_features': 'sqrt',\n",
              "   'max_depth': 80,\n",
              "   'bootstrap': False},\n",
              "  {'n_estimators': 400,\n",
              "   'min_samples_split': 10,\n",
              "   'min_samples_leaf': 1,\n",
              "   'max_features': 'auto',\n",
              "   'max_depth': 10,\n",
              "   'bootstrap': False},\n",
              "  {'n_estimators': 100,\n",
              "   'min_samples_split': 5,\n",
              "   'min_samples_leaf': 1,\n",
              "   'max_features': 'auto',\n",
              "   'max_depth': 110,\n",
              "   'bootstrap': False},\n",
              "  {'n_estimators': 300,\n",
              "   'min_samples_split': 5,\n",
              "   'min_samples_leaf': 1,\n",
              "   'max_features': 'auto',\n",
              "   'max_depth': 60,\n",
              "   'bootstrap': True},\n",
              "  {'n_estimators': 100,\n",
              "   'min_samples_split': 2,\n",
              "   'min_samples_leaf': 4,\n",
              "   'max_features': 'auto',\n",
              "   'max_depth': 20,\n",
              "   'bootstrap': True},\n",
              "  {'n_estimators': 900,\n",
              "   'min_samples_split': 2,\n",
              "   'min_samples_leaf': 1,\n",
              "   'max_features': 'sqrt',\n",
              "   'max_depth': 50,\n",
              "   'bootstrap': True},\n",
              "  {'n_estimators': 800,\n",
              "   'min_samples_split': 10,\n",
              "   'min_samples_leaf': 4,\n",
              "   'max_features': 'sqrt',\n",
              "   'max_depth': 50,\n",
              "   'bootstrap': True},\n",
              "  {'n_estimators': 500,\n",
              "   'min_samples_split': 10,\n",
              "   'min_samples_leaf': 1,\n",
              "   'max_features': 'auto',\n",
              "   'max_depth': 50,\n",
              "   'bootstrap': True},\n",
              "  {'n_estimators': 100,\n",
              "   'min_samples_split': 5,\n",
              "   'min_samples_leaf': 4,\n",
              "   'max_features': 'auto',\n",
              "   'max_depth': 10,\n",
              "   'bootstrap': True},\n",
              "  {'n_estimators': 1000,\n",
              "   'min_samples_split': 5,\n",
              "   'min_samples_leaf': 1,\n",
              "   'max_features': 'sqrt',\n",
              "   'max_depth': 50,\n",
              "   'bootstrap': True},\n",
              "  {'n_estimators': 900,\n",
              "   'min_samples_split': 5,\n",
              "   'min_samples_leaf': 2,\n",
              "   'max_features': 'auto',\n",
              "   'max_depth': 80,\n",
              "   'bootstrap': False},\n",
              "  {'n_estimators': 900,\n",
              "   'min_samples_split': 10,\n",
              "   'min_samples_leaf': 1,\n",
              "   'max_features': 'auto',\n",
              "   'max_depth': 40,\n",
              "   'bootstrap': True},\n",
              "  {'n_estimators': 300,\n",
              "   'min_samples_split': 2,\n",
              "   'min_samples_leaf': 2,\n",
              "   'max_features': 'auto',\n",
              "   'max_depth': 60,\n",
              "   'bootstrap': True},\n",
              "  {'n_estimators': 1000,\n",
              "   'min_samples_split': 5,\n",
              "   'min_samples_leaf': 1,\n",
              "   'max_features': 'auto',\n",
              "   'max_depth': 110,\n",
              "   'bootstrap': False},\n",
              "  {'n_estimators': 900,\n",
              "   'min_samples_split': 2,\n",
              "   'min_samples_leaf': 1,\n",
              "   'max_features': 'auto',\n",
              "   'max_depth': 10,\n",
              "   'bootstrap': True},\n",
              "  {'n_estimators': 800,\n",
              "   'min_samples_split': 10,\n",
              "   'min_samples_leaf': 1,\n",
              "   'max_features': 'auto',\n",
              "   'max_depth': 110,\n",
              "   'bootstrap': False},\n",
              "  {'n_estimators': 900,\n",
              "   'min_samples_split': 5,\n",
              "   'min_samples_leaf': 4,\n",
              "   'max_features': 'auto',\n",
              "   'max_depth': 30,\n",
              "   'bootstrap': True},\n",
              "  {'n_estimators': 800,\n",
              "   'min_samples_split': 2,\n",
              "   'min_samples_leaf': 4,\n",
              "   'max_features': 'sqrt',\n",
              "   'max_depth': 100,\n",
              "   'bootstrap': True},\n",
              "  {'n_estimators': 1000,\n",
              "   'min_samples_split': 5,\n",
              "   'min_samples_leaf': 1,\n",
              "   'max_features': 'auto',\n",
              "   'max_depth': 90,\n",
              "   'bootstrap': False},\n",
              "  {'n_estimators': 400,\n",
              "   'min_samples_split': 5,\n",
              "   'min_samples_leaf': 2,\n",
              "   'max_features': 'sqrt',\n",
              "   'max_depth': 30,\n",
              "   'bootstrap': False},\n",
              "  {'n_estimators': 1000,\n",
              "   'min_samples_split': 10,\n",
              "   'min_samples_leaf': 1,\n",
              "   'max_features': 'auto',\n",
              "   'max_depth': 60,\n",
              "   'bootstrap': True},\n",
              "  {'n_estimators': 100,\n",
              "   'min_samples_split': 5,\n",
              "   'min_samples_leaf': 1,\n",
              "   'max_features': 'sqrt',\n",
              "   'max_depth': 100,\n",
              "   'bootstrap': False},\n",
              "  {'n_estimators': 700,\n",
              "   'min_samples_split': 10,\n",
              "   'min_samples_leaf': 2,\n",
              "   'max_features': 'sqrt',\n",
              "   'max_depth': 60,\n",
              "   'bootstrap': False},\n",
              "  {'n_estimators': 1000,\n",
              "   'min_samples_split': 2,\n",
              "   'min_samples_leaf': 1,\n",
              "   'max_features': 'sqrt',\n",
              "   'max_depth': 60,\n",
              "   'bootstrap': True},\n",
              "  {'n_estimators': 600,\n",
              "   'min_samples_split': 10,\n",
              "   'min_samples_leaf': 2,\n",
              "   'max_features': 'sqrt',\n",
              "   'max_depth': 100,\n",
              "   'bootstrap': True},\n",
              "  {'n_estimators': 200,\n",
              "   'min_samples_split': 2,\n",
              "   'min_samples_leaf': 4,\n",
              "   'max_features': 'auto',\n",
              "   'max_depth': 30,\n",
              "   'bootstrap': False},\n",
              "  {'n_estimators': 600,\n",
              "   'min_samples_split': 10,\n",
              "   'min_samples_leaf': 4,\n",
              "   'max_features': 'auto',\n",
              "   'max_depth': 50,\n",
              "   'bootstrap': True},\n",
              "  {'n_estimators': 1000,\n",
              "   'min_samples_split': 2,\n",
              "   'min_samples_leaf': 2,\n",
              "   'max_features': 'auto',\n",
              "   'max_depth': 10,\n",
              "   'bootstrap': False},\n",
              "  {'n_estimators': 900,\n",
              "   'min_samples_split': 10,\n",
              "   'min_samples_leaf': 4,\n",
              "   'max_features': 'sqrt',\n",
              "   'max_depth': 90,\n",
              "   'bootstrap': False},\n",
              "  {'n_estimators': 100,\n",
              "   'min_samples_split': 2,\n",
              "   'min_samples_leaf': 2,\n",
              "   'max_features': 'sqrt',\n",
              "   'max_depth': 80,\n",
              "   'bootstrap': False},\n",
              "  {'n_estimators': 300,\n",
              "   'min_samples_split': 2,\n",
              "   'min_samples_leaf': 2,\n",
              "   'max_features': 'auto',\n",
              "   'max_depth': 10,\n",
              "   'bootstrap': True},\n",
              "  {'n_estimators': 300,\n",
              "   'min_samples_split': 10,\n",
              "   'min_samples_leaf': 1,\n",
              "   'max_features': 'auto',\n",
              "   'max_depth': 110,\n",
              "   'bootstrap': True},\n",
              "  {'n_estimators': 300,\n",
              "   'min_samples_split': 2,\n",
              "   'min_samples_leaf': 1,\n",
              "   'max_features': 'sqrt',\n",
              "   'max_depth': 90,\n",
              "   'bootstrap': True},\n",
              "  {'n_estimators': 600,\n",
              "   'min_samples_split': 5,\n",
              "   'min_samples_leaf': 2,\n",
              "   'max_features': 'sqrt',\n",
              "   'max_depth': 50,\n",
              "   'bootstrap': False},\n",
              "  {'n_estimators': 700,\n",
              "   'min_samples_split': 5,\n",
              "   'min_samples_leaf': 4,\n",
              "   'max_features': 'sqrt',\n",
              "   'max_depth': 100,\n",
              "   'bootstrap': False},\n",
              "  {'n_estimators': 700,\n",
              "   'min_samples_split': 2,\n",
              "   'min_samples_leaf': 2,\n",
              "   'max_features': 'auto',\n",
              "   'max_depth': 10,\n",
              "   'bootstrap': False},\n",
              "  {'n_estimators': 100,\n",
              "   'min_samples_split': 2,\n",
              "   'min_samples_leaf': 1,\n",
              "   'max_features': 'auto',\n",
              "   'max_depth': 110,\n",
              "   'bootstrap': True},\n",
              "  {'n_estimators': 1000,\n",
              "   'min_samples_split': 5,\n",
              "   'min_samples_leaf': 1,\n",
              "   'max_features': 'auto',\n",
              "   'max_depth': 10,\n",
              "   'bootstrap': False},\n",
              "  {'n_estimators': 600,\n",
              "   'min_samples_split': 5,\n",
              "   'min_samples_leaf': 2,\n",
              "   'max_features': 'sqrt',\n",
              "   'max_depth': 70,\n",
              "   'bootstrap': False},\n",
              "  {'n_estimators': 600,\n",
              "   'min_samples_split': 2,\n",
              "   'min_samples_leaf': 2,\n",
              "   'max_features': 'auto',\n",
              "   'max_depth': 10,\n",
              "   'bootstrap': False},\n",
              "  {'n_estimators': 300,\n",
              "   'min_samples_split': 5,\n",
              "   'min_samples_leaf': 4,\n",
              "   'max_features': 'auto',\n",
              "   'max_depth': 30,\n",
              "   'bootstrap': True},\n",
              "  {'n_estimators': 900,\n",
              "   'min_samples_split': 5,\n",
              "   'min_samples_leaf': 2,\n",
              "   'max_features': 'auto',\n",
              "   'max_depth': 70,\n",
              "   'bootstrap': True},\n",
              "  {'n_estimators': 1000,\n",
              "   'min_samples_split': 10,\n",
              "   'min_samples_leaf': 4,\n",
              "   'max_features': 'auto',\n",
              "   'max_depth': 50,\n",
              "   'bootstrap': False},\n",
              "  {'n_estimators': 400,\n",
              "   'min_samples_split': 2,\n",
              "   'min_samples_leaf': 4,\n",
              "   'max_features': 'sqrt',\n",
              "   'max_depth': 110,\n",
              "   'bootstrap': True},\n",
              "  {'n_estimators': 800,\n",
              "   'min_samples_split': 2,\n",
              "   'min_samples_leaf': 1,\n",
              "   'max_features': 'sqrt',\n",
              "   'max_depth': 30,\n",
              "   'bootstrap': True},\n",
              "  {'n_estimators': 1000,\n",
              "   'min_samples_split': 2,\n",
              "   'min_samples_leaf': 2,\n",
              "   'max_features': 'sqrt',\n",
              "   'max_depth': 100,\n",
              "   'bootstrap': False},\n",
              "  {'n_estimators': 800,\n",
              "   'min_samples_split': 10,\n",
              "   'min_samples_leaf': 2,\n",
              "   'max_features': 'sqrt',\n",
              "   'max_depth': 20,\n",
              "   'bootstrap': False},\n",
              "  {'n_estimators': 600,\n",
              "   'min_samples_split': 2,\n",
              "   'min_samples_leaf': 2,\n",
              "   'max_features': 'auto',\n",
              "   'max_depth': 50,\n",
              "   'bootstrap': True},\n",
              "  {'n_estimators': 900,\n",
              "   'min_samples_split': 10,\n",
              "   'min_samples_leaf': 4,\n",
              "   'max_features': 'sqrt',\n",
              "   'max_depth': 100,\n",
              "   'bootstrap': True},\n",
              "  {'n_estimators': 500,\n",
              "   'min_samples_split': 2,\n",
              "   'min_samples_leaf': 2,\n",
              "   'max_features': 'auto',\n",
              "   'max_depth': 70,\n",
              "   'bootstrap': False},\n",
              "  {'n_estimators': 900,\n",
              "   'min_samples_split': 10,\n",
              "   'min_samples_leaf': 4,\n",
              "   'max_features': 'auto',\n",
              "   'max_depth': 80,\n",
              "   'bootstrap': False},\n",
              "  {'n_estimators': 900,\n",
              "   'min_samples_split': 5,\n",
              "   'min_samples_leaf': 4,\n",
              "   'max_features': 'sqrt',\n",
              "   'max_depth': 10,\n",
              "   'bootstrap': False},\n",
              "  {'n_estimators': 900,\n",
              "   'min_samples_split': 5,\n",
              "   'min_samples_leaf': 4,\n",
              "   'max_features': 'auto',\n",
              "   'max_depth': 80,\n",
              "   'bootstrap': True},\n",
              "  {'n_estimators': 1000,\n",
              "   'min_samples_split': 10,\n",
              "   'min_samples_leaf': 1,\n",
              "   'max_features': 'sqrt',\n",
              "   'max_depth': 20,\n",
              "   'bootstrap': False},\n",
              "  {'n_estimators': 100,\n",
              "   'min_samples_split': 10,\n",
              "   'min_samples_leaf': 2,\n",
              "   'max_features': 'auto',\n",
              "   'max_depth': 30,\n",
              "   'bootstrap': True},\n",
              "  {'n_estimators': 700,\n",
              "   'min_samples_split': 5,\n",
              "   'min_samples_leaf': 1,\n",
              "   'max_features': 'auto',\n",
              "   'max_depth': 20,\n",
              "   'bootstrap': False},\n",
              "  {'n_estimators': 700,\n",
              "   'min_samples_split': 5,\n",
              "   'min_samples_leaf': 4,\n",
              "   'max_features': 'sqrt',\n",
              "   'max_depth': 10,\n",
              "   'bootstrap': True},\n",
              "  {'n_estimators': 100,\n",
              "   'min_samples_split': 10,\n",
              "   'min_samples_leaf': 2,\n",
              "   'max_features': 'auto',\n",
              "   'max_depth': 90,\n",
              "   'bootstrap': True},\n",
              "  {'n_estimators': 500,\n",
              "   'min_samples_split': 2,\n",
              "   'min_samples_leaf': 1,\n",
              "   'max_features': 'auto',\n",
              "   'max_depth': 60,\n",
              "   'bootstrap': False},\n",
              "  {'n_estimators': 300,\n",
              "   'min_samples_split': 10,\n",
              "   'min_samples_leaf': 1,\n",
              "   'max_features': 'auto',\n",
              "   'max_depth': 100,\n",
              "   'bootstrap': False},\n",
              "  {'n_estimators': 600,\n",
              "   'min_samples_split': 10,\n",
              "   'min_samples_leaf': 1,\n",
              "   'max_features': 'sqrt',\n",
              "   'max_depth': 40,\n",
              "   'bootstrap': True}],\n",
              " 'split0_test_score': array([-2.59623702, -2.1331143 , -1.29178936, -1.15017381, -2.60653283,\n",
              "        -2.18756497, -1.7838575 , -1.28163445, -1.82050706, -2.31413578,\n",
              "        -1.79998016, -1.7294229 , -1.78295635, -2.53460298, -1.78036357,\n",
              "        -2.33417594, -1.92350713, -1.67537659, -2.3343395 , -2.15735778,\n",
              "        -1.1866344 , -1.7294229 , -2.45034135, -1.87451458, -1.75796143,\n",
              "        -2.11057429, -1.73919841, -2.53167583, -2.1331143 , -2.51471323,\n",
              "        -1.28005431, -1.87451458, -1.1924904 , -1.7294229 , -1.16582261,\n",
              "        -1.77219211, -2.57998367, -2.22746254, -1.89114053, -1.82214929,\n",
              "        -1.79998016, -1.73919841, -1.22665971, -1.18389115, -2.04564915,\n",
              "        -2.47720814, -1.21148825, -1.18384836, -2.15735778, -1.72194101,\n",
              "        -1.20109913, -1.30866557, -1.73919841, -1.12054312, -1.79998016,\n",
              "        -1.18118533, -2.42455412, -1.73919841, -1.88980264, -1.19927403,\n",
              "        -1.81825123, -2.29758129, -2.044703  , -2.60653283, -1.7294229 ,\n",
              "        -1.20040669, -1.65481079, -2.32939744, -1.77219211, -1.30066235,\n",
              "        -1.2289919 , -2.0122054 , -1.92778406, -2.3343395 , -1.65455181,\n",
              "        -1.15017381, -1.72739286, -1.92778406, -1.65484087, -1.20883635,\n",
              "        -1.28163445, -1.75150756, -2.41861519, -2.02745363, -1.82982746,\n",
              "        -2.27073226, -1.28385206, -2.48890747, -1.67586286, -1.75150756,\n",
              "        -2.30873964, -1.18118533, -2.45525873, -1.40065464, -1.73919841,\n",
              "        -2.46246548, -1.40065464, -1.36771238, -1.79998016, -2.68699118]),\n",
              " 'split1_test_score': array([-4.74462339, -4.53797788, -4.10606338, -4.00501619, -4.72787029,\n",
              "        -4.53763608, -4.31317929, -4.10538482, -4.5505576 , -4.62480449,\n",
              "        -4.10171489, -4.09134104, -4.16432328, -5.03251167, -4.34308952,\n",
              "        -4.70707943, -4.54034573, -4.04722354, -4.63357817, -4.46024261,\n",
              "        -4.22673995, -4.09134104, -4.99548965, -4.51314549, -4.30298762,\n",
              "        -4.27003333, -3.97367794, -4.97216659, -4.53797788, -5.01486796,\n",
              "        -4.08927266, -4.51314549, -4.13636556, -4.09134104, -4.09827039,\n",
              "        -4.49342214, -4.59417759, -4.65943681, -4.36939269, -4.56121329,\n",
              "        -4.10214307, -3.97276778, -4.07693617, -4.19748706, -4.31212508,\n",
              "        -5.00989652, -4.14311552, -4.19772133, -4.46024261, -4.12788951,\n",
              "        -4.14547618, -4.06746381, -3.9736724 , -4.01034961, -4.10160914,\n",
              "        -4.24132769, -5.0223723 , -3.9736724 , -4.50911686, -4.13968357,\n",
              "        -4.47105587, -4.60646452, -4.31281924, -4.72787029, -4.09134104,\n",
              "        -4.25008806, -4.04967683, -4.69988253, -4.49342214, -4.05622933,\n",
              "        -4.12390926, -4.27032286, -4.50301645, -4.63357817, -4.0504754 ,\n",
              "        -4.00501619, -3.98438668, -4.50301645, -4.05019577, -4.1985732 ,\n",
              "        -4.10538482, -4.0633794 , -5.06672134, -4.31178905, -4.50271348,\n",
              "        -4.59997297, -4.06232015, -5.03210502, -4.04745111, -4.0633794 ,\n",
              "        -4.6297275 , -4.24132769, -4.59649872, -4.13307646, -3.97350417,\n",
              "        -5.03941315, -4.13307646, -3.80322781, -4.10175616, -4.58670438]),\n",
              " 'split2_test_score': array([-1.24894409, -1.14133809, -0.76459551, -0.70240571, -1.21571449,\n",
              "        -1.17354289, -1.14409774, -0.76273743, -1.05642432, -1.29838453,\n",
              "        -1.13840476, -1.2446551 , -1.13783333, -1.39050771, -1.15627143,\n",
              "        -1.26477964, -1.05769281, -0.93401534, -1.29318617, -1.17613242,\n",
              "        -0.97654896, -1.2446551 , -1.37475721, -1.08122784, -1.17286476,\n",
              "        -1.17635714, -0.93176164, -1.31405531, -1.14133809, -1.37818999,\n",
              "        -0.75548197, -1.08122784, -0.65906747, -1.2446551 , -0.69969585,\n",
              "        -1.06328386, -1.30142305, -1.12439431, -1.1132038 , -1.06200226,\n",
              "        -1.13930519, -0.9362    , -0.72017445, -1.03519559, -1.10300529,\n",
              "        -1.34666093, -0.69624244, -1.03509418, -1.17613242, -0.931353  ,\n",
              "        -0.69152189, -0.78797843, -0.93780393, -0.71234366, -1.13840476,\n",
              "        -0.96310348, -1.33472854, -0.93780393, -1.09527217, -0.69010882,\n",
              "        -1.20052298, -1.18829206, -1.08462438, -1.21571449, -1.2446551 ,\n",
              "        -0.96476091, -0.92045415, -1.27538644, -1.06328386, -0.79442862,\n",
              "        -0.70985791, -1.13278656, -1.09071771, -1.29318617, -0.92219388,\n",
              "        -0.70240571, -0.93266919, -1.09071771, -0.92303288, -1.00936801,\n",
              "        -0.76273743, -1.25598844, -1.39096654, -1.09144127, -1.04280115,\n",
              "        -1.17655486, -0.76324242, -1.34804611, -0.93593984, -1.25598844,\n",
              "        -1.27968019, -0.96310348, -1.23027577, -0.75644166, -0.93670034,\n",
              "        -1.35955069, -0.75644166, -1.13117143, -1.13840476, -1.2868806 ]),\n",
              " 'split3_test_score': array([-2.52787557, -2.17586292, -1.79775611, -1.49147143, -2.51370634,\n",
              "        -2.28675572, -1.93206869, -1.79897804, -2.22546689, -2.159976  ,\n",
              "        -1.50897619, -1.99865306, -2.16023719, -2.6430779 , -1.97432429,\n",
              "        -2.27417612, -2.27781671, -1.94344709, -2.16380877, -2.29785712,\n",
              "        -1.90318687, -1.99865306, -2.63980575, -2.16643107, -1.95000905,\n",
              "        -2.04234429, -1.41149118, -2.63246099, -2.17586292, -2.62707968,\n",
              "        -1.73000271, -2.16643107, -1.59530363, -1.99865306, -1.52404613,\n",
              "        -2.26948828, -2.61268197, -2.12022425, -2.14620421, -2.27870678,\n",
              "        -1.52473871, -1.40099206, -1.48606754, -1.94108292, -2.26216503,\n",
              "        -2.63878969, -1.60488658, -1.94052873, -2.29785712, -1.95151182,\n",
              "        -1.6028232 , -1.74761671, -1.41046905, -1.51189217, -1.50897619,\n",
              "        -1.89576244, -2.65032061, -1.41046905, -2.17776719, -1.60839959,\n",
              "        -2.20601937, -2.26991494, -2.25132762, -2.51370634, -1.99865306,\n",
              "        -1.91115422, -1.93888556, -2.27266625, -2.26948828, -1.75095738,\n",
              "        -1.58327609, -2.24547   , -2.19914267, -2.16380877, -1.93925125,\n",
              "        -1.49147143, -1.40035239, -2.19914267, -1.93885397, -1.89657805,\n",
              "        -1.79897804, -2.00284354, -2.64393462, -2.24972673, -2.18044412,\n",
              "        -2.24783257, -1.78865884, -2.67061325, -1.94459397, -2.00284354,\n",
              "        -2.22443102, -1.89576244, -2.36917576, -1.90787668, -1.40576145,\n",
              "        -2.67212753, -1.90787668, -0.81981714, -1.50897619, -2.58816052]),\n",
              " 'split4_test_score': array([-1.09183653, -1.03975499, -0.81982451, -0.81218048, -1.09457445,\n",
              "        -1.03796213, -0.96242179, -0.81994884, -0.97984253, -1.11296748,\n",
              "        -1.21902532, -1.17555102, -1.21484448, -1.25222586, -0.96200262,\n",
              "        -1.12748124, -0.97812909, -1.12074762, -1.09441462, -0.93548243,\n",
              "        -0.89805362, -1.17555102, -1.23619206, -0.98290614, -0.93706905,\n",
              "        -0.95936238, -0.99364524, -1.26679427, -1.03975499, -1.24379226,\n",
              "        -0.82005501, -0.98290614, -0.83821617, -1.17555102, -0.81043695,\n",
              "        -0.94954207, -1.02399071, -1.08461132, -0.89917362, -0.9833683 ,\n",
              "        -1.19878723, -0.99980913, -0.8206901 , -0.86932016, -0.9698228 ,\n",
              "        -1.22836099, -0.84928217, -0.86957729, -0.93548243, -1.07014497,\n",
              "        -0.84104374, -0.82959712, -0.99267663, -0.80303244, -1.21902532,\n",
              "        -0.89322482, -1.19857721, -0.99267663, -0.97260052, -0.84268657,\n",
              "        -0.88893393, -1.00062554, -0.97117514, -1.09457445, -1.17555102,\n",
              "        -0.90692883, -1.19407601, -1.1052044 , -0.94954207, -0.82580219,\n",
              "        -0.853262  , -0.94797603, -0.98686129, -1.09441462, -1.19410975,\n",
              "        -0.81218048, -1.06628803, -0.98686129, -1.19413061, -0.8759257 ,\n",
              "        -0.81994884, -1.19211716, -1.23640347, -0.97193006, -0.97819983,\n",
              "        -1.00318241, -0.82549167, -1.22923427, -1.12058444, -1.19211716,\n",
              "        -1.12493645, -0.89322482, -0.9257366 , -0.86374622, -0.99253107,\n",
              "        -1.1885214 , -0.86374622, -1.04744095, -1.21902532, -1.01714138]),\n",
              " 'split5_test_score': array([-1.43954654, -1.1462639 , -1.19412888, -1.27052667, -1.4564105 ,\n",
              "        -1.18457008, -0.91038726, -1.19259402, -0.86293236, -1.22445759,\n",
              "        -1.15884732, -0.94180549, -0.99115835, -1.54334276, -0.90263167,\n",
              "        -1.24131776, -0.94642935, -1.30000635, -1.22676785, -1.2338938 ,\n",
              "        -0.87417082, -0.94993837, -1.40201364, -0.86174328, -0.94111   ,\n",
              "        -1.04530429, -1.18971799, -1.5470153 , -1.1462639 , -1.5346828 ,\n",
              "        -1.20375795, -0.86174328, -1.30781013, -0.94180549, -1.28726997,\n",
              "        -0.92209373, -1.52184632, -1.24774042, -1.05288882, -0.88572905,\n",
              "        -1.16482804, -1.19139683, -1.30599103, -0.80999501, -1.12109143,\n",
              "        -1.52076763, -1.32135268, -0.81065613, -1.2338938 , -1.26938849,\n",
              "        -1.31239881, -1.20640475, -1.18964778, -1.25396325, -1.15884732,\n",
              "        -0.87678945, -1.48032564, -1.18964778, -0.8595688 , -1.31618986,\n",
              "        -1.07995135, -1.03654721, -1.12541414, -1.4564105 , -0.94658896,\n",
              "        -0.89937701, -1.29757193, -1.2258235 , -0.92209373, -1.20926488,\n",
              "        -1.33298004, -1.13642571, -0.85627988, -1.22676785, -1.29762305,\n",
              "        -1.27052667, -1.21126397, -0.85627988, -1.29772407, -0.86805022,\n",
              "        -1.19259402, -0.98570673, -1.45221172, -1.13698131, -0.89367678,\n",
              "        -1.04138845, -1.19983685, -1.53809943, -1.2997427 , -0.98570673,\n",
              "        -1.23811253, -0.87678945, -1.26011981, -1.21426093, -1.18961995,\n",
              "        -1.47881498, -1.21426093, -0.91234571, -1.15884732, -1.49914504]),\n",
              " 'split6_test_score': array([-1.29349488, -1.05519592, -0.86767906, -1.85014476, -1.2867095 ,\n",
              "        -1.08697366, -1.6438269 , -0.87580714, -0.58788559, -1.09716706,\n",
              "        -3.40328579, -1.05466213, -0.80520587, -1.58798877, -1.80201929,\n",
              "        -1.18428248, -0.74738158, -1.51551283, -1.11431834, -1.03519503,\n",
              "        -0.64420846, -1.05466213, -1.54579385, -0.64714999, -1.89249095,\n",
              "        -1.17823286, -3.41598735, -1.44623108, -1.05519592, -1.57859247,\n",
              "        -0.82921206, -0.64714999, -1.67119139, -1.05466213, -1.83579317,\n",
              "        -0.66589394, -1.22181572, -1.05528139, -1.79998933, -0.62363809,\n",
              "        -3.41830089, -3.41653373, -1.91159238, -0.65524438, -0.89337778,\n",
              "        -1.57626205, -1.68487401, -0.65637312, -1.03519503, -1.46654929,\n",
              "        -1.70937759, -0.83271062, -3.41508774, -1.78978136, -3.40263519,\n",
              "        -0.63882446, -1.55212355, -3.41508774, -0.63068031, -1.70640054,\n",
              "        -1.8547694 , -0.85597326, -0.92593162, -1.2867095 , -1.05466213,\n",
              "        -0.62905937, -1.54249336, -1.17367999, -0.66589394, -0.82911556,\n",
              "        -1.70405848, -0.98223111, -0.6299045 , -1.11431834, -1.55104286,\n",
              "        -1.85014476, -3.4221606 , -0.6299045 , -1.53773142, -0.65793178,\n",
              "        -0.87580714, -1.04331822, -1.54451945, -0.90278958, -0.6879133 ,\n",
              "        -0.84889359, -0.8457736 , -1.60760456, -1.53199587, -1.04331822,\n",
              "        -1.15328455, -0.63882446, -1.94915886, -0.84024243, -3.41666491,\n",
              "        -1.57809144, -0.84024243, -3.3529981 , -3.39763371, -1.11246532]),\n",
              " 'split7_test_score': array([-2.24723136, -2.01041647, -1.85299779, -1.93823286, -2.26076416,\n",
              "        -2.08778613, -1.80127429, -1.83401074, -1.91208943, -2.33522873,\n",
              "        -2.85387324, -3.20611451, -2.82761036, -2.37649332, -1.76590143,\n",
              "        -2.38267989, -1.78778499, -1.69023254, -2.34078101, -1.94133994,\n",
              "        -2.26806262, -3.20611451, -2.35996754, -1.9009368 , -1.68870476,\n",
              "        -1.96010048, -2.52882003, -2.41495437, -2.01041647, -2.36642826,\n",
              "        -1.79007917, -1.9009368 , -2.23244315, -3.20611451, -2.04366697,\n",
              "        -1.91219264, -2.19678937, -2.37665914, -1.91523237, -1.91392542,\n",
              "        -2.84134873, -2.52915437, -2.05450669, -2.38390366, -1.76048566,\n",
              "        -2.36515014, -2.20540692, -2.38489918, -1.94133994, -1.71128571,\n",
              "        -2.19909908, -1.79412548, -2.52811048, -1.89525275, -2.85422925,\n",
              "        -2.26219893, -2.30200651, -2.52811048, -1.90675884, -2.20301165,\n",
              "        -1.8356506 , -2.41500637, -1.75831024, -2.26076416, -3.20611451,\n",
              "        -2.27284922, -1.7153108 , -2.37238965, -1.91219264, -1.80429579,\n",
              "        -2.21541166, -1.78767587, -1.8926982 , -2.34078101, -1.71531223,\n",
              "        -1.93823286, -2.45513925, -1.8926982 , -1.7153154 , -2.23333466,\n",
              "        -1.83401074, -3.22131822, -2.37427237, -1.77108292, -2.00506933,\n",
              "        -2.41666017, -1.78228636, -2.36115305, -1.69023   , -3.22131822,\n",
              "        -2.32506528, -2.26219893, -2.28649684, -2.12072582, -2.52680447,\n",
              "        -2.32855484, -2.12072582, -2.18843905, -2.85657891, -2.25537004]),\n",
              " 'split8_test_score': array([-1.34696964, -1.1538104 , -1.54986732, -1.5378119 , -1.34085834,\n",
              "        -1.27336697, -1.76426536, -1.53648782, -1.51517501, -1.7688533 ,\n",
              "        -2.80608976, -2.59558367, -2.84749849, -1.44694516, -1.74605548,\n",
              "        -1.81229726, -1.57250925, -2.23368079, -1.76467888, -1.1919669 ,\n",
              "        -1.51654005, -2.59558367, -1.48353655, -1.51366821, -1.73591476,\n",
              "        -1.40286905, -2.99956349, -1.60143966, -1.1538104 , -1.43476215,\n",
              "        -1.44661823, -1.51366821, -1.5711144 , -2.59558367, -1.51432668,\n",
              "        -1.48179819, -1.28985103, -1.80193249, -1.68990782, -1.49820254,\n",
              "        -2.80620423, -2.99956349, -1.49392448, -1.60144563, -1.17334735,\n",
              "        -1.40424744, -1.53679605, -1.60122192, -1.1919669 , -2.24230159,\n",
              "        -1.50945782, -1.40439466, -2.99956349, -1.4900845 , -2.80608976,\n",
              "        -1.4974819 , -1.37674985, -2.99956349, -1.53969496, -1.50877201,\n",
              "        -1.59273433, -1.72737875, -1.18113876, -1.34085834, -2.59558367,\n",
              "        -1.53079276, -2.25082002, -1.80549573, -1.48179819, -1.40185741,\n",
              "        -1.5434654 , -1.27872206, -1.52693996, -1.76467888, -2.25333669,\n",
              "        -1.5378119 , -2.99842002, -1.52693996, -2.25207836, -1.52237736,\n",
              "        -1.53648782, -2.4799805 , -1.42940002, -1.18440036, -1.4942552 ,\n",
              "        -1.74680274, -1.44298399, -1.38760601, -2.23280006, -2.4799805 ,\n",
              "        -1.79085493, -1.4974819 , -1.80075412, -1.74860368, -2.99956349,\n",
              "        -1.37284399, -1.74860368, -3.06849276, -2.80608976, -1.27659933]),\n",
              " 'split9_test_score': array([-1.27004006, -1.05656394, -0.77190126, -0.64416857, -1.23917449,\n",
              "        -1.07748087, -0.75316679, -0.76054373, -0.8807683 , -1.16180458,\n",
              "        -0.99102872, -1.19459806, -0.99367158, -1.42100622, -0.77806238,\n",
              "        -1.15437458, -0.85725961, -0.95458148, -1.15366726, -0.94286826,\n",
              "        -0.98030617, -1.19392925, -1.35315425, -0.85813665, -0.82149429,\n",
              "        -0.89434762, -0.95923898, -1.35811522, -1.05656394, -1.41696987,\n",
              "        -0.74276699, -0.85813665, -0.80118861, -1.19459806, -0.70176178,\n",
              "        -0.91169997, -1.18646104, -1.24103702, -0.7030982 , -0.91535065,\n",
              "        -0.99102872, -0.96072222, -0.68848882, -0.97452788, -0.86169074,\n",
              "        -1.40229154, -0.83271001, -0.97526566, -0.94286826, -0.94809259,\n",
              "        -0.8446066 , -0.72043619, -0.95924921, -0.64652661, -0.99102872,\n",
              "        -0.98977247, -1.35530091, -0.95924921, -0.84656302, -0.84162215,\n",
              "        -0.65643298, -1.03466121, -0.86133995, -1.23917449, -1.19415009,\n",
              "        -1.02540228, -1.01162103, -1.14623331, -0.91169997, -0.72390329,\n",
              "        -0.81155467, -0.86294968, -0.86818306, -1.15366726, -1.01133095,\n",
              "        -0.64416857, -1.03061825, -0.86818306, -1.01140675, -0.97067703,\n",
              "        -0.76054373, -1.12012634, -1.34061262, -0.85990345, -0.84198938,\n",
              "        -1.03833312, -0.73455238, -1.4204941 , -0.9548073 , -1.12012634,\n",
              "        -1.17912429, -0.98977247, -0.93140751, -0.86399422, -0.95920975,\n",
              "        -1.35297095, -0.86399422, -0.8786819 , -0.99102872, -1.20528381]),\n",
              " 'mean_test_score': array([-1.98067991, -1.74502988, -1.50166032, -1.54021324, -1.97423154,\n",
              "        -1.79336395, -1.70085456, -1.4968127 , -1.63916491, -1.90977795,\n",
              "        -2.09812262, -1.9232387 , -1.89253393, -2.12287024, -1.72107217,\n",
              "        -1.94826443, -1.66888563, -1.74148242, -1.91195406, -1.73723363,\n",
              "        -1.54744519, -1.92398511, -2.08410518, -1.63998601, -1.72006067,\n",
              "        -1.70395257, -2.01431022, -2.10849086, -1.74502988, -2.11100787,\n",
              "        -1.46873011, -1.63998601, -1.60051909, -1.9232387 , -1.56810905,\n",
              "        -1.64416069, -1.95290205, -1.89387797, -1.75802314, -1.65442857,\n",
              "        -2.0986665 , -2.0146338 , -1.57850314, -1.56520934, -1.65027603,\n",
              "        -2.09696351, -1.60861546, -1.56551859, -1.73723363, -1.7440458 ,\n",
              "        -1.6056904 , -1.46993934, -2.01454791, -1.52337695, -2.09808258,\n",
              "        -1.5439671 , -2.06970592, -2.01454791, -1.64278253, -1.60561488,\n",
              "        -1.7604322 , -1.84324452, -1.65167841, -1.97423154, -1.92367225,\n",
              "        -1.55908193, -1.75757205, -1.94061592, -1.64416069, -1.46965168,\n",
              "        -1.61067674, -1.66567653, -1.64815278, -1.91195406, -1.75892279,\n",
              "        -1.54021324, -2.02286912, -1.64815278, -1.75753101, -1.54416524,\n",
              "        -1.4968127 , -1.91162861, -2.08976573, -1.65074984, -1.645689  ,\n",
              "        -1.83903531, -1.47289983, -2.10838633, -1.74340082, -1.91162861,\n",
              "        -1.92539564, -1.5439671 , -1.98048827, -1.58496227, -2.0139558 ,\n",
              "        -2.08333544, -1.58496227, -1.85703272, -2.0978321 , -1.95147416]),\n",
              " 'std_test_score': array([1.067047  , 1.03571179, 0.95276526, 0.92692088, 1.06709445,\n",
              "        1.03072094, 0.96333582, 0.95261906, 1.09543995, 1.02452501,\n",
              "        1.05014081, 1.00547521, 1.04223673, 1.08794726, 0.96985113,\n",
              "        1.04536835, 1.0763312 , 0.86654364, 1.02891238, 1.02856313,\n",
              "        1.01459426, 1.00473259, 1.08937242, 1.07786285, 0.95307272,\n",
              "        0.9601726 , 1.07168738, 1.07989708, 1.03571179, 1.08492626,\n",
              "        0.94924063, 1.07786285, 0.95886724, 1.00547521, 0.94993851,\n",
              "        1.07045403, 1.04398392, 1.04145646, 0.98905343, 1.09361561,\n",
              "        1.05143801, 1.07089627, 0.94321706, 1.01978477, 1.00464399,\n",
              "        1.08987362, 0.95090003, 1.01970098, 1.02856313, 0.89588118,\n",
              "        0.95247135, 0.94191373, 1.07108009, 0.92606332, 1.05006542,\n",
              "        1.01889899, 1.10182182, 1.07108009, 1.08000288, 0.95135202,\n",
              "        1.01719849, 1.08546913, 1.00206927, 1.06709445, 1.00504172,\n",
              "        1.01822731, 0.85876972, 1.04643452, 1.07045403, 0.93911415,\n",
              "        0.94565199, 0.97957557, 1.07827689, 1.02891238, 0.85877856,\n",
              "        0.92692088, 1.05668378, 1.07827689, 0.85885604, 1.00309188,\n",
              "        0.95261906, 0.99436573, 1.10797487, 1.00181004, 1.07574861,\n",
              "        1.08229788, 0.94196146, 1.09511061, 0.86598639, 0.99436573,\n",
              "        1.02033036, 1.01889899, 1.03158828, 0.96764514, 1.07159029,\n",
              "        1.10781077, 0.96764514, 1.09317067, 1.04964265, 1.05917901]),\n",
              " 'rank_test_score': array([ 81,  51,   7,   9,  78,  58,  42,   5,  27,  64,  95,  69,  62,\n",
              "        100,  45,  75,  41,  48,  67,  46,  14,  72,  90,  28,  44,  43,\n",
              "         83,  98,  51,  99,   1,  28,  22,  69,  18,  31,  77,  63,  55,\n",
              "         39,  96,  86,  19,  16,  36,  92,  25,  17,  46,  50,  24,   3,\n",
              "         84,   8,  94,  11,  88,  84,  30,  23,  57,  60,  38,  78,  71,\n",
              "         15,  54,  74,  31,   2,  26,  40,  34,  67,  56,   9,  87,  34,\n",
              "         53,  13,   5,  65,  91,  37,  33,  59,   4,  97,  49,  66,  73,\n",
              "         11,  80,  20,  82,  89,  20,  61,  93,  76], dtype=int32),\n",
              " 'split0_train_score': array([-1.47461792e+00, -1.11075473e+00, -9.44467132e-01, -6.15762751e-01,\n",
              "        -1.45473059e+00, -1.16322012e+00, -3.78565492e-14, -9.40477364e-01,\n",
              "        -7.89809591e-01, -1.34345274e+00, -1.09165222e+00, -1.24890899e+00,\n",
              "        -1.11713933e+00, -1.69253779e+00, -1.82661059e-14, -1.39095592e+00,\n",
              "        -8.54948987e-01, -7.08317460e-01, -1.34469350e+00, -9.55699576e-01,\n",
              "        -1.25956661e+00, -1.24890899e+00, -1.61295649e+00, -8.39987675e-01,\n",
              "        -8.07378855e-15, -6.54245185e-01, -3.41148148e-01, -1.70219533e+00,\n",
              "        -1.11075473e+00, -1.68249165e+00, -8.91741842e-01, -8.39987675e-01,\n",
              "        -9.65169964e-01, -1.24890899e+00, -7.90297617e-01, -7.92366700e-01,\n",
              "        -1.33740556e+00, -1.34775683e+00, -5.31750928e-01, -8.00640610e-01,\n",
              "        -1.09165222e+00, -3.41148148e-01, -7.66356060e-01, -1.25699593e+00,\n",
              "        -6.24330576e-01, -1.67910039e+00, -9.69886146e-01, -1.25739378e+00,\n",
              "        -9.55699576e-01, -7.48502646e-01, -9.72703922e-01, -8.83387228e-01,\n",
              "        -3.41148148e-01, -6.34877483e-01, -1.09165222e+00, -1.25710979e+00,\n",
              "        -1.62010019e+00, -3.41148148e-01, -8.37502461e-01, -9.72680776e-01,\n",
              "        -5.21165212e-01, -1.16269172e+00, -6.21982963e-01, -1.45473059e+00,\n",
              "        -1.24890899e+00, -1.26895420e+00, -7.39857143e-01, -1.37926304e+00,\n",
              "        -7.92366700e-01, -8.93953182e-01, -9.66396479e-01, -6.30896014e-01,\n",
              "        -8.42424981e-01, -1.34469350e+00, -7.39857143e-01, -6.15762751e-01,\n",
              "        -3.82507055e-01, -8.42424981e-01, -7.39857143e-01, -1.25311012e+00,\n",
              "        -9.40477364e-01, -1.24790429e+00, -1.63226553e+00, -6.19220225e-01,\n",
              "        -7.89902655e-01, -1.16287796e+00, -8.87227966e-01, -1.68739041e+00,\n",
              "        -7.08317460e-01, -1.24790429e+00, -1.36816639e+00, -1.25710979e+00,\n",
              "        -1.01445166e+00, -1.10693183e+00, -3.41148148e-01, -1.62685127e+00,\n",
              "        -1.10693183e+00, -4.60730807e-14, -1.09165222e+00, -1.32799498e+00]),\n",
              " 'split1_train_score': array([-1.26618594e+00, -9.77776400e-01, -6.92976105e-01, -4.56732910e-01,\n",
              "        -1.25923698e+00, -1.01703894e+00, -3.60276183e-14, -6.93631952e-01,\n",
              "        -6.36057686e-01, -1.09273150e+00, -6.92319585e-01, -7.67452658e-01,\n",
              "        -7.10264282e-01, -1.46345065e+00, -1.81970841e-14, -1.16235592e+00,\n",
              "        -7.21569190e-01, -4.44192828e-01, -1.09200710e+00, -8.13479103e-01,\n",
              "        -9.36813489e-01, -7.67452658e-01, -1.40677360e+00, -6.77182657e-01,\n",
              "        -7.44495588e-15, -4.99527725e-01, -5.12761199e-01, -1.50504104e+00,\n",
              "        -9.77776400e-01, -1.45921263e+00, -6.53317122e-01, -6.77182657e-01,\n",
              "        -7.84667818e-01, -7.67452658e-01, -6.24873747e-01, -6.15392332e-01,\n",
              "        -1.14925371e+00, -1.06938013e+00, -4.37053731e-01, -6.38713604e-01,\n",
              "        -6.92319585e-01, -5.12749912e-01, -6.22786184e-01, -9.36301151e-01,\n",
              "        -5.12058178e-01, -1.45753950e+00, -7.88221703e-01, -9.36508649e-01,\n",
              "        -8.13479103e-01, -6.06913286e-01, -7.86584026e-01, -6.58723913e-01,\n",
              "        -5.12760917e-01, -4.76099526e-01, -6.92319585e-01, -9.34802461e-01,\n",
              "        -1.42626288e+00, -5.12760917e-01, -6.77921981e-01, -7.85786316e-01,\n",
              "        -4.28513104e-01, -9.53245295e-01, -5.09760116e-01, -1.25923698e+00,\n",
              "        -7.67452658e-01, -9.65097913e-01, -4.51196684e-01, -1.14889701e+00,\n",
              "        -6.15392332e-01, -6.64971204e-01, -7.94081133e-01, -5.22859612e-01,\n",
              "        -6.74396513e-01, -1.09200710e+00, -4.51195944e-01, -4.56732910e-01,\n",
              "        -5.33808032e-01, -6.74396513e-01, -4.51196355e-01, -9.46325602e-01,\n",
              "        -6.93631952e-01, -7.82976762e-01, -1.40894430e+00, -5.14767011e-01,\n",
              "        -6.28887584e-01, -9.48788423e-01, -6.52326478e-01, -1.46270586e+00,\n",
              "        -4.44191675e-01, -7.82976762e-01, -1.09809645e+00, -9.34802461e-01,\n",
              "        -8.32404822e-01, -8.19916779e-01, -5.12760191e-01, -1.42897719e+00,\n",
              "        -8.19916779e-01, -4.18818419e-14, -6.92319585e-01, -1.15179092e+00]),\n",
              " 'split2_train_score': array([-1.51273957e+00, -1.14404369e+00, -9.77492418e-01, -6.15973439e-01,\n",
              "        -1.50950768e+00, -1.19789389e+00, -3.87993576e-14, -9.76250705e-01,\n",
              "        -7.87464111e-01, -1.35363891e+00, -1.27657382e+00, -1.31757732e+00,\n",
              "        -1.30429945e+00, -1.72726601e+00, -1.86261941e-14, -1.42502943e+00,\n",
              "        -9.07040193e-01, -7.07370370e-01, -1.34840732e+00, -9.70897612e-01,\n",
              "        -1.28338385e+00, -1.31757732e+00, -1.65115342e+00, -8.64915535e-01,\n",
              "        -8.21946861e-15, -5.75227778e-01, -4.74938272e-01, -1.68503802e+00,\n",
              "        -1.14404369e+00, -1.71591590e+00, -9.26429249e-01, -8.64915535e-01,\n",
              "        -1.03751097e+00, -1.31757732e+00, -8.21939783e-01, -8.18071466e-01,\n",
              "        -1.36911041e+00, -1.33122260e+00, -5.11081588e-01, -7.92455151e-01,\n",
              "        -1.29749478e+00, -4.74938272e-01, -8.07244773e-01, -1.33262952e+00,\n",
              "        -6.40895279e-01, -1.71171642e+00, -1.03395126e+00, -1.33248516e+00,\n",
              "        -9.70897612e-01, -8.81716931e-01, -1.03252650e+00, -9.30625654e-01,\n",
              "        -4.74938272e-01, -6.64555702e-01, -1.27657382e+00, -1.27724038e+00,\n",
              "        -1.63800989e+00, -4.74938272e-01, -8.69754086e-01, -1.03349691e+00,\n",
              "        -5.43691543e-01, -1.15292497e+00, -6.42775577e-01, -1.50950768e+00,\n",
              "        -1.31757732e+00, -1.30386614e+00, -7.53326321e-01, -1.41204074e+00,\n",
              "        -8.18071466e-01, -9.38357422e-01, -1.03955473e+00, -6.42286161e-01,\n",
              "        -8.66365725e-01, -1.34840732e+00, -7.53326321e-01, -6.15973439e-01,\n",
              "        -5.34477561e-01, -8.66365725e-01, -7.53326321e-01, -1.29114640e+00,\n",
              "        -9.76250705e-01, -1.32304969e+00, -1.65653113e+00, -6.45632463e-01,\n",
              "        -7.90309393e-01, -1.15345740e+00, -9.25605673e-01, -1.71554890e+00,\n",
              "        -7.07370370e-01, -1.32304969e+00, -1.37433294e+00, -1.27724038e+00,\n",
              "        -9.90476522e-01, -1.18259149e+00, -4.74938272e-01, -1.64698086e+00,\n",
              "        -1.18259149e+00, -4.76256307e-14, -1.27657382e+00, -1.37183114e+00]),\n",
              " 'split3_train_score': array([-1.45848480e+00, -1.09448835e+00, -8.83516196e-01, -5.49576825e-01,\n",
              "        -1.45178688e+00, -1.16887377e+00, -1.48148148e-04, -8.82021488e-01,\n",
              "        -8.03309060e-01, -1.27034761e+00, -6.14367347e-01, -1.13064676e+00,\n",
              "        -1.03218304e+00, -1.64508150e+00, -2.96296296e-04, -1.33451266e+00,\n",
              "        -8.76496617e-01, -6.67857143e-01, -1.27360536e+00, -9.20160780e-01,\n",
              "        -1.15381193e+00, -1.13064676e+00, -1.60285859e+00, -8.48519864e-01,\n",
              "        -2.96296296e-04, -5.65758201e-01, -3.53661376e-01, -1.66103987e+00,\n",
              "        -1.09448835e+00, -1.64492104e+00, -8.45058682e-01, -8.48519864e-01,\n",
              "        -8.90699846e-01, -1.13064676e+00, -7.28121251e-01, -8.36382735e-01,\n",
              "        -1.32259858e+00, -1.27487904e+00, -5.06528545e-01, -8.15494326e-01,\n",
              "        -6.30709395e-01, -3.53661376e-01, -7.24998124e-01, -1.17465329e+00,\n",
              "        -6.22583104e-01, -1.64280889e+00, -8.88204635e-01, -1.17464989e+00,\n",
              "        -9.20160780e-01, -7.13052910e-01, -8.92499733e-01, -8.47718642e-01,\n",
              "        -3.53661376e-01, -6.06535236e-01, -6.14367347e-01, -1.15647911e+00,\n",
              "        -1.58117763e+00, -3.53661376e-01, -8.43001094e-01, -8.93646497e-01,\n",
              "        -5.35451587e-01, -1.13445153e+00, -6.22456164e-01, -1.45178688e+00,\n",
              "        -1.13064676e+00, -1.16864040e+00, -6.76470312e-01, -1.32467854e+00,\n",
              "        -8.36382735e-01, -8.54337734e-01, -8.95463749e-01, -6.23121711e-01,\n",
              "        -8.48484131e-01, -1.27360536e+00, -6.76470312e-01, -5.49576825e-01,\n",
              "        -4.03870014e-01, -8.48484131e-01, -6.76470312e-01, -1.14616425e+00,\n",
              "        -8.82021488e-01, -1.13892836e+00, -1.58729712e+00, -6.18467163e-01,\n",
              "        -7.97836598e-01, -1.12923435e+00, -8.50083940e-01, -1.65057073e+00,\n",
              "        -6.67857143e-01, -1.13892836e+00, -1.30007410e+00, -1.15647911e+00,\n",
              "        -9.00419870e-01, -1.01230734e+00, -3.53661376e-01, -1.59505294e+00,\n",
              "        -1.01230734e+00, -4.41774777e-14, -6.14367347e-01, -1.30718723e+00]),\n",
              " 'split4_train_score': array([-1.52889494e+00, -1.13756785e+00, -9.75538087e-01, -6.23247090e-01,\n",
              "        -1.52666222e+00, -1.20366305e+00, -9.52380956e-06, -9.79586535e-01,\n",
              "        -8.06995078e-01, -1.33667847e+00, -1.26327018e+00, -1.34783296e+00,\n",
              "        -1.27806761e+00, -1.75484907e+00, -1.90476191e-05, -1.40814097e+00,\n",
              "        -8.94527462e-01, -7.54014462e-01, -1.33105289e+00, -9.96249430e-01,\n",
              "        -1.27124790e+00, -1.34783296e+00, -1.68188112e+00, -8.80519526e-01,\n",
              "        -8.25823830e-15, -5.98746561e-01, -5.12165785e-01, -1.74342046e+00,\n",
              "        -1.13756785e+00, -1.75032267e+00, -9.18040048e-01, -8.80519526e-01,\n",
              "        -1.02830192e+00, -1.34783296e+00, -8.08735057e-01, -8.27709522e-01,\n",
              "        -1.41014349e+00, -1.39263030e+00, -5.48335014e-01, -8.19751568e-01,\n",
              "        -1.29749746e+00, -5.12165785e-01, -8.04188840e-01, -1.28378168e+00,\n",
              "        -6.52443092e-01, -1.74649476e+00, -1.01548581e+00, -1.28411670e+00,\n",
              "        -9.96249430e-01, -9.03249931e-01, -1.01374987e+00, -9.16023869e-01,\n",
              "        -5.12165785e-01, -6.62836625e-01, -1.26327018e+00, -1.27072259e+00,\n",
              "        -1.69100263e+00, -5.12165785e-01, -8.86392592e-01, -1.01667450e+00,\n",
              "        -5.69026658e-01, -1.17296868e+00, -6.51177788e-01, -1.52666222e+00,\n",
              "        -1.34783296e+00, -1.29253915e+00, -8.39027830e-01, -1.40113154e+00,\n",
              "        -8.27709522e-01, -9.20521314e-01, -1.02795549e+00, -6.45086896e-01,\n",
              "        -8.84421025e-01, -1.33105289e+00, -8.39024081e-01, -6.23247090e-01,\n",
              "        -5.95205361e-01, -8.84421025e-01, -8.39021763e-01, -1.26085695e+00,\n",
              "        -9.79586535e-01, -1.37042261e+00, -1.70485329e+00, -6.51336680e-01,\n",
              "        -8.02990645e-01, -1.16868112e+00, -9.20897219e-01, -1.74883277e+00,\n",
              "        -7.54016296e-01, -1.37042261e+00, -1.35967527e+00, -1.27072259e+00,\n",
              "        -1.05552629e+00, -1.16310498e+00, -5.12165785e-01, -1.70370687e+00,\n",
              "        -1.16310498e+00, -4.62404953e-14, -1.26327018e+00, -1.41109955e+00]),\n",
              " 'split5_train_score': array([-1.49277451e+00, -1.15944149e+00, -9.47757869e-01, -5.83908413e-01,\n",
              "        -1.49948887e+00, -1.20432030e+00, -9.52380953e-05, -9.50993811e-01,\n",
              "        -7.87983263e-01, -1.35567101e+00, -7.69269547e-01, -1.31298821e+00,\n",
              "        -1.27756106e+00, -1.73120699e+00, -1.81656571e-14, -1.41373200e+00,\n",
              "        -8.90277927e-01, -7.53409171e-01, -1.34867849e+00, -9.71933820e-01,\n",
              "        -1.24622335e+00, -1.31298821e+00, -1.66871667e+00, -8.67929499e-01,\n",
              "        -8.16601343e-15, -6.21323280e-01, -3.99474427e-01, -1.73828158e+00,\n",
              "        -1.15944149e+00, -1.72533485e+00, -8.80866353e-01, -8.67929499e-01,\n",
              "        -9.45446835e-01, -1.31298821e+00, -7.67039256e-01, -7.88353736e-01,\n",
              "        -1.38496189e+00, -1.39506172e+00, -5.45948664e-01, -7.99865371e-01,\n",
              "        -7.82564416e-01, -3.99475838e-01, -7.54321275e-01, -1.27506259e+00,\n",
              "        -6.65485150e-01, -1.72706750e+00, -9.45886323e-01, -1.27591675e+00,\n",
              "        -9.71933820e-01, -7.94554674e-01, -9.49588035e-01, -8.89947573e-01,\n",
              "        -3.99472451e-01, -6.35773898e-01, -7.69269547e-01, -1.25654373e+00,\n",
              "        -1.68068619e+00, -3.99472451e-01, -8.67473044e-01, -9.49329935e-01,\n",
              "        -5.57690679e-01, -1.14685999e+00, -6.61879899e-01, -1.49948887e+00,\n",
              "        -1.31298821e+00, -1.26494172e+00, -7.75552868e-01, -1.41090908e+00,\n",
              "        -7.88353736e-01, -8.97018770e-01, -9.48227691e-01, -6.71248148e-01,\n",
              "        -8.64046220e-01, -1.34867849e+00, -7.75552868e-01, -5.83908413e-01,\n",
              "        -4.38694297e-01, -8.64046220e-01, -7.75552868e-01, -1.24529406e+00,\n",
              "        -9.50993811e-01, -1.36323453e+00, -1.67633238e+00, -6.62197943e-01,\n",
              "        -7.88754265e-01, -1.14531485e+00, -9.01566363e-01, -1.73789764e+00,\n",
              "        -7.53409171e-01, -1.36323453e+00, -1.36051038e+00, -1.25654373e+00,\n",
              "        -9.68466233e-01, -1.09556948e+00, -3.99476442e-01, -1.68699077e+00,\n",
              "        -1.09556948e+00, -4.22583779e-14, -7.69269547e-01, -1.37275813e+00]),\n",
              " 'split6_train_score': array([-1.50398290e+00, -1.17194050e+00, -9.70123097e-01, -5.52020582e-01,\n",
              "        -1.51117687e+00, -1.22283825e+00, -9.52380953e-05, -9.72744195e-01,\n",
              "        -8.04788562e-01, -1.33699226e+00, -8.12483266e-01, -1.26695288e+00,\n",
              "        -1.25987386e+00, -1.72133214e+00, -1.75582652e-14, -1.36871893e+00,\n",
              "        -9.13853039e-01, -7.18973545e-01, -1.32989944e+00, -1.00888223e+00,\n",
              "        -1.26153181e+00, -1.26695288e+00, -1.66116670e+00, -8.93955278e-01,\n",
              "        -8.39804416e-15, -6.24490265e-01, -4.91576720e-01, -1.72858942e+00,\n",
              "        -1.17194050e+00, -1.71418850e+00, -9.36108882e-01, -8.93955278e-01,\n",
              "        -9.78662529e-01, -1.26695288e+00, -7.56874314e-01, -8.06177829e-01,\n",
              "        -1.44050510e+00, -1.33353342e+00, -5.35729767e-01, -8.06112803e-01,\n",
              "        -8.44738194e-01, -4.91576720e-01, -7.29623554e-01, -1.28895647e+00,\n",
              "        -6.54896549e-01, -1.70542063e+00, -9.90039369e-01, -1.28864067e+00,\n",
              "        -1.00888223e+00, -8.85111111e-01, -9.85358811e-01, -9.24211159e-01,\n",
              "        -4.91576720e-01, -5.96278310e-01, -8.12483266e-01, -1.26389869e+00,\n",
              "        -1.63908493e+00, -4.91576720e-01, -8.90226252e-01, -9.84313532e-01,\n",
              "        -5.40535238e-01, -1.20694400e+00, -6.51525741e-01, -1.51117687e+00,\n",
              "        -1.26695288e+00, -1.28831215e+00, -7.61742931e-01, -1.35835206e+00,\n",
              "        -8.06177829e-01, -9.31854056e-01, -9.85749889e-01, -6.64622628e-01,\n",
              "        -8.96405724e-01, -1.32989944e+00, -7.61742931e-01, -5.52020582e-01,\n",
              "        -5.82594560e-01, -8.96405724e-01, -7.61742931e-01, -1.25755931e+00,\n",
              "        -9.72744195e-01, -1.31846053e+00, -1.67279020e+00, -6.49312493e-01,\n",
              "        -8.08549996e-01, -1.20207155e+00, -9.24633470e-01, -1.71767076e+00,\n",
              "        -7.18973545e-01, -1.31846053e+00, -1.33688217e+00, -1.26389869e+00,\n",
              "        -9.98937494e-01, -1.18194199e+00, -4.91576720e-01, -1.66020473e+00,\n",
              "        -1.18194199e+00, -4.37897807e-14, -8.12483266e-01, -1.42219002e+00]),\n",
              " 'split7_train_score': array([-1.43655741e+00, -1.07979317e+00, -9.05399501e-01, -5.50617407e-01,\n",
              "        -1.41752319e+00, -1.13037346e+00, -3.88416518e-14, -9.02959621e-01,\n",
              "        -7.67225946e-01, -1.33048355e+00, -5.39556983e-01, -1.19936684e+00,\n",
              "        -1.12792786e+00, -1.66624072e+00, -1.80364248e-14, -1.37938640e+00,\n",
              "        -8.17749778e-01, -7.47608466e-01, -1.33151553e+00, -9.26417754e-01,\n",
              "        -1.16439294e+00, -1.19936684e+00, -1.63665131e+00, -8.15523775e-01,\n",
              "        -8.22240571e-15, -6.19645820e-01, -3.66277014e-01, -1.60809048e+00,\n",
              "        -1.07979317e+00, -1.65730533e+00, -8.57968319e-01, -8.15523775e-01,\n",
              "        -9.18927341e-01, -1.19936684e+00, -7.38528272e-01, -7.60180267e-01,\n",
              "        -1.30480459e+00, -1.31166101e+00, -5.17690068e-01, -7.61892706e-01,\n",
              "        -5.79772861e-01, -3.66281129e-01, -7.14853144e-01, -1.21998340e+00,\n",
              "        -6.09859271e-01, -1.65987829e+00, -9.03830401e-01, -1.22006851e+00,\n",
              "        -9.26417754e-01, -7.89195767e-01, -8.95115725e-01, -8.60059771e-01,\n",
              "        -3.66275944e-01, -5.91136977e-01, -5.39556983e-01, -1.16566331e+00,\n",
              "        -1.61988577e+00, -3.66275944e-01, -8.14843864e-01, -8.96022641e-01,\n",
              "        -5.48854894e-01, -1.08044789e+00, -6.09140614e-01, -1.41752319e+00,\n",
              "        -1.19936684e+00, -1.18505982e+00, -7.64663527e-01, -1.38050552e+00,\n",
              "        -7.60180267e-01, -8.69635020e-01, -9.11549442e-01, -6.16218607e-01,\n",
              "        -8.17937619e-01, -1.33151553e+00, -7.64663527e-01, -5.50617407e-01,\n",
              "        -4.66873390e-01, -8.17937619e-01, -7.64663527e-01, -1.16706578e+00,\n",
              "        -9.02959621e-01, -1.22208172e+00, -1.63554208e+00, -6.10815952e-01,\n",
              "        -7.74911049e-01, -1.07435449e+00, -8.58488037e-01, -1.67158515e+00,\n",
              "        -7.47608466e-01, -1.22208172e+00, -1.35015261e+00, -1.16566331e+00,\n",
              "        -8.85718096e-01, -1.08837168e+00, -3.66280071e-01, -1.63414106e+00,\n",
              "        -1.08837168e+00, -4.52395323e-14, -5.39556983e-01, -1.30249595e+00]),\n",
              " 'split8_train_score': array([-1.51047688e+00, -1.13816094e+00, -9.40919629e-01, -6.12930106e-01,\n",
              "        -1.51098119e+00, -1.22714205e+00, -3.74447680e-14, -9.44298071e-01,\n",
              "        -7.71971536e-01, -1.32231189e+00, -1.11962568e+00, -1.19142777e+00,\n",
              "        -1.12766007e+00, -1.73366886e+00, -1.80452361e-14, -1.36416487e+00,\n",
              "        -8.62588251e-01, -6.96724868e-01, -1.32099132e+00, -9.90350213e-01,\n",
              "        -1.23818338e+00, -1.19142777e+00, -1.69172503e+00, -8.42046672e-01,\n",
              "        -8.25001443e-15, -6.43770317e-01, -3.47238095e-01, -1.71697680e+00,\n",
              "        -1.13816094e+00, -1.73706442e+00, -9.14091674e-01, -8.42046672e-01,\n",
              "        -9.82789658e-01, -1.19142777e+00, -7.76429784e-01, -7.79283653e-01,\n",
              "        -1.39585000e+00, -1.34032994e+00, -5.46793952e-01, -7.63738638e-01,\n",
              "        -1.12600186e+00, -3.47238095e-01, -7.61252764e-01, -1.26933417e+00,\n",
              "        -6.42019436e-01, -1.72883836e+00, -9.64790688e-01, -1.26942304e+00,\n",
              "        -9.90350213e-01, -7.59989418e-01, -9.54970216e-01, -8.95437548e-01,\n",
              "        -3.47238095e-01, -6.38950374e-01, -1.11962568e+00, -1.24230510e+00,\n",
              "        -1.69604011e+00, -3.47238095e-01, -8.40505654e-01, -9.56184144e-01,\n",
              "        -5.81041772e-01, -1.16401130e+00, -6.39884360e-01, -1.51098119e+00,\n",
              "        -1.19142777e+00, -1.25676485e+00, -7.43224800e-01, -1.35251410e+00,\n",
              "        -7.79283653e-01, -9.04903590e-01, -9.64641059e-01, -6.37853016e-01,\n",
              "        -8.34340844e-01, -1.32099132e+00, -7.43224800e-01, -6.12930106e-01,\n",
              "        -3.97636742e-01, -8.34340844e-01, -7.43224800e-01, -1.23818165e+00,\n",
              "        -9.44298071e-01, -1.19662906e+00, -1.68719405e+00, -6.43964339e-01,\n",
              "        -7.76783856e-01, -1.15843286e+00, -8.96134967e-01, -1.74616183e+00,\n",
              "        -6.96724868e-01, -1.19662906e+00, -1.33192833e+00, -1.24230510e+00,\n",
              "        -9.89556261e-01, -1.10068265e+00, -3.47238095e-01, -1.69402381e+00,\n",
              "        -1.10068265e+00, -4.34326296e-14, -1.11962568e+00, -1.37987920e+00]),\n",
              " 'split9_train_score': array([-1.52448417e+00, -1.16070340e+00, -9.58239331e-01, -6.26573175e-01,\n",
              "        -1.50151239e+00, -1.22407779e+00, -7.93650797e-06, -9.58178264e-01,\n",
              "        -8.20706105e-01, -1.35576553e+00, -1.19232867e+00, -1.31833993e+00,\n",
              "        -1.23094691e+00, -1.71205098e+00, -1.83665546e-14, -1.44763929e+00,\n",
              "        -8.83138054e-01, -7.17641975e-01, -1.35250251e+00, -1.01230038e+00,\n",
              "        -1.25852186e+00, -1.31833993e+00, -1.70787983e+00, -8.70043000e-01,\n",
              "        -8.31639284e-15, -6.86802487e-01, -4.46761905e-01, -1.68569029e+00,\n",
              "        -1.16070340e+00, -1.71371646e+00, -9.23654001e-01, -8.70043000e-01,\n",
              "        -1.01105530e+00, -1.31833993e+00, -8.04366389e-01, -8.39185152e-01,\n",
              "        -1.40192822e+00, -1.37011831e+00, -5.30490764e-01, -8.30124601e-01,\n",
              "        -1.22282691e+00, -4.46761905e-01, -7.77213352e-01, -1.30269378e+00,\n",
              "        -6.65712269e-01, -1.71886557e+00, -1.00310978e+00, -1.30303828e+00,\n",
              "        -1.01230038e+00, -8.44528219e-01, -1.00109664e+00, -9.10942609e-01,\n",
              "        -4.46761905e-01, -6.48688166e-01, -1.19232867e+00, -1.26288972e+00,\n",
              "        -1.68153113e+00, -4.46761905e-01, -8.74512938e-01, -1.00145874e+00,\n",
              "        -5.50287178e-01, -1.21111107e+00, -6.64225201e-01, -1.50151239e+00,\n",
              "        -1.31833993e+00, -1.27658615e+00, -7.56811162e-01, -1.43667549e+00,\n",
              "        -8.39185152e-01, -9.20327575e-01, -1.00444498e+00, -6.79534374e-01,\n",
              "        -8.73877201e-01, -1.35250251e+00, -7.56811162e-01, -6.26573175e-01,\n",
              "        -5.28592593e-01, -8.73877201e-01, -7.56811162e-01, -1.26315450e+00,\n",
              "        -9.58178264e-01, -1.34889079e+00, -1.69186474e+00, -6.72132050e-01,\n",
              "        -8.17431723e-01, -1.21035131e+00, -9.01645165e-01, -1.73468894e+00,\n",
              "        -7.17641975e-01, -1.34889079e+00, -1.37157310e+00, -1.26288972e+00,\n",
              "        -1.07846266e+00, -1.14891804e+00, -4.46761905e-01, -1.69723664e+00,\n",
              "        -1.14891804e+00, -4.51784406e-14, -1.19232867e+00, -1.39911888e+00]),\n",
              " 'mean_train_score': array([-1.47091991e+00, -1.11746705e+00, -9.19642936e-01, -5.78734270e-01,\n",
              "        -1.46426068e+00, -1.17594416e+00, -3.56084656e-05, -9.20114201e-01,\n",
              "        -7.77631094e-01, -1.30980735e+00, -9.37144730e-01, -1.21014943e+00,\n",
              "        -1.14659235e+00, -1.68476847e+00, -3.15343916e-05, -1.36946364e+00,\n",
              "        -8.62218950e-01, -6.91611029e-01, -1.30733535e+00, -9.56637089e-01,\n",
              "        -1.20736771e+00, -1.21014943e+00, -1.63217628e+00, -8.40062348e-01,\n",
              "        -2.96296296e-05, -6.08953762e-01, -4.24600294e-01, -1.67743633e+00,\n",
              "        -1.11746705e+00, -1.68004735e+00, -8.74727617e-01, -8.40062348e-01,\n",
              "        -9.54323217e-01, -1.21014943e+00, -7.61720547e-01, -7.86310339e-01,\n",
              "        -1.35165615e+00, -1.31665733e+00, -5.21140302e-01, -7.82878938e-01,\n",
              "        -9.56557768e-01, -4.24599718e-01, -7.46283807e-01, -1.23403920e+00,\n",
              "        -6.29028290e-01, -1.67777303e+00, -9.50340612e-01, -1.23422414e+00,\n",
              "        -9.56637089e-01, -7.92681489e-01, -9.48419347e-01, -8.71707797e-01,\n",
              "        -4.24599961e-01, -6.15573230e-01, -9.37144730e-01, -1.20876549e+00,\n",
              "        -1.62737814e+00, -4.24599961e-01, -8.40213397e-01, -9.48959399e-01,\n",
              "        -5.37625787e-01, -1.13856565e+00, -6.27480842e-01, -1.46426068e+00,\n",
              "        -1.21014943e+00, -1.22707625e+00, -7.26187358e-01, -1.36049671e+00,\n",
              "        -7.86310339e-01, -8.79587987e-01, -9.53806464e-01, -6.33372717e-01,\n",
              "        -8.40269998e-01, -1.30733535e+00, -7.26186909e-01, -5.78734270e-01,\n",
              "        -4.86425961e-01, -8.40269998e-01, -7.26186718e-01, -1.20688586e+00,\n",
              "        -9.20114201e-01, -1.23125783e+00, -1.63536148e+00, -6.28784632e-01,\n",
              "        -7.77635776e-01, -1.13535643e+00, -8.71860928e-01, -1.68730530e+00,\n",
              "        -6.91611097e-01, -1.23125783e+00, -1.32513917e+00, -1.20876549e+00,\n",
              "        -9.71441990e-01, -1.09003363e+00, -4.24600700e-01, -1.63741661e+00,\n",
              "        -1.09003363e+00, -4.45897287e-14, -9.37144730e-01, -1.34463460e+00]),\n",
              " 'std_train_score': array([7.37426214e-02, 5.44454438e-02, 8.07799576e-02, 5.04604900e-02,\n",
              "        7.57756049e-02, 6.06068555e-02, 5.25000250e-05, 8.11786096e-02,\n",
              "        4.96488519e-02, 7.61529980e-02, 2.66417677e-01, 1.61330503e-01,\n",
              "        1.68613289e-01, 8.01914123e-02, 8.84364905e-05, 7.57355936e-02,\n",
              "        5.38149428e-02, 8.63764179e-02, 7.49524231e-02, 5.63114894e-02,\n",
              "        9.92513777e-02, 1.61330503e-01, 8.14486042e-02, 5.83452978e-02,\n",
              "        8.88888889e-05, 4.99141068e-02, 6.70562195e-02, 6.91179316e-02,\n",
              "        5.44454438e-02, 8.02192674e-02, 7.92280886e-02, 5.83452978e-02,\n",
              "        7.16201907e-02, 1.61330503e-01, 5.39759341e-02, 6.19728525e-02,\n",
              "        7.83699211e-02, 8.92850169e-02, 3.13418611e-02, 5.24227582e-02,\n",
              "        2.66661234e-01, 6.70543248e-02, 5.06829642e-02, 1.07587911e-01,\n",
              "        4.27959104e-02, 7.96320976e-02, 6.96509212e-02, 1.07582106e-01,\n",
              "        5.63114894e-02, 8.67587145e-02, 6.94798399e-02, 7.53901133e-02,\n",
              "        6.70563495e-02, 5.24985200e-02, 2.66417677e-01, 9.99444027e-02,\n",
              "        7.58141529e-02, 6.70563495e-02, 5.86713948e-02, 6.98858583e-02,\n",
              "        3.97322031e-02, 7.09681432e-02, 4.27912712e-02, 7.57756049e-02,\n",
              "        1.61330503e-01, 9.70901086e-02, 9.90745545e-02, 7.71562144e-02,\n",
              "        6.19728525e-02, 7.58082520e-02, 6.88797610e-02, 4.17101611e-02,\n",
              "        5.96626278e-02, 7.49524231e-02, 9.90743331e-02, 5.04604900e-02,\n",
              "        7.45467387e-02, 5.96626278e-02, 9.90739549e-02, 9.66966259e-02,\n",
              "        8.11786096e-02, 1.66641339e-01, 8.23532410e-02, 4.23798636e-02,\n",
              "        5.11461055e-02, 7.17417475e-02, 7.71500688e-02, 8.11269027e-02,\n",
              "        8.63768804e-02, 1.66641339e-01, 7.86496399e-02, 9.99444027e-02,\n",
              "        7.31797673e-02, 1.02595198e-01, 6.70557456e-02, 7.72072590e-02,\n",
              "        1.02595198e-01, 1.72706352e-15, 2.66417677e-01, 7.53772302e-02])}"
            ]
          },
          "metadata": {},
          "execution_count": 62
        }
      ],
      "source": [
        "rf_random.cv_results_"
      ]
    },
    {
      "cell_type": "markdown",
      "metadata": {
        "id": "xOmY3s1pot5q"
      },
      "source": [
        "GradientBoostingRegressor as a Machine Learning model"
      ]
    },
    {
      "cell_type": "code",
      "execution_count": null,
      "metadata": {
        "id": "0skDDn2NovEa"
      },
      "outputs": [],
      "source": [
        "from sklearn.ensemble import GradientBoostingRegressor"
      ]
    },
    {
      "cell_type": "code",
      "source": [
        "gbr_params = {'n_estimators':100,\n",
        "          'max_depth':5,\n",
        "          'min_samples_split':2,\n",
        "          'learning_rate': 0.01,\n",
        "          'loss':'squared_error'}\n",
        "# Create an instance of gradient boosting regressor\n",
        "gbr = GradientBoostingRegressor(**gbr_params)\n",
        "# Fit the model\n",
        "gbr.fit(x_train, y_train)\n",
        "# Print Coefficient of determination R^2\n",
        "accuracy_score=gbr.score(x_test, y_test)\n",
        "mse = mean_squared_error(y_test, gbr.predict(x_test))\n",
        "print('training model accuracy is:',gbr.score(x_train, y_train))\n",
        "print('model accuracy is:',accuracy_score)\n",
        "print(\"The mean squared error (MSE) on test set: {:.4f}\".format(mse))"
      ],
      "metadata": {
        "colab": {
          "base_uri": "https://localhost:8080/"
        },
        "id": "4f0_WkZPkxLS",
        "outputId": "bd17fc49-4c18-45fd-dade-7511dd67e5f0"
      },
      "execution_count": null,
      "outputs": [
        {
          "output_type": "stream",
          "name": "stdout",
          "text": [
            "training model accuracy is: 0.8512019909946282\n",
            "model accuracy is: 0.715300320738356\n",
            "The mean squared error (MSE) on test set: 18.2925\n"
          ]
        }
      ]
    },
    {
      "cell_type": "markdown",
      "source": [
        "**Model analysis using deep learning module Keras**"
      ],
      "metadata": {
        "id": "d5HUpssRLuaJ"
      }
    },
    {
      "cell_type": "code",
      "source": [
        "!pip install tensorflow"
      ],
      "metadata": {
        "colab": {
          "base_uri": "https://localhost:8080/"
        },
        "id": "_0_xEAHm9pI-",
        "outputId": "a5fdc0f6-97a6-45d0-c9fe-d29294e5eca8"
      },
      "execution_count": null,
      "outputs": [
        {
          "output_type": "stream",
          "name": "stdout",
          "text": [
            "Looking in indexes: https://pypi.org/simple, https://us-python.pkg.dev/colab-wheels/public/simple/\n",
            "Requirement already satisfied: tensorflow in /usr/local/lib/python3.7/dist-packages (2.9.2)\n",
            "Requirement already satisfied: termcolor>=1.1.0 in /usr/local/lib/python3.7/dist-packages (from tensorflow) (2.0.1)\n",
            "Requirement already satisfied: protobuf<3.20,>=3.9.2 in /usr/local/lib/python3.7/dist-packages (from tensorflow) (3.17.3)\n",
            "Requirement already satisfied: packaging in /usr/local/lib/python3.7/dist-packages (from tensorflow) (21.3)\n",
            "Requirement already satisfied: absl-py>=1.0.0 in /usr/local/lib/python3.7/dist-packages (from tensorflow) (1.3.0)\n",
            "Requirement already satisfied: tensorboard<2.10,>=2.9 in /usr/local/lib/python3.7/dist-packages (from tensorflow) (2.9.1)\n",
            "Requirement already satisfied: google-pasta>=0.1.1 in /usr/local/lib/python3.7/dist-packages (from tensorflow) (0.2.0)\n",
            "Requirement already satisfied: wrapt>=1.11.0 in /usr/local/lib/python3.7/dist-packages (from tensorflow) (1.14.1)\n",
            "Requirement already satisfied: typing-extensions>=3.6.6 in /usr/local/lib/python3.7/dist-packages (from tensorflow) (4.1.1)\n",
            "Requirement already satisfied: setuptools in /usr/local/lib/python3.7/dist-packages (from tensorflow) (57.4.0)\n",
            "Requirement already satisfied: astunparse>=1.6.0 in /usr/local/lib/python3.7/dist-packages (from tensorflow) (1.6.3)\n",
            "Requirement already satisfied: numpy>=1.20 in /usr/local/lib/python3.7/dist-packages (from tensorflow) (1.21.6)\n",
            "Requirement already satisfied: keras-preprocessing>=1.1.1 in /usr/local/lib/python3.7/dist-packages (from tensorflow) (1.1.2)\n",
            "Requirement already satisfied: flatbuffers<2,>=1.12 in /usr/local/lib/python3.7/dist-packages (from tensorflow) (1.12)\n",
            "Requirement already satisfied: keras<2.10.0,>=2.9.0rc0 in /usr/local/lib/python3.7/dist-packages (from tensorflow) (2.9.0)\n",
            "Requirement already satisfied: gast<=0.4.0,>=0.2.1 in /usr/local/lib/python3.7/dist-packages (from tensorflow) (0.4.0)\n",
            "Requirement already satisfied: tensorflow-estimator<2.10.0,>=2.9.0rc0 in /usr/local/lib/python3.7/dist-packages (from tensorflow) (2.9.0)\n",
            "Requirement already satisfied: libclang>=13.0.0 in /usr/local/lib/python3.7/dist-packages (from tensorflow) (14.0.6)\n",
            "Requirement already satisfied: tensorflow-io-gcs-filesystem>=0.23.1 in /usr/local/lib/python3.7/dist-packages (from tensorflow) (0.27.0)\n",
            "Requirement already satisfied: h5py>=2.9.0 in /usr/local/lib/python3.7/dist-packages (from tensorflow) (3.1.0)\n",
            "Requirement already satisfied: six>=1.12.0 in /usr/local/lib/python3.7/dist-packages (from tensorflow) (1.15.0)\n",
            "Requirement already satisfied: opt-einsum>=2.3.2 in /usr/local/lib/python3.7/dist-packages (from tensorflow) (3.3.0)\n",
            "Requirement already satisfied: grpcio<2.0,>=1.24.3 in /usr/local/lib/python3.7/dist-packages (from tensorflow) (1.49.1)\n",
            "Requirement already satisfied: wheel<1.0,>=0.23.0 in /usr/local/lib/python3.7/dist-packages (from astunparse>=1.6.0->tensorflow) (0.37.1)\n",
            "Requirement already satisfied: cached-property in /usr/local/lib/python3.7/dist-packages (from h5py>=2.9.0->tensorflow) (1.5.2)\n",
            "Requirement already satisfied: google-auth<3,>=1.6.3 in /usr/local/lib/python3.7/dist-packages (from tensorboard<2.10,>=2.9->tensorflow) (1.35.0)\n",
            "Requirement already satisfied: tensorboard-data-server<0.7.0,>=0.6.0 in /usr/local/lib/python3.7/dist-packages (from tensorboard<2.10,>=2.9->tensorflow) (0.6.1)\n",
            "Requirement already satisfied: requests<3,>=2.21.0 in /usr/local/lib/python3.7/dist-packages (from tensorboard<2.10,>=2.9->tensorflow) (2.23.0)\n",
            "Requirement already satisfied: werkzeug>=1.0.1 in /usr/local/lib/python3.7/dist-packages (from tensorboard<2.10,>=2.9->tensorflow) (1.0.1)\n",
            "Requirement already satisfied: tensorboard-plugin-wit>=1.6.0 in /usr/local/lib/python3.7/dist-packages (from tensorboard<2.10,>=2.9->tensorflow) (1.8.1)\n",
            "Requirement already satisfied: google-auth-oauthlib<0.5,>=0.4.1 in /usr/local/lib/python3.7/dist-packages (from tensorboard<2.10,>=2.9->tensorflow) (0.4.6)\n",
            "Requirement already satisfied: markdown>=2.6.8 in /usr/local/lib/python3.7/dist-packages (from tensorboard<2.10,>=2.9->tensorflow) (3.4.1)\n",
            "Requirement already satisfied: pyasn1-modules>=0.2.1 in /usr/local/lib/python3.7/dist-packages (from google-auth<3,>=1.6.3->tensorboard<2.10,>=2.9->tensorflow) (0.2.8)\n",
            "Requirement already satisfied: rsa<5,>=3.1.4 in /usr/local/lib/python3.7/dist-packages (from google-auth<3,>=1.6.3->tensorboard<2.10,>=2.9->tensorflow) (4.9)\n",
            "Requirement already satisfied: cachetools<5.0,>=2.0.0 in /usr/local/lib/python3.7/dist-packages (from google-auth<3,>=1.6.3->tensorboard<2.10,>=2.9->tensorflow) (4.2.4)\n",
            "Requirement already satisfied: requests-oauthlib>=0.7.0 in /usr/local/lib/python3.7/dist-packages (from google-auth-oauthlib<0.5,>=0.4.1->tensorboard<2.10,>=2.9->tensorflow) (1.3.1)\n",
            "Requirement already satisfied: importlib-metadata>=4.4 in /usr/local/lib/python3.7/dist-packages (from markdown>=2.6.8->tensorboard<2.10,>=2.9->tensorflow) (4.13.0)\n",
            "Requirement already satisfied: zipp>=0.5 in /usr/local/lib/python3.7/dist-packages (from importlib-metadata>=4.4->markdown>=2.6.8->tensorboard<2.10,>=2.9->tensorflow) (3.9.0)\n",
            "Requirement already satisfied: pyasn1<0.5.0,>=0.4.6 in /usr/local/lib/python3.7/dist-packages (from pyasn1-modules>=0.2.1->google-auth<3,>=1.6.3->tensorboard<2.10,>=2.9->tensorflow) (0.4.8)\n",
            "Requirement already satisfied: certifi>=2017.4.17 in /usr/local/lib/python3.7/dist-packages (from requests<3,>=2.21.0->tensorboard<2.10,>=2.9->tensorflow) (2022.9.24)\n",
            "Requirement already satisfied: urllib3!=1.25.0,!=1.25.1,<1.26,>=1.21.1 in /usr/local/lib/python3.7/dist-packages (from requests<3,>=2.21.0->tensorboard<2.10,>=2.9->tensorflow) (1.24.3)\n",
            "Requirement already satisfied: idna<3,>=2.5 in /usr/local/lib/python3.7/dist-packages (from requests<3,>=2.21.0->tensorboard<2.10,>=2.9->tensorflow) (2.10)\n",
            "Requirement already satisfied: chardet<4,>=3.0.2 in /usr/local/lib/python3.7/dist-packages (from requests<3,>=2.21.0->tensorboard<2.10,>=2.9->tensorflow) (3.0.4)\n",
            "Requirement already satisfied: oauthlib>=3.0.0 in /usr/local/lib/python3.7/dist-packages (from requests-oauthlib>=0.7.0->google-auth-oauthlib<0.5,>=0.4.1->tensorboard<2.10,>=2.9->tensorflow) (3.2.1)\n",
            "Requirement already satisfied: pyparsing!=3.0.5,>=2.0.2 in /usr/local/lib/python3.7/dist-packages (from packaging->tensorflow) (3.0.9)\n"
          ]
        }
      ]
    },
    {
      "cell_type": "code",
      "source": [
        "!pip install q keras"
      ],
      "metadata": {
        "colab": {
          "base_uri": "https://localhost:8080/"
        },
        "id": "ph2ik6pu_p8G",
        "outputId": "68a4d800-44d3-4b06-d570-fce314d2d8b2"
      },
      "execution_count": null,
      "outputs": [
        {
          "output_type": "stream",
          "name": "stdout",
          "text": [
            "Looking in indexes: https://pypi.org/simple, https://us-python.pkg.dev/colab-wheels/public/simple/\n",
            "Collecting q\n",
            "  Downloading q-2.7-py2.py3-none-any.whl (10 kB)\n",
            "Requirement already satisfied: keras in /usr/local/lib/python3.7/dist-packages (2.9.0)\n",
            "Installing collected packages: q\n",
            "Successfully installed q-2.7\n"
          ]
        }
      ]
    },
    {
      "cell_type": "code",
      "source": [
        "from math import sqrt\n",
        "from tensorflow import keras\n",
        "from keras.models import Sequential\n",
        "from keras.layers import Dense\n"
      ],
      "metadata": {
        "id": "f7ScCs237s87"
      },
      "execution_count": null,
      "outputs": []
    },
    {
      "cell_type": "code",
      "source": [
        "# Define model\n",
        "model = Sequential()\n",
        "model.add(Dense(500, input_dim=6, activation= \"relu\"))\n",
        "model.add(Dense(100, activation= \"relu\"))\n",
        "model.add(Dense(50, activation= \"relu\"))\n",
        "model.add(Dense(1))\n",
        "#model.summary() #Print model Summary"
      ],
      "metadata": {
        "id": "yszqLhgsAZpl"
      },
      "execution_count": null,
      "outputs": []
    },
    {
      "cell_type": "code",
      "source": [
        "model.compile(loss= \"mean_squared_error\",optimizer=\"adam\",metrics=[\"mean_squared_error\"])\n",
        "model.fit(x_train,y_train,epochs=50)"
      ],
      "metadata": {
        "colab": {
          "base_uri": "https://localhost:8080/"
        },
        "id": "j-_5Qr4gChFl",
        "outputId": "5c16ce08-b9c8-4830-f068-e3236165234a"
      },
      "execution_count": null,
      "outputs": [
        {
          "output_type": "stream",
          "name": "stdout",
          "text": [
            "Epoch 1/50\n",
            "7/7 [==============================] - 0s 3ms/step - loss: 1.0213 - mean_squared_error: 1.0213\n",
            "Epoch 2/50\n",
            "7/7 [==============================] - 0s 3ms/step - loss: 0.9230 - mean_squared_error: 0.9230\n",
            "Epoch 3/50\n",
            "7/7 [==============================] - 0s 3ms/step - loss: 0.8119 - mean_squared_error: 0.8119\n",
            "Epoch 4/50\n",
            "7/7 [==============================] - 0s 3ms/step - loss: 0.5741 - mean_squared_error: 0.5741\n",
            "Epoch 5/50\n",
            "7/7 [==============================] - 0s 3ms/step - loss: 0.5830 - mean_squared_error: 0.5830\n",
            "Epoch 6/50\n",
            "7/7 [==============================] - 0s 3ms/step - loss: 0.5495 - mean_squared_error: 0.5495\n",
            "Epoch 7/50\n",
            "7/7 [==============================] - 0s 3ms/step - loss: 0.5619 - mean_squared_error: 0.5619\n",
            "Epoch 8/50\n",
            "7/7 [==============================] - 0s 4ms/step - loss: 0.7070 - mean_squared_error: 0.7070\n",
            "Epoch 9/50\n",
            "7/7 [==============================] - 0s 3ms/step - loss: 0.5731 - mean_squared_error: 0.5731\n",
            "Epoch 10/50\n",
            "7/7 [==============================] - 0s 3ms/step - loss: 0.5775 - mean_squared_error: 0.5775\n",
            "Epoch 11/50\n",
            "7/7 [==============================] - 0s 3ms/step - loss: 0.5381 - mean_squared_error: 0.5381\n",
            "Epoch 12/50\n",
            "7/7 [==============================] - 0s 3ms/step - loss: 0.5930 - mean_squared_error: 0.5930\n",
            "Epoch 13/50\n",
            "7/7 [==============================] - 0s 3ms/step - loss: 0.4862 - mean_squared_error: 0.4862\n",
            "Epoch 14/50\n",
            "7/7 [==============================] - 0s 3ms/step - loss: 0.4698 - mean_squared_error: 0.4698\n",
            "Epoch 15/50\n",
            "7/7 [==============================] - 0s 3ms/step - loss: 0.5713 - mean_squared_error: 0.5713\n",
            "Epoch 16/50\n",
            "7/7 [==============================] - 0s 3ms/step - loss: 0.5023 - mean_squared_error: 0.5023\n",
            "Epoch 17/50\n",
            "7/7 [==============================] - 0s 3ms/step - loss: 0.6001 - mean_squared_error: 0.6001\n",
            "Epoch 18/50\n",
            "7/7 [==============================] - 0s 3ms/step - loss: 0.5704 - mean_squared_error: 0.5704\n",
            "Epoch 19/50\n",
            "7/7 [==============================] - 0s 3ms/step - loss: 0.5687 - mean_squared_error: 0.5687\n",
            "Epoch 20/50\n",
            "7/7 [==============================] - 0s 3ms/step - loss: 0.5260 - mean_squared_error: 0.5260\n",
            "Epoch 21/50\n",
            "7/7 [==============================] - 0s 4ms/step - loss: 0.5256 - mean_squared_error: 0.5256\n",
            "Epoch 22/50\n",
            "7/7 [==============================] - 0s 3ms/step - loss: 0.5182 - mean_squared_error: 0.5182\n",
            "Epoch 23/50\n",
            "7/7 [==============================] - 0s 4ms/step - loss: 0.4905 - mean_squared_error: 0.4905\n",
            "Epoch 24/50\n",
            "7/7 [==============================] - 0s 3ms/step - loss: 0.4950 - mean_squared_error: 0.4950\n",
            "Epoch 25/50\n",
            "7/7 [==============================] - 0s 3ms/step - loss: 0.4592 - mean_squared_error: 0.4592\n",
            "Epoch 26/50\n",
            "7/7 [==============================] - 0s 3ms/step - loss: 0.4558 - mean_squared_error: 0.4558\n",
            "Epoch 27/50\n",
            "7/7 [==============================] - 0s 3ms/step - loss: 0.4118 - mean_squared_error: 0.4118\n",
            "Epoch 28/50\n",
            "7/7 [==============================] - 0s 3ms/step - loss: 0.4930 - mean_squared_error: 0.4930\n",
            "Epoch 29/50\n",
            "7/7 [==============================] - 0s 3ms/step - loss: 0.5389 - mean_squared_error: 0.5389\n",
            "Epoch 30/50\n",
            "7/7 [==============================] - 0s 3ms/step - loss: 0.6041 - mean_squared_error: 0.6041\n",
            "Epoch 31/50\n",
            "7/7 [==============================] - 0s 3ms/step - loss: 0.6083 - mean_squared_error: 0.6083\n",
            "Epoch 32/50\n",
            "7/7 [==============================] - 0s 3ms/step - loss: 0.5178 - mean_squared_error: 0.5178\n",
            "Epoch 33/50\n",
            "7/7 [==============================] - 0s 3ms/step - loss: 0.4806 - mean_squared_error: 0.4806\n",
            "Epoch 34/50\n",
            "7/7 [==============================] - 0s 4ms/step - loss: 0.4933 - mean_squared_error: 0.4933\n",
            "Epoch 35/50\n",
            "7/7 [==============================] - 0s 3ms/step - loss: 0.5605 - mean_squared_error: 0.5605\n",
            "Epoch 36/50\n",
            "7/7 [==============================] - 0s 3ms/step - loss: 0.6786 - mean_squared_error: 0.6786\n",
            "Epoch 37/50\n",
            "7/7 [==============================] - 0s 3ms/step - loss: 0.8935 - mean_squared_error: 0.8935\n",
            "Epoch 38/50\n",
            "7/7 [==============================] - 0s 3ms/step - loss: 0.6209 - mean_squared_error: 0.6209\n",
            "Epoch 39/50\n",
            "7/7 [==============================] - 0s 3ms/step - loss: 0.8588 - mean_squared_error: 0.8588\n",
            "Epoch 40/50\n",
            "7/7 [==============================] - 0s 3ms/step - loss: 0.5113 - mean_squared_error: 0.5113\n",
            "Epoch 41/50\n",
            "7/7 [==============================] - 0s 3ms/step - loss: 0.4534 - mean_squared_error: 0.4534\n",
            "Epoch 42/50\n",
            "7/7 [==============================] - 0s 3ms/step - loss: 0.4381 - mean_squared_error: 0.4381\n",
            "Epoch 43/50\n",
            "7/7 [==============================] - 0s 3ms/step - loss: 0.3637 - mean_squared_error: 0.3637\n",
            "Epoch 44/50\n",
            "7/7 [==============================] - 0s 3ms/step - loss: 0.4265 - mean_squared_error: 0.4265\n",
            "Epoch 45/50\n",
            "7/7 [==============================] - 0s 3ms/step - loss: 0.4433 - mean_squared_error: 0.4433\n",
            "Epoch 46/50\n",
            "7/7 [==============================] - 0s 3ms/step - loss: 0.4699 - mean_squared_error: 0.4699\n",
            "Epoch 47/50\n",
            "7/7 [==============================] - 0s 3ms/step - loss: 0.4255 - mean_squared_error: 0.4255\n",
            "Epoch 48/50\n",
            "7/7 [==============================] - 0s 3ms/step - loss: 0.4914 - mean_squared_error: 0.4914\n",
            "Epoch 49/50\n",
            "7/7 [==============================] - 0s 3ms/step - loss: 0.4217 - mean_squared_error: 0.4217\n",
            "Epoch 50/50\n",
            "7/7 [==============================] - 0s 3ms/step - loss: 0.4211 - mean_squared_error: 0.4211\n"
          ]
        },
        {
          "output_type": "execute_result",
          "data": {
            "text/plain": [
              "<keras.callbacks.History at 0x7f9f7c13f9d0>"
            ]
          },
          "metadata": {},
          "execution_count": 96
        }
      ]
    },
    {
      "cell_type": "code",
      "source": [
        "pred_train= model.predict(x_train)\n",
        "\n",
        "print(np.sqrt(mean_squared_error(y_train,pred_train)))\n",
        "\n",
        "pred= model.predict(x_test)\n",
        "print(np.sqrt(mean_squared_error(y_test,pred))) "
      ],
      "metadata": {
        "colab": {
          "base_uri": "https://localhost:8080/"
        },
        "id": "1c9ryUGmDDHH",
        "outputId": "e34b7d26-1bca-47fc-dfc4-b0dd914cedc3"
      },
      "execution_count": null,
      "outputs": [
        {
          "output_type": "stream",
          "name": "stdout",
          "text": [
            "7/7 [==============================] - 0s 2ms/step\n",
            "0.6792106882048433\n",
            "3/3 [==============================] - 0s 3ms/step\n",
            "1.9295481677930713\n"
          ]
        }
      ]
    },
    {
      "cell_type": "code",
      "source": [],
      "metadata": {
        "id": "MlLIO6S3NwX-"
      },
      "execution_count": null,
      "outputs": []
    }
  ],
  "metadata": {
    "colab": {
      "provenance": [],
      "collapsed_sections": []
    },
    "kernelspec": {
      "display_name": "Python 3",
      "name": "python3"
    },
    "language_info": {
      "name": "python"
    },
    "accelerator": "GPU"
  },
  "nbformat": 4,
  "nbformat_minor": 0
}